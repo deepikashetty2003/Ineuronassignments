{
  "nbformat": 4,
  "nbformat_minor": 0,
  "metadata": {
    "colab": {
      "provenance": []
    },
    "kernelspec": {
      "name": "python3",
      "display_name": "Python 3"
    },
    "language_info": {
      "name": "python"
    }
  },
  "cells": [
    {
      "cell_type": "markdown",
      "source": [
        "1. What exactly is [ ]?\n",
        "- Empty list:   my_list = [ ]"
      ],
      "metadata": {
        "id": "HAFZ6Wou3W7T"
      }
    },
    {
      "cell_type": "markdown",
      "source": [
        "2. In a list of values stored in a variable called spam, how would you assign the value 'hello' as the third value? (Assume [2, 4, 6, 8, 10] are in spam.)\n",
        "Let's pretend the spam includes the list ['a', 'b', 'c', 'd'] for the next three queries."
      ],
      "metadata": {
        "id": "eblINFbE3bxq"
      }
    },
    {
      "cell_type": "code",
      "source": [
        "spam = [2,4,6,8,10]\n",
        "spam[2] = \"hello\""
      ],
      "metadata": {
        "id": "V1LUl1sRoP3P"
      },
      "execution_count": null,
      "outputs": []
    },
    {
      "cell_type": "code",
      "source": [
        "spam"
      ],
      "metadata": {
        "colab": {
          "base_uri": "https://localhost:8080/"
        },
        "id": "9bqZXFv7ogzl",
        "outputId": "6b22a76e-84c5-481a-d4a1-524738fb0aa5"
      },
      "execution_count": null,
      "outputs": [
        {
          "output_type": "execute_result",
          "data": {
            "text/plain": [
              "[2, 4, 'hello', 8, 10]"
            ]
          },
          "metadata": {},
          "execution_count": 2
        }
      ]
    },
    {
      "cell_type": "markdown",
      "source": [
        "3. What is the value of spam[int(int('3' * 2) / 11)]?"
      ],
      "metadata": {
        "id": "T6-henu93gno"
      }
    },
    {
      "cell_type": "markdown",
      "source": [
        "- spam[int(int('3' * 2) / 11)] : the value spam is not specified in the question"
      ],
      "metadata": {
        "id": "Iaz0rOPp-NFW"
      }
    },
    {
      "cell_type": "code",
      "source": [
        "spam[int(int('3' * 2) / 11)] "
      ],
      "metadata": {
        "colab": {
          "base_uri": "https://localhost:8080/"
        },
        "id": "6FOYJb1so42d",
        "outputId": "e3e68bd0-aa2f-4977-e2da-b9e2d463cdb4"
      },
      "execution_count": null,
      "outputs": [
        {
          "output_type": "execute_result",
          "data": {
            "text/plain": [
              "8"
            ]
          },
          "metadata": {},
          "execution_count": 3
        }
      ]
    },
    {
      "cell_type": "markdown",
      "source": [
        "4. What is the value of spam[-1]?"
      ],
      "metadata": {
        "id": "tEXlPHd43c6Q"
      }
    },
    {
      "cell_type": "code",
      "source": [
        "# beolow is the example for and spam is a list\n",
        "spam=[5,4,3,2,1]\n",
        "spam[-1]"
      ],
      "metadata": {
        "colab": {
          "base_uri": "https://localhost:8080/"
        },
        "id": "srlniNIf-iD0",
        "outputId": "c02cb3dc-940f-49f4-c7ed-1977c963dbe7"
      },
      "execution_count": 1,
      "outputs": [
        {
          "output_type": "execute_result",
          "data": {
            "text/plain": [
              "1"
            ]
          },
          "metadata": {},
          "execution_count": 1
        }
      ]
    },
    {
      "cell_type": "markdown",
      "source": [
        "5. What is the value of spam[:2]?\n",
        "Let's pretend bacon has the list [3.14, 'cat,' 11, 'cat,' True] for the next three questions."
      ],
      "metadata": {
        "id": "WGmnlW_Y3cym"
      }
    },
    {
      "cell_type": "code",
      "source": [
        "spam[:2]"
      ],
      "metadata": {
        "colab": {
          "base_uri": "https://localhost:8080/"
        },
        "id": "di2Hz2VR-2ph",
        "outputId": "daf38cfe-83a5-4fd0-ae38-6cec8d3fe651"
      },
      "execution_count": 2,
      "outputs": [
        {
          "output_type": "execute_result",
          "data": {
            "text/plain": [
              "[5, 4]"
            ]
          },
          "metadata": {},
          "execution_count": 2
        }
      ]
    },
    {
      "cell_type": "code",
      "source": [
        "bacon=[3.14, 'cat',11, 'cat', True]"
      ],
      "metadata": {
        "id": "7ONbPeqdqTg4"
      },
      "execution_count": 5,
      "outputs": []
    },
    {
      "cell_type": "markdown",
      "source": [
        "6. What is the value of bacon.index('cat')?"
      ],
      "metadata": {
        "id": "f__snsl63cuZ"
      }
    },
    {
      "cell_type": "code",
      "source": [
        "bacon.index('cat')"
      ],
      "metadata": {
        "colab": {
          "base_uri": "https://localhost:8080/"
        },
        "id": "sstEufWyACrG",
        "outputId": "2d4bf1a9-b913-4e6f-c810-d5711369b4c8"
      },
      "execution_count": 7,
      "outputs": [
        {
          "output_type": "execute_result",
          "data": {
            "text/plain": [
              "1"
            ]
          },
          "metadata": {},
          "execution_count": 7
        }
      ]
    },
    {
      "cell_type": "markdown",
      "source": [
        "7. How does bacon.append(99) change the look of the list value in bacon?\n"
      ],
      "metadata": {
        "id": "4fEqIsw43cs2"
      }
    },
    {
      "cell_type": "code",
      "source": [
        "bacon.append(99)"
      ],
      "metadata": {
        "id": "vHgBzqAcAMt3"
      },
      "execution_count": 8,
      "outputs": []
    },
    {
      "cell_type": "code",
      "source": [
        "bacon"
      ],
      "metadata": {
        "colab": {
          "base_uri": "https://localhost:8080/"
        },
        "id": "AACfHxyGAODf",
        "outputId": "e95242fa-f210-4647-874c-6f2c975e1a0c"
      },
      "execution_count": 9,
      "outputs": [
        {
          "output_type": "execute_result",
          "data": {
            "text/plain": [
              "[3.14, 'cat', 11, 'cat', True, 99]"
            ]
          },
          "metadata": {},
          "execution_count": 9
        }
      ]
    },
    {
      "cell_type": "markdown",
      "source": [
        "8. How does bacon.remove('cat') change the look of the list in bacon?\n"
      ],
      "metadata": {
        "id": "Nvcy2S2l3cpC"
      }
    },
    {
      "cell_type": "code",
      "source": [
        "bacon.remove('cat')"
      ],
      "metadata": {
        "id": "ghYW4nYaATLg"
      },
      "execution_count": 10,
      "outputs": []
    },
    {
      "cell_type": "code",
      "source": [
        "bacon"
      ],
      "metadata": {
        "colab": {
          "base_uri": "https://localhost:8080/"
        },
        "id": "MvuAUqwRAUaQ",
        "outputId": "604d0b74-a382-416e-d657-56d199a4aa5e"
      },
      "execution_count": 11,
      "outputs": [
        {
          "output_type": "execute_result",
          "data": {
            "text/plain": [
              "[3.14, 11, 'cat', True, 99]"
            ]
          },
          "metadata": {},
          "execution_count": 11
        }
      ]
    },
    {
      "cell_type": "markdown",
      "source": [
        "9. What are the list concatenation and list replication operators?\n",
        "- concatenation : The + operator is used to concatenate or combine two lists into a single list\n",
        "- replication : The * operator is used to replicate or repeat a list a certain number of times and it creates a new list by repeating the elements of the original list by the specified number of times."
      ],
      "metadata": {
        "id": "Wib3vqu13cnT"
      }
    },
    {
      "cell_type": "markdown",
      "source": [
        "10. What is difference between the list methods append() and insert()?\n",
        "- append : append method used to add a elements at a end of the list.\n",
        "- insert : insert method used to add a elements at a specific position of the list."
      ],
      "metadata": {
        "id": "1ZCeAd4Q3ciz"
      }
    },
    {
      "cell_type": "markdown",
      "source": [
        "11. What are the two methods for removing items from a list?\n",
        "- remove()\n",
        "- pop()"
      ],
      "metadata": {
        "id": "eev8op6A3chO"
      }
    },
    {
      "cell_type": "markdown",
      "source": [
        "12. Describe how list values and string values are identical.\n",
        "- lists are mutable which can modified by adding, removing, or changing elements.\n",
        "- strings are immutable cannotbe modified once created."
      ],
      "metadata": {
        "id": "gATw0lcE3ccj"
      }
    },
    {
      "cell_type": "markdown",
      "source": [
        "13. What's the difference between tuples and lists?\n",
        "- Tuple are imutable Once a tuple is created, you cannot change its elements. If you need to modify a tuple, you have to create a new tuple with the desired changes.  Tuples are defined using parentheses (())\n",
        "- lists are mutable which can modified by adding, removing, or changing elements. Lists are defined using square brackets ([])"
      ],
      "metadata": {
        "id": "WvJFUk_93ca5"
      }
    },
    {
      "cell_type": "markdown",
      "source": [
        "14. How do you type a tuple value that only contains the integer 42?"
      ],
      "metadata": {
        "id": "4RTME-9v4CG5"
      }
    },
    {
      "cell_type": "code",
      "source": [
        "my_tuple = (42)"
      ],
      "metadata": {
        "id": "H-Ys363rDKKT"
      },
      "execution_count": 13,
      "outputs": []
    },
    {
      "cell_type": "code",
      "source": [
        "my_tuple"
      ],
      "metadata": {
        "colab": {
          "base_uri": "https://localhost:8080/"
        },
        "id": "k_DJvRzPDQ0y",
        "outputId": "ee7eb062-8e21-4f7b-8fcc-8534198ee54e"
      },
      "execution_count": 14,
      "outputs": [
        {
          "output_type": "execute_result",
          "data": {
            "text/plain": [
              "42"
            ]
          },
          "metadata": {},
          "execution_count": 14
        }
      ]
    },
    {
      "cell_type": "markdown",
      "source": [
        "15. How do you get a list value's tuple form? How do you get a tuple value's list form?"
      ],
      "metadata": {
        "id": "B00U3aFH4EWo"
      }
    },
    {
      "cell_type": "code",
      "source": [
        "my_list = [1, 2, 3, 4, 5]\n",
        "my_tuple = tuple(my_list)\n",
        "print(my_tuple)"
      ],
      "metadata": {
        "colab": {
          "base_uri": "https://localhost:8080/"
        },
        "id": "_JQvPO5-DkGE",
        "outputId": "e2eba2d4-9382-4055-8f8b-4af5f6fe17f8"
      },
      "execution_count": 15,
      "outputs": [
        {
          "output_type": "stream",
          "name": "stdout",
          "text": [
            "(1, 2, 3, 4, 5)\n"
          ]
        }
      ]
    },
    {
      "cell_type": "code",
      "source": [
        "my_tuple = [1, 2, 3, 4, 5]\n",
        "my_list = list(my_tuple)\n",
        "print(my_list)"
      ],
      "metadata": {
        "colab": {
          "base_uri": "https://localhost:8080/"
        },
        "id": "_3in9o3sDqVq",
        "outputId": "b360a8e6-4178-4ce3-ffe5-8f8761619fdd"
      },
      "execution_count": 17,
      "outputs": [
        {
          "output_type": "stream",
          "name": "stdout",
          "text": [
            "[1, 2, 3, 4, 5]\n"
          ]
        }
      ]
    },
    {
      "cell_type": "markdown",
      "source": [
        "16. Variables that \"contain\" list values are not necessarily lists themselves. Instead, what do they contain?\n",
        "-  pointer to the list object stored in memory."
      ],
      "metadata": {
        "id": "BXVOIUsw4GV2"
      }
    },
    {
      "cell_type": "markdown",
      "source": [
        "17. How do you distinguish between copy.copy() and copy.deepcopy()?\n",
        "-The copy.copy() function creates a shallow copy of an object. It constructs a new object and populates it with references to the same elements as the original object\n",
        "- The copy.deepcopy() function creates a deep copy of an object. It constructs a new object and recursively copies all the objects found within the original object. "
      ],
      "metadata": {
        "id": "T9WdMlcP4I3b"
      }
    }
  ]
}