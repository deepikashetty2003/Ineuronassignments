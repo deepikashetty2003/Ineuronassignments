{
  "nbformat": 4,
  "nbformat_minor": 0,
  "metadata": {
    "colab": {
      "provenance": []
    },
    "kernelspec": {
      "name": "python3",
      "display_name": "Python 3"
    },
    "language_info": {
      "name": "python"
    }
  },
  "cells": [
    {
      "cell_type": "markdown",
      "source": [
        "Question 1:\n",
        "\n",
        "Please write a program using generator to print the numbers which can be \n",
        "\n",
        "divisible by 5 and 7 between 0 and n in comma separated form while n is input \n",
        "\n",
        "by console.\n",
        "\n",
        "Example:\n",
        "\n",
        "If the following n is given as input to the program:\n",
        "\n",
        "100\n",
        "\n",
        "Then, the output of the program should be:\n",
        "\n",
        "0,35,70"
      ],
      "metadata": {
        "id": "nAHxqhg7E8ZI"
      }
    },
    {
      "cell_type": "code",
      "source": [
        "n = int(input(\"Enter a number: \"))\n",
        "# Generator to generate numbers divisible by 5 and 7\n",
        "numbers_generator = (num for num in range(n + 1) if num % 5 == 0 and num % 7 == 0)\n",
        "# Generate and print the comma-separated numbers\n",
        "result = \",\".join(str(num) for num in numbers_generator)\n",
        "print(result)"
      ],
      "metadata": {
        "colab": {
          "base_uri": "https://localhost:8080/"
        },
        "id": "szMAe3w2FaB9",
        "outputId": "22620bc0-1949-449b-ec04-73c4c832ebf4"
      },
      "execution_count": 1,
      "outputs": [
        {
          "output_type": "stream",
          "name": "stdout",
          "text": [
            "Enter a number: 100\n",
            "0,35,70\n"
          ]
        }
      ]
    },
    {
      "cell_type": "markdown",
      "source": [
        "Question 2:\n",
        "\n",
        "Please write a program using generator to print the even numbers between 0 and \n",
        "\n",
        "n in comma separated form while n is input by console.\n",
        "\n",
        "Example:\n",
        "\n",
        "If the following n is given as input to the program:\n",
        "\n",
        "10\n",
        "\n",
        "Then, the output of the program should be:\n",
        "\n",
        "0,2,4,6,8,10\n",
        "\n"
      ],
      "metadata": {
        "id": "SEXLiR29EbUx"
      }
    },
    {
      "cell_type": "code",
      "source": [
        "n = int(input(\"Enter a number: \"))\n",
        "# Generator to generate even numbers\n",
        "even_generator = (num for num in range(n + 1) if num % 2 == 0)\n",
        "# Generate and print the comma-separated even numbers\n",
        "result = \",\".join(str(num) for num in even_generator)\n",
        "print(result)"
      ],
      "metadata": {
        "colab": {
          "base_uri": "https://localhost:8080/"
        },
        "id": "J9mZqdq4Frd3",
        "outputId": "1749b0f4-2208-4aa1-9c2a-852ebe3bbe0b"
      },
      "execution_count": 2,
      "outputs": [
        {
          "output_type": "stream",
          "name": "stdout",
          "text": [
            "Enter a number: 10\n",
            "0,2,4,6,8,10\n"
          ]
        }
      ]
    },
    {
      "cell_type": "markdown",
      "source": [
        "\n",
        "Question 3:\n",
        "The Fibonacci Sequence is computed based on the following formula:\n",
        "\n",
        "f(n)=0 if n=0\n",
        "\n",
        "f(n)=1 if n=1\n",
        "\n",
        "f(n)=f(n-1)+f(n-2) if n>1\n",
        "\n",
        "Please write a program using list comprehension to print the Fibonacci Sequence \n",
        "in comma separated form with a given n input by console.\n",
        "\n",
        "Example:\n",
        "\n",
        "If the following n is given as input to the program:\n",
        "\n",
        "7\n",
        "\n",
        "Then, the output of the program should be:\n",
        "\n",
        "0,1,1,2,3,5,8,13"
      ],
      "metadata": {
        "id": "oQaVw7C8Es9S"
      }
    },
    {
      "cell_type": "code",
      "source": [
        "n = int(input(\"Enter a number: \"))\n",
        "\n",
        "fibonacci = [0, 1]\n",
        "\n",
        "[fibonacci.append(fibonacci[-1] + fibonacci[-2]) for i in range(n-1) if fibonacci[-1] + fibonacci[-2] <= n]\n",
        "\n",
        "print(*fibonacci, sep=\",\")"
      ],
      "metadata": {
        "colab": {
          "base_uri": "https://localhost:8080/"
        },
        "id": "5OTxCisPGWsH",
        "outputId": "9bc0b9c2-d6d4-48b5-c27d-30e39bd1f872"
      },
      "execution_count": 7,
      "outputs": [
        {
          "output_type": "stream",
          "name": "stdout",
          "text": [
            "Enter a number: 7\n",
            "0,1,1,2,3,5\n"
          ]
        }
      ]
    },
    {
      "cell_type": "markdown",
      "source": [
        "Question 4:\n",
        "Assuming that we have some email addresses in the \"username@companyname.com\" format, please write program to print the user name of a given email address. Both user names and company names are composed of letters only.\n",
        "Example:\n",
        "If the following email address is given as input to the program:\n",
        "john@google.com\n",
        "Then, the output of the program should be:\n",
        "john"
      ],
      "metadata": {
        "id": "UL4MwNRyE22M"
      }
    },
    {
      "cell_type": "code",
      "source": [
        "email = input(\"Enter an email address: \")\n",
        "username = email.split('@')[0]\n",
        "print(username)"
      ],
      "metadata": {
        "colab": {
          "base_uri": "https://localhost:8080/"
        },
        "id": "POfKscxXGte-",
        "outputId": "06adab75-1ad5-4edf-81ad-f92f3e993c6a"
      },
      "execution_count": 9,
      "outputs": [
        {
          "output_type": "stream",
          "name": "stdout",
          "text": [
            "Enter an email address: john@google.com \n",
            "john\n"
          ]
        }
      ]
    },
    {
      "cell_type": "markdown",
      "source": [
        "Question 5:\n",
        "Define a class named Shape and its subclass Square. The Square class has an init function which takes a length as argument. Both classes have a area function which can print the area of the shape where Shape's area is 0 by default.\n",
        "\n",
        "0,35,70"
      ],
      "metadata": {
        "id": "KXlRsasuE5DM"
      }
    },
    {
      "cell_type": "code",
      "source": [
        "class Shape:\n",
        "    def __init__(self):\n",
        "        self.area = 0\n",
        "\n",
        "    def calculate_area(self):\n",
        "        print(\"Area of the shape:\", self.area)\n",
        "\n",
        "\n",
        "class Square(Shape):\n",
        "    def __init__(self, length):\n",
        "        super().__init__()\n",
        "        self.length = length\n",
        "\n",
        "    def calculate_area(self):\n",
        "        self.area = self.length ** 2\n",
        "        print(\"Area of the square:\", self.area)\n",
        "\n",
        "\n",
        "# Example usage\n",
        "shape = Shape()\n",
        "shape.calculate_area()  \n",
        "square = Square(5)\n",
        "square.calculate_area() "
      ],
      "metadata": {
        "colab": {
          "base_uri": "https://localhost:8080/"
        },
        "id": "dkmZwfdTEsCt",
        "outputId": "a0b33eda-688a-4a3e-d3ce-43822746d8e7"
      },
      "execution_count": 10,
      "outputs": [
        {
          "output_type": "stream",
          "name": "stdout",
          "text": [
            "Area of the shape: 0\n",
            "Area of the square: 25\n"
          ]
        }
      ]
    }
  ]
}