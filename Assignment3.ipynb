{
  "nbformat": 4,
  "nbformat_minor": 0,
  "metadata": {
    "colab": {
      "provenance": []
    },
    "kernelspec": {
      "name": "python3",
      "display_name": "Python 3"
    },
    "language_info": {
      "name": "python"
    }
  },
  "cells": [
    {
      "cell_type": "markdown",
      "source": [
        "1. Why are functions advantageous to have in your programs?\n",
        "-  Function are used to increae reusability of code.\n",
        "- Functions helps to test and debug code\n",
        "\n"
      ],
      "metadata": {
        "id": "t9UMuZa_2bXp"
      }
    },
    {
      "cell_type": "markdown",
      "source": [
        "2. When does the code in a function run: when it's specified or when it's called?\n",
        "- The code in a function runs when it is called, not when it is specified. When you define a function, you are essentially creating a reusable block of code that can be executed later by calling the function. The code inside the function is not executed until the function is called."
      ],
      "metadata": {
        "id": "braWFBeT2iNk"
      }
    },
    {
      "cell_type": "markdown",
      "source": [
        "3. What statement creates a function?\n",
        "- def function_name()\n",
        "\n"
      ],
      "metadata": {
        "id": "RH5L69FF2j59"
      }
    },
    {
      "cell_type": "markdown",
      "source": [
        "4. What is the difference between a function and a function call?\n",
        "- Function : It is a block of code and it performs a specific task with input parameters and return value.\n",
        "- function call : Executing function by using its name and providing the required input parameters."
      ],
      "metadata": {
        "id": "OSYK-MXj2nkF"
      }
    },
    {
      "cell_type": "markdown",
      "source": [
        "5. How many global scopes are there in a Python program? How many local scopes?\n",
        "- Only one global scopes and multiple local scopes in a Python program, which are created whenever a function is called\n"
      ],
      "metadata": {
        "id": "VaZ3szYM2pmK"
      }
    },
    {
      "cell_type": "markdown",
      "source": [
        "6. What happens to variables in a local scope when the function call returns?\n",
        "- the local scope is destroyed and all variables defined within that function are also destroyed\n"
      ],
      "metadata": {
        "id": "q0VqDEyV2rrs"
      }
    },
    {
      "cell_type": "markdown",
      "source": [
        "7. What is the concept of a return value? Is it possible to have a return value in an expression?\n",
        "- A return value is the value that a function call evaluates to and \"returns\" to the caller"
      ],
      "metadata": {
        "id": "9Q0hZXhF2tQ7"
      }
    },
    {
      "cell_type": "code",
      "source": [
        "def sub_numbers(x, y):\n",
        "    return x - y\n",
        "ANS = sub_numbers(4,1) * 2\n",
        "print(ANS)"
      ],
      "metadata": {
        "colab": {
          "base_uri": "https://localhost:8080/"
        },
        "id": "Avgjn6q0nEqE",
        "outputId": "9e2a766f-ee9d-43bf-eb15-552d4164ff14"
      },
      "execution_count": 5,
      "outputs": [
        {
          "output_type": "stream",
          "name": "stdout",
          "text": [
            "6\n"
          ]
        }
      ]
    },
    {
      "cell_type": "markdown",
      "source": [
        "8. If a function does not have a return statement, what is the return value of a call to that function?\n",
        "- None\n"
      ],
      "metadata": {
        "id": "8nTyCiMX2vTF"
      }
    },
    {
      "cell_type": "markdown",
      "source": [
        "9. How do you make a function variable refer to the global variable?\n",
        "- We can make using **global** keyword"
      ],
      "metadata": {
        "id": "uh8srTB-2xHw"
      }
    },
    {
      "cell_type": "markdown",
      "source": [
        "10. What is the data type of None?\n",
        "- Nonetype\n"
      ],
      "metadata": {
        "id": "R4R10JpH2y2G"
      }
    },
    {
      "cell_type": "markdown",
      "source": [
        "11. What does the sentence import areallyourpetsnamederic do?\n",
        "- It is try to import a module named \"areallyourpetsnamederic\" in the Python program. If such a module exists, it would be imported and its contents would be available to the program. If it does not exist, a \"ModuleNotFoundError\" exception would be raised."
      ],
      "metadata": {
        "id": "dLVDgVFu20tU"
      }
    },
    {
      "cell_type": "markdown",
      "source": [
        "12. If you had a bacon() feature in a spam module, what would you call it after importing spam?\n",
        "- We can call bacon() feature by using the dot notation after importing the spam"
      ],
      "metadata": {
        "id": "EdW60ROv22Ue"
      }
    },
    {
      "cell_type": "markdown",
      "source": [
        "13. What can you do to save a programme from crashing if it encounters an error?\n",
        "- try and except block"
      ],
      "metadata": {
        "id": "bEcrHicL23-8"
      }
    },
    {
      "cell_type": "markdown",
      "source": [
        "14. What is the purpose of the try clause? What is the purpose of the except clause?\n",
        "- To avoid the errors we use exceptions this exceptions handled by \n",
        "- Try : used to raise an exception.\n",
        "- Exception : executed in case an exception is raised in the try "
      ],
      "metadata": {
        "id": "YXVb_Prl26pG"
      }
    }
  ]
}