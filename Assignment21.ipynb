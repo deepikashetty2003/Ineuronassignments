{
  "nbformat": 4,
  "nbformat_minor": 0,
  "metadata": {
    "colab": {
      "provenance": []
    },
    "kernelspec": {
      "name": "python3",
      "display_name": "Python 3"
    },
    "language_info": {
      "name": "python"
    }
  },
  "cells": [
    {
      "cell_type": "markdown",
      "source": [
        "1. Create an assert statement that throws an AssertionError if the variable spam is a negative integer.\n"
      ],
      "metadata": {
        "id": "R_5peAXv1TAX"
      }
    },
    {
      "cell_type": "code",
      "source": [
        "spam = int(-6) #-6 is negative number\n",
        "\n",
        "# Less than 0 is the error condition, not the expression for assert.\n",
        "assert spam >= 0, 'spam is Negative integer!'"
      ],
      "metadata": {
        "colab": {
          "base_uri": "https://localhost:8080/",
          "height": 200
        },
        "id": "Khq6CRMe2uJl",
        "outputId": "d9fbb3df-031f-4897-99b7-2e20c70e488e"
      },
      "execution_count": null,
      "outputs": [
        {
          "output_type": "error",
          "ename": "AssertionError",
          "evalue": "ignored",
          "traceback": [
            "\u001b[0;31m---------------------------------------------------------------------------\u001b[0m",
            "\u001b[0;31mAssertionError\u001b[0m                            Traceback (most recent call last)",
            "\u001b[0;32m<ipython-input-18-c411b13dd0ef>\u001b[0m in \u001b[0;36m<module>\u001b[0;34m\u001b[0m\n\u001b[1;32m      2\u001b[0m \u001b[0;34m\u001b[0m\u001b[0m\n\u001b[1;32m      3\u001b[0m \u001b[0;31m# Less than 0 is the error condition, not the expression for assert.\u001b[0m\u001b[0;34m\u001b[0m\u001b[0;34m\u001b[0m\u001b[0;34m\u001b[0m\u001b[0m\n\u001b[0;32m----> 4\u001b[0;31m \u001b[0;32massert\u001b[0m \u001b[0mspam\u001b[0m \u001b[0;34m>=\u001b[0m \u001b[0;36m0\u001b[0m\u001b[0;34m,\u001b[0m \u001b[0;34m'spam is Negative integer!'\u001b[0m\u001b[0;34m\u001b[0m\u001b[0;34m\u001b[0m\u001b[0m\n\u001b[0m",
            "\u001b[0;31mAssertionError\u001b[0m: spam is Negative integer!"
          ]
        }
      ]
    },
    {
      "cell_type": "markdown",
      "source": [
        "2. Write an assert statement that triggers an AssertionError if the variables eggs and bacon contain strings that are the same as each other, even if their cases are different (that is, 'hello' and 'hello' are considered the same, and 'goodbye' and 'GOODbye' are also considered the same)."
      ],
      "metadata": {
        "id": "S8l38oyq7mkO"
      }
    },
    {
      "cell_type": "code",
      "source": [
        "eggs = 'hello'\n",
        "bacon = 'HELLO'\n",
        "#here eggs and bacon have same string so it's triggers an AssertionError\n",
        "#Raise an AssertError if they are not different.\n",
        "assert eggs.lower() != bacon.lower(), 'eggs and bacon should not be the same!'\n",
        "print('eggs and bacon strings are diffrent')"
      ],
      "metadata": {
        "colab": {
          "base_uri": "https://localhost:8080/",
          "height": 217
        },
        "id": "pju1dZqX704G",
        "outputId": "297c8fc7-b6ca-4dc4-8c7a-66e9b471f003"
      },
      "execution_count": null,
      "outputs": [
        {
          "output_type": "error",
          "ename": "AssertionError",
          "evalue": "ignored",
          "traceback": [
            "\u001b[0;31m---------------------------------------------------------------------------\u001b[0m",
            "\u001b[0;31mAssertionError\u001b[0m                            Traceback (most recent call last)",
            "\u001b[0;32m<ipython-input-30-1d8181b6313c>\u001b[0m in \u001b[0;36m<module>\u001b[0;34m\u001b[0m\n\u001b[1;32m      3\u001b[0m \u001b[0;31m#here eggs and bacon have same string so it's triggers an AssertionError\u001b[0m\u001b[0;34m\u001b[0m\u001b[0;34m\u001b[0m\u001b[0;34m\u001b[0m\u001b[0m\n\u001b[1;32m      4\u001b[0m \u001b[0;31m#Raise an AssertError if they are not different.\u001b[0m\u001b[0;34m\u001b[0m\u001b[0;34m\u001b[0m\u001b[0;34m\u001b[0m\u001b[0m\n\u001b[0;32m----> 5\u001b[0;31m \u001b[0;32massert\u001b[0m \u001b[0meggs\u001b[0m\u001b[0;34m.\u001b[0m\u001b[0mlower\u001b[0m\u001b[0;34m(\u001b[0m\u001b[0;34m)\u001b[0m \u001b[0;34m!=\u001b[0m \u001b[0mbacon\u001b[0m\u001b[0;34m.\u001b[0m\u001b[0mlower\u001b[0m\u001b[0;34m(\u001b[0m\u001b[0;34m)\u001b[0m\u001b[0;34m,\u001b[0m \u001b[0;34m'eggs and bacon should not be the same!'\u001b[0m\u001b[0;34m\u001b[0m\u001b[0;34m\u001b[0m\u001b[0m\n\u001b[0m\u001b[1;32m      6\u001b[0m \u001b[0mprint\u001b[0m\u001b[0;34m(\u001b[0m\u001b[0;34m'eggs and bacon strings are diffrent'\u001b[0m\u001b[0;34m)\u001b[0m\u001b[0;34m\u001b[0m\u001b[0;34m\u001b[0m\u001b[0m\n",
            "\u001b[0;31mAssertionError\u001b[0m: eggs and bacon should not be the same!"
          ]
        }
      ]
    },
    {
      "cell_type": "code",
      "source": [
        "eggs = 'hello'\n",
        "bacon = 'goodbye'\n",
        "#here eggs and bacon have diffrent  string \n",
        "#Raise an AssertError if they are not different.\n",
        "assert eggs.lower() != bacon.lower(), 'eggs/bacon should not be the same!'\n",
        "print('eggs and bacon strings are diffrent')"
      ],
      "metadata": {
        "colab": {
          "base_uri": "https://localhost:8080/"
        },
        "id": "6KUmWRV39Vmq",
        "outputId": "d15f0bee-b2da-46d7-87f9-44492ed25e09"
      },
      "execution_count": null,
      "outputs": [
        {
          "output_type": "stream",
          "name": "stdout",
          "text": [
            "eggs and bacon strings are diffrent\n"
          ]
        }
      ]
    },
    {
      "cell_type": "markdown",
      "source": [
        "3. Create an assert statement that throws an AssertionError every time.\n"
      ],
      "metadata": {
        "id": "gdshsa09-tR6"
      }
    },
    {
      "cell_type": "code",
      "source": [
        "# assert True, 'Always triggers an AssertionError.'\n",
        "assert True, 'Always triggers an AssertionError.'\n"
      ],
      "metadata": {
        "id": "NQ7V39cO83Si"
      },
      "execution_count": 1,
      "outputs": []
    },
    {
      "cell_type": "markdown",
      "source": [
        "4. What are the two lines that must be present in your software in order to call logging.debug()?\n"
      ],
      "metadata": {
        "id": "P2gmDxv__qE6"
      }
    },
    {
      "cell_type": "code",
      "source": [
        "import logging\n",
        "logging.basicConfig(\n",
        "    filename='programLog.txt',\n",
        "    level=logging.DEBUG,\n",
        "    format='%(asctime)s - %(levelname)s - %(message)s'\n",
        ")\n"
      ],
      "metadata": {
        "id": "3PLcQYqt_oBN"
      },
      "execution_count": null,
      "outputs": []
    },
    {
      "cell_type": "markdown",
      "source": [
        "5. What are the two lines that your program must have in order to have logging.debug() send a logging message to a file named programLog.txt?\n"
      ],
      "metadata": {
        "id": "9usd6NDmAHZh"
      }
    },
    {
      "cell_type": "code",
      "source": [
        "# Test a logging.debug('message')\n",
        "#  2019-08-03 12:24:50,549 - DEBUG - This is a test message.\n",
        "logging.debug('This is a test message.')"
      ],
      "metadata": {
        "id": "qDLHcMx_AFU2"
      },
      "execution_count": null,
      "outputs": []
    },
    {
      "cell_type": "markdown",
      "source": [
        "6. What are the five levels of logging?\n"
      ],
      "metadata": {
        "id": "EKkxcNEWAZnn"
      }
    },
    {
      "cell_type": "markdown",
      "source": [
        "Five levels of loggings are:\n",
        "1. logging.debug() - variable's state and small details\n",
        "2. logging.info() - general events, confirm a program is working\n",
        "3. logging.warning() - potiental problem to work on in the future\n",
        "4. logging.error() - record an error that caused program to fail to do something\n",
        "5. logging.critical() - fatal error that has caused"
      ],
      "metadata": {
        "id": "Gu_CGqLhAzro"
      }
    },
    {
      "cell_type": "markdown",
      "source": [
        "7. What line of code would you add to your software to disable all logging messages?"
      ],
      "metadata": {
        "id": "7z5bJiHoA22m"
      }
    },
    {
      "cell_type": "code",
      "source": [
        "logging.disable(logging.DEBUG)\n"
      ],
      "metadata": {
        "id": "eCosWFkpA93s"
      },
      "execution_count": null,
      "outputs": []
    },
    {
      "cell_type": "markdown",
      "source": [
        "8.Why is using logging messages better than using print() to display the same message?\n"
      ],
      "metadata": {
        "id": "6AAZL8BcBOjj"
      }
    },
    {
      "cell_type": "markdown",
      "source": [
        "Logging meesage is better bthat using print() because with print, when your program is ready for production, you still have to \"remove\" or comment it out. Verses logging message, you can toggle the setting on/off or write to a file (send to a server). It is more flexible especially with logging level 1-5."
      ],
      "metadata": {
        "id": "KzM83nK5BaFW"
      }
    },
    {
      "cell_type": "markdown",
      "source": [
        "9. What are the differences between the Step Over, Step In, and Step Out buttons in the debugger?\n"
      ],
      "metadata": {
        "id": "bQQ6SJLdBxyr"
      }
    },
    {
      "cell_type": "markdown",
      "source": [
        " Step - one line execution at a time\n",
        " Over - excecute the next line of code, but if it is a program, it will\n",
        "       complete the entire function call.\n",
        " out  - execute the lines of code unti it returns from the current function.\n",
        "        (out is useful when you stepped into a function call)."
      ],
      "metadata": {
        "id": "YNnwh14OCFhD"
      }
    },
    {
      "cell_type": "markdown",
      "source": [
        "10.After you click Continue, when will the debugger stop ?\n"
      ],
      "metadata": {
        "id": "2gxfDyl2CH_A"
      }
    },
    {
      "cell_type": "markdown",
      "source": [
        "Go runs until the program terminate or reaches a breakpoint set."
      ],
      "metadata": {
        "id": "OY8Q1IRPCOmQ"
      }
    },
    {
      "cell_type": "markdown",
      "source": [
        "11. What is the concept of a breakpoint?\n"
      ],
      "metadata": {
        "id": "65mbQjMHCUFk"
      }
    },
    {
      "cell_type": "markdown",
      "source": [
        "When you have Debugger enabled and you can right click on any lines to create a breakpoint. During Go - it will stop there and await your next command."
      ],
      "metadata": {
        "id": "GXUL3ihCCcAH"
      }
    }
  ]
}