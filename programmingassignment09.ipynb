{
  "nbformat": 4,
  "nbformat_minor": 0,
  "metadata": {
    "colab": {
      "provenance": []
    },
    "kernelspec": {
      "name": "python3",
      "display_name": "Python 3"
    },
    "language_info": {
      "name": "python"
    }
  },
  "cells": [
    {
      "cell_type": "markdown",
      "source": [
        "1.\tWrite a Python program to check if the given number is a Disarium Number?\n",
        "- A number whose sum of its digits powered with its respective position equals to the number itself is called a disarium number"
      ],
      "metadata": {
        "id": "5lBnhYfHjEcS"
      }
    },
    {
      "cell_type": "code",
      "execution_count": 16,
      "metadata": {
        "id": "JK9raKHzi_fg",
        "colab": {
          "base_uri": "https://localhost:8080/"
        },
        "outputId": "98a3b6b6-5f71-442a-fc17-53c6f23f3ef0"
      },
      "outputs": [
        {
          "output_type": "stream",
          "name": "stdout",
          "text": [
            "Enter a number: 135\n",
            "135 is a Disarium Number\n"
          ]
        }
      ],
      "source": [
        "num = int(input(\"Enter a number: \"))\n",
        "num_str = str(num)\n",
        "length = len(num_str)\n",
        "sum_digits = 0\n",
        "for i in range(length):\n",
        "    sum_digits += int(num_str[i]) ** (i + 1)\n",
        "if sum_digits == num:\n",
        "    print(num, \"is a Disarium Number\")\n",
        "else:\n",
        "    print(num, \"is not a Disarium Number\")"
      ]
    },
    {
      "cell_type": "markdown",
      "source": [
        "2.\tWrite a Python program to print all disarium numbers between 1 to 100?"
      ],
      "metadata": {
        "id": "9ttX_vwrjGkq"
      }
    },
    {
      "cell_type": "code",
      "source": [
        "for num in range(1, 101):\n",
        "    num_str = str(num)\n",
        "    length = len(num_str)\n",
        "    sum_digits = 0\n",
        "    for i in range(length):\n",
        "        sum_digits += int(num_str[i]) ** (i + 1)\n",
        "    if sum_digits == num:\n",
        "        print(num)"
      ],
      "metadata": {
        "id": "jOWqr0-XjPgd",
        "colab": {
          "base_uri": "https://localhost:8080/"
        },
        "outputId": "8d969fa1-eb14-4f37-ce81-8d8a1a82d10f"
      },
      "execution_count": 17,
      "outputs": [
        {
          "output_type": "stream",
          "name": "stdout",
          "text": [
            "1\n",
            "2\n",
            "3\n",
            "4\n",
            "5\n",
            "6\n",
            "7\n",
            "8\n",
            "9\n",
            "89\n"
          ]
        }
      ]
    },
    {
      "cell_type": "markdown",
      "source": [
        "3.\tWrite a Python program to check if the given number is Happy Number?\n",
        "- if it yields 1 when replaced by the sum of squares of its digits repeatedly."
      ],
      "metadata": {
        "id": "Isxu7QHtjIBf"
      }
    },
    {
      "cell_type": "code",
      "source": [
        "num = int(input(\"Enter a number: \"))\n",
        "seen_numbers = set()\n",
        "while num != 1:\n",
        "    num_str = str(num)\n",
        "    num = sum(int(digit) ** 2 for digit in num_str)\n",
        "    if num in seen_numbers:\n",
        "        print(num, \"is not a Happy Number\")\n",
        "        break\n",
        "    seen_numbers.add(num)\n",
        "else:\n",
        "    print(num, \"is a Happy Number\")"
      ],
      "metadata": {
        "id": "LsowLyuHjP7S",
        "colab": {
          "base_uri": "https://localhost:8080/"
        },
        "outputId": "07e3cd00-8ab6-4c58-ee78-cd00338e8b97"
      },
      "execution_count": 18,
      "outputs": [
        {
          "output_type": "stream",
          "name": "stdout",
          "text": [
            "Enter a number: 44\n",
            "1 is a Happy Number\n"
          ]
        }
      ]
    },
    {
      "cell_type": "markdown",
      "source": [
        "4.\tWrite a Python program to print all happy numbers between 1 and 100?"
      ],
      "metadata": {
        "id": "7WeJ6jPBjJYX"
      }
    },
    {
      "cell_type": "code",
      "source": [
        "def is_happy_number(number):\n",
        "    seen_numbers = set()\n",
        "    while number != 1:\n",
        "        number = sum(int(digit) ** 2 for digit in str(number))\n",
        "        if number in seen_numbers:\n",
        "            return False\n",
        "        seen_numbers.add(number)\n",
        "    return True\n",
        "\n",
        "for num in range(1, 101):\n",
        "    if is_happy_number(num):\n",
        "        print(num)"
      ],
      "metadata": {
        "id": "UPYUfv7pjQeT",
        "colab": {
          "base_uri": "https://localhost:8080/"
        },
        "outputId": "d9b96956-dad0-4561-e7f0-2f8584ce1b22"
      },
      "execution_count": 19,
      "outputs": [
        {
          "output_type": "stream",
          "name": "stdout",
          "text": [
            "1\n",
            "7\n",
            "10\n",
            "13\n",
            "19\n",
            "23\n",
            "28\n",
            "31\n",
            "32\n",
            "44\n",
            "49\n",
            "68\n",
            "70\n",
            "79\n",
            "82\n",
            "86\n",
            "91\n",
            "94\n",
            "97\n",
            "100\n"
          ]
        }
      ]
    },
    {
      "cell_type": "markdown",
      "source": [
        "5.\tWrite a Python program to determine whether the given number is a Harshad Number?\n",
        "- a positive integer which is exactly divisible by the sum of its digits"
      ],
      "metadata": {
        "id": "ICErJ4LrjKkx"
      }
    },
    {
      "cell_type": "code",
      "source": [
        "num = int(input(\"Enter a number: \"))\n",
        "sum_digits = sum(int(digit) for digit in str(num))\n",
        "if num % sum_digits == 0:\n",
        "    print(num, \"is a Harshad Number\")\n",
        "else:\n",
        "    print(num, \"is not a Harshad Number\")"
      ],
      "metadata": {
        "id": "swVLPXoLjQ83",
        "colab": {
          "base_uri": "https://localhost:8080/"
        },
        "outputId": "395a656d-a508-4780-ce59-aba96da03422"
      },
      "execution_count": 20,
      "outputs": [
        {
          "output_type": "stream",
          "name": "stdout",
          "text": [
            "Enter a number: 156\n",
            "156 is a Harshad Number\n"
          ]
        }
      ]
    },
    {
      "cell_type": "markdown",
      "source": [
        "6.\tWrite a Python program to print all pronic numbers between 1 and 100?\n",
        "- a product of two consecutive integers of the form: n(n+1)"
      ],
      "metadata": {
        "id": "5pXNsk-TjMum"
      }
    },
    {
      "cell_type": "code",
      "source": [
        "for num in range(1, 101):\n",
        "    is_pronic = False\n",
        "    for i in range(1, int(num ** 0.5) + 1):\n",
        "        if i * (i + 1) == num:\n",
        "            is_pronic = True\n",
        "            break\n",
        "    if is_pronic:\n",
        "        print(num)"
      ],
      "metadata": {
        "id": "6FE2KPAZjRex",
        "colab": {
          "base_uri": "https://localhost:8080/"
        },
        "outputId": "cdeff569-08ee-48af-d1ae-9de234934fbe"
      },
      "execution_count": 21,
      "outputs": [
        {
          "output_type": "stream",
          "name": "stdout",
          "text": [
            "2\n",
            "6\n",
            "12\n",
            "20\n",
            "30\n",
            "42\n",
            "56\n",
            "72\n",
            "90\n"
          ]
        }
      ]
    }
  ]
}