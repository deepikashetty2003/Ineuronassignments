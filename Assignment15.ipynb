{
  "nbformat": 4,
  "nbformat_minor": 0,
  "metadata": {
    "colab": {
      "provenance": []
    },
    "kernelspec": {
      "name": "python3",
      "display_name": "Python 3"
    },
    "language_info": {
      "name": "python"
    }
  },
  "cells": [
    {
      "cell_type": "markdown",
      "source": [
        "1. How many seconds are in an hour? Use the interactive interpreter as a calculator and multiply the number of seconds in a minute (60) by the number of minutes in an hour (also 60).\n",
        "sol. 60 "
      ],
      "metadata": {
        "id": "Ulnqar1SbGGX"
      }
    },
    {
      "cell_type": "code",
      "source": [
        "60*60"
      ],
      "metadata": {
        "colab": {
          "base_uri": "https://localhost:8080/"
        },
        "id": "5HMrFnMlfg8B",
        "outputId": "f0c7d32a-f234-4e90-c49c-46594ba397c3"
      },
      "execution_count": 1,
      "outputs": [
        {
          "output_type": "execute_result",
          "data": {
            "text/plain": [
              "3600"
            ]
          },
          "metadata": {},
          "execution_count": 1
        }
      ]
    },
    {
      "cell_type": "markdown",
      "source": [
        "2. Assign the result from the previous task (seconds in an hour) to a variable called seconds_per_hour."
      ],
      "metadata": {
        "id": "CMzRd0tYbMH2"
      }
    },
    {
      "cell_type": "code",
      "source": [
        "seconds_per_hour = 60 * 60"
      ],
      "metadata": {
        "id": "KQ0K-vADfzZw"
      },
      "execution_count": 2,
      "outputs": []
    },
    {
      "cell_type": "code",
      "source": [
        "seconds_per_hour"
      ],
      "metadata": {
        "colab": {
          "base_uri": "https://localhost:8080/"
        },
        "id": "lf0Y9qsKf1R5",
        "outputId": "063727e8-435b-44b2-e843-4fdbc68bbd72"
      },
      "execution_count": 3,
      "outputs": [
        {
          "output_type": "execute_result",
          "data": {
            "text/plain": [
              "3600"
            ]
          },
          "metadata": {},
          "execution_count": 3
        }
      ]
    },
    {
      "cell_type": "markdown",
      "source": [
        "3. How many seconds do you think there are in a day? Make use of the variables seconds per hour and minutes per hour."
      ],
      "metadata": {
        "id": "uZpOWtt3bMDg"
      }
    },
    {
      "cell_type": "code",
      "source": [
        "seconds_per_minute = 60 * 1  # seconds in an hour\n",
        "seconds_per_hour = seconds_per_minute * 60  # seconds in an hour\n",
        "seconds_per_day = seconds_per_hour * 24  # seconds in a day\n",
        "print(seconds_per_day)"
      ],
      "metadata": {
        "colab": {
          "base_uri": "https://localhost:8080/"
        },
        "id": "9sDq380gf9dD",
        "outputId": "bc63e260-d87b-42f9-ab1b-7b5e1308294b"
      },
      "execution_count": 5,
      "outputs": [
        {
          "output_type": "stream",
          "name": "stdout",
          "text": [
            "86400\n"
          ]
        }
      ]
    },
    {
      "cell_type": "markdown",
      "source": [
        "4. Calculate seconds per day again, but this time save the result in a variable called seconds_per_day"
      ],
      "metadata": {
        "id": "Au9cL9UnbMBr"
      }
    },
    {
      "cell_type": "code",
      "source": [
        "seconds_per_hour = 60 * 60  # seconds in an hour\n",
        "seconds_per_day = seconds_per_hour * 24  # seconds in a day\n",
        "print(seconds_per_day)"
      ],
      "metadata": {
        "colab": {
          "base_uri": "https://localhost:8080/"
        },
        "id": "uZbZR9rBhT95",
        "outputId": "aa8d1801-6e36-47dc-da29-69ada86c97f1"
      },
      "execution_count": 8,
      "outputs": [
        {
          "output_type": "stream",
          "name": "stdout",
          "text": [
            "86400\n"
          ]
        }
      ]
    },
    {
      "cell_type": "markdown",
      "source": [
        "5. Divide seconds_per_day by seconds_per_hour. Use floating-point (/) division."
      ],
      "metadata": {
        "id": "AePSg6IcbL9T"
      }
    },
    {
      "cell_type": "code",
      "source": [
        "seconds_per_hour = 60 * 60  # seconds in an hour\n",
        "seconds_per_day = seconds_per_hour * 24  # seconds in a day\n",
        "\n",
        "result = seconds_per_day / seconds_per_hour\n",
        "print(result)"
      ],
      "metadata": {
        "colab": {
          "base_uri": "https://localhost:8080/"
        },
        "id": "_N5-5RbBhjeX",
        "outputId": "eaac9176-57d2-4d35-d8f3-6a1a043bf37c"
      },
      "execution_count": 9,
      "outputs": [
        {
          "output_type": "stream",
          "name": "stdout",
          "text": [
            "24.0\n"
          ]
        }
      ]
    },
    {
      "cell_type": "markdown",
      "source": [
        "6. Divide seconds_per_day by seconds_per_hour, using integer (//) division. Did this number agree with the floating-point value from the previous question, aside from the final .0?"
      ],
      "metadata": {
        "id": "vajK8KICbL7T"
      }
    },
    {
      "cell_type": "code",
      "source": [
        "seconds_per_hour = 60 * 60  # seconds in an hour\n",
        "seconds_per_day = seconds_per_hour * 24  # seconds in a day\n",
        "\n",
        "result = seconds_per_day // seconds_per_hour\n",
        "print(result)"
      ],
      "metadata": {
        "colab": {
          "base_uri": "https://localhost:8080/"
        },
        "id": "izFZFN81hwng",
        "outputId": "f98e9a6b-f464-4cea-854c-bf11a7affd35"
      },
      "execution_count": 10,
      "outputs": [
        {
          "output_type": "stream",
          "name": "stdout",
          "text": [
            "24\n"
          ]
        }
      ]
    },
    {
      "cell_type": "markdown",
      "source": [
        "7. Write a generator, genPrimes, that returns the sequence of prime numbers on successive calls to its next() method: 2, 3, 5, 7, 11, ..."
      ],
      "metadata": {
        "id": "E3dLzoSdbL2M"
      }
    },
    {
      "cell_type": "code",
      "source": [
        "def genPrimes():\n",
        "    primes = [2]\n",
        "    current = primes[0]\n",
        "    yield current\n",
        "    while True:\n",
        "        current += 1\n",
        "        if any(prime for prime in primes if current % prime == 0):\n",
        "            continue\n",
        "        else:\n",
        "            primes.append(current)\n",
        "            yield current"
      ],
      "metadata": {
        "id": "192E5mIWjfpu"
      },
      "execution_count": 24,
      "outputs": []
    },
    {
      "cell_type": "code",
      "source": [
        "genPrimes()"
      ],
      "metadata": {
        "colab": {
          "base_uri": "https://localhost:8080/"
        },
        "id": "D53QJSJukJvF",
        "outputId": "9cfca7b8-15ae-4d49-865e-3ea95bf06d82"
      },
      "execution_count": 25,
      "outputs": [
        {
          "output_type": "execute_result",
          "data": {
            "text/plain": [
              "<generator object genPrimes at 0x7fe02ebd9690>"
            ]
          },
          "metadata": {},
          "execution_count": 25
        }
      ]
    }
  ]
}