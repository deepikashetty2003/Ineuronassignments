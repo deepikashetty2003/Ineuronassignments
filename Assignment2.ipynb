{
  "nbformat": 4,
  "nbformat_minor": 0,
  "metadata": {
    "colab": {
      "provenance": []
    },
    "kernelspec": {
      "name": "python3",
      "display_name": "Python 3"
    },
    "language_info": {
      "name": "python"
    }
  },
  "cells": [
    {
      "cell_type": "markdown",
      "source": [
        "1. What are the two values of the Boolean data type? How do you write them?\n",
        "\n",
        "- There are two values in Boolean data type\n",
        "  - one = True\n",
        "  - two = False"
      ],
      "metadata": {
        "id": "f86nuJnArSim"
      }
    },
    {
      "cell_type": "markdown",
      "source": [
        "2. What are the three different types of Boolean operators?\n",
        "\n",
        "-There are three boolean operatorsin python\n",
        "   - AND\n",
        "   - OR\n",
        "   - NOT"
      ],
      "metadata": {
        "id": "j1hHXUdQr4n8"
      }
    },
    {
      "cell_type": "markdown",
      "source": [
        "3. Make a list of each Boolean operator's truth tables (i.e. every possible combination of Boolean values for the operator and what it evaluate ).\n",
        "\n",
        "- AND\n",
        "\n",
        "\n"
      ],
      "metadata": {
        "id": "61jkJNEes1gy"
      }
    },
    {
      "cell_type": "markdown",
      "source": [
        "Operand1 | Operand1 | Result\n",
        "- | - | -\n",
        "False | False | False\n",
        "False | True | False\n",
        "True | False | False\n",
        "True | True | True"
      ],
      "metadata": {
        "id": "R0W4PiG7YvXU"
      }
    },
    {
      "cell_type": "markdown",
      "source": [
        "- OR"
      ],
      "metadata": {
        "id": "UaMPziTyYxLg"
      }
    },
    {
      "cell_type": "markdown",
      "source": [
        "Opearand1 | Operand2 | Result\n",
        "- | - | -\n",
        "False | False | False\n",
        "False | True | True\n",
        "True | False | True\n",
        "True | True | True"
      ],
      "metadata": {
        "id": "dW5ZLnuzYzSr"
      }
    },
    {
      "cell_type": "markdown",
      "source": [
        "- NOT"
      ],
      "metadata": {
        "id": "BtUZKViMZBb8"
      }
    },
    {
      "cell_type": "markdown",
      "source": [
        "Operand1 | Result \n",
        "- | - \n",
        "True | False\n",
        "False | True"
      ],
      "metadata": {
        "id": "XzPdXnDjZKBD"
      }
    },
    {
      "cell_type": "code",
      "source": [],
      "metadata": {
        "id": "VKdVmlo9ZAnu"
      },
      "execution_count": null,
      "outputs": []
    },
    {
      "cell_type": "markdown",
      "source": [
        "4. What are the values of the following expressions?\n"
      ],
      "metadata": {
        "id": "Ilg3g6JutNsT"
      }
    },
    {
      "cell_type": "markdown",
      "source": [
        "- (5 > 4) and (3 == 5) : **False** because True(5 > 4) and False(3 == 5) is False\n",
        "- not (5 > 4) : **False** because the not operator reverses the truth value\n",
        "- (5 > 4) or (3 == 5) :**True** because True(5 > 4) or False(3 == 5) is True\n",
        "- not ((5 > 4) or (3 == 5))\n",
        "- (True and True) and (True == False) : **False** because True(True and True) and False(True == False) is False\n",
        "- (not False) or (not True) : **True** because True or False is True"
      ],
      "metadata": {
        "id": "bK3QaDhAaS1E"
      }
    },
    {
      "cell_type": "markdown",
      "source": [
        "5. What are the six comparison operators?\n",
        "\n",
        "operation|meaning\n",
        "-|-\n",
        "==|Equals to\n",
        "!=|not equals to\n",
        "<|Lesser than\n",
        "<=|Lesser than or equal to \n",
        ">|Greater than\n",
        ">=|Greater than orequal to\n"
      ],
      "metadata": {
        "id": "dO16hsuNtWjo"
      }
    },
    {
      "cell_type": "markdown",
      "source": [
        "6. How do you tell the difference between the equal to and assignment operators?Describe a condition and when you would use one.\n",
        "\n",
        "- Equal operator is used to compare two data(values).\n",
        "        Ex : 10 == 20 #Here 10 is compare with 20.\n",
        "- Assignment operator is used assign data(value) to variable.\n",
        "        Ex : A = 10 #Here 10 is assign to variable A."
      ],
      "metadata": {
        "id": "iQzrbpBLtYon"
      }
    },
    {
      "cell_type": "code",
      "source": [
        "A = 5    # assignment operator assigns the value 5 to the variable x\n",
        "B = 10   # assignment operator assigns the value 10 to the variable y\n",
        "\n",
        "if A == B:    # equal to operator checks whether A is equal to B\n",
        "    print(\"A is equal to B\")\n",
        "else:\n",
        "    print(\"A is not equal to B\")"
      ],
      "metadata": {
        "colab": {
          "base_uri": "https://localhost:8080/"
        },
        "id": "63emB4e2jhcm",
        "outputId": "cffcb083-175d-4326-d6f6-6577c5e219aa"
      },
      "execution_count": 1,
      "outputs": [
        {
          "output_type": "stream",
          "name": "stdout",
          "text": [
            "A is not equal to B\n"
          ]
        }
      ]
    },
    {
      "cell_type": "markdown",
      "source": [
        "7. Identify the three blocks in this code:\n",
        "spam = 0\n",
        "if spam == 10:\n",
        "print('eggs')\n",
        "if spam > 5:\n",
        "print('bacon')\n",
        "else:\n",
        "print('ham')\n",
        "print('spam')\n",
        "print('spam')\n"
      ],
      "metadata": {
        "id": "m0lkjbtstX2k"
      }
    },
    {
      "cell_type": "code",
      "source": [
        "spam = 0\n",
        "if spam == 10: #First Block\n",
        "    print('eggs')\n",
        "if spam > 5: #second block\n",
        "    print('bacon')\n",
        "else: #third block\n",
        "    print('ham')\n",
        "    print('spam')\n",
        "    print('spam')"
      ],
      "metadata": {
        "colab": {
          "base_uri": "https://localhost:8080/"
        },
        "id": "njwV8rG-tuYz",
        "outputId": "40058790-61b4-4d4d-a1f7-a04bc71d35ab"
      },
      "execution_count": null,
      "outputs": [
        {
          "output_type": "stream",
          "name": "stdout",
          "text": [
            "ham\n",
            "spam\n",
            "spam\n"
          ]
        }
      ]
    },
    {
      "cell_type": "markdown",
      "source": [
        "8. Write code that prints Hello if 1 is stored in spam, prints Howdy if 2 is stored in spam, and prints Greetings! if anything else is stored in spam."
      ],
      "metadata": {
        "id": "q6gsPYxmuY9p"
      }
    },
    {
      "cell_type": "code",
      "source": [
        "spam=1\n",
        "if(spam==1):\n",
        "  print('Hello')\n",
        "elif(spam==2):\n",
        "  print('Howdy')\n",
        "else:\n",
        "  print('Greetings!') "
      ],
      "metadata": {
        "colab": {
          "base_uri": "https://localhost:8080/"
        },
        "id": "oi5FpAUvr6Uq",
        "outputId": "9da6a2bb-5b77-45ca-9df7-4d6e5fa54a3d"
      },
      "execution_count": 5,
      "outputs": [
        {
          "output_type": "stream",
          "name": "stdout",
          "text": [
            "Hello\n"
          ]
        }
      ]
    },
    {
      "cell_type": "code",
      "source": [
        "spam=2\n",
        "if(spam==1):\n",
        "  print('Hello')\n",
        "elif(spam==2):\n",
        "  print('Howdy')\n",
        "else:\n",
        "  print('Greetings!') "
      ],
      "metadata": {
        "colab": {
          "base_uri": "https://localhost:8080/"
        },
        "id": "I4-9Y6NDvv94",
        "outputId": "0d97c5a3-5fe7-4d8b-a5de-682b57692f27"
      },
      "execution_count": 6,
      "outputs": [
        {
          "output_type": "stream",
          "name": "stdout",
          "text": [
            "Howdy\n"
          ]
        }
      ]
    },
    {
      "cell_type": "code",
      "source": [
        "spam=3\n",
        "if(spam==1):\n",
        "  print('Hello')\n",
        "elif(spam==2):\n",
        "  print('Howdy')\n",
        "else:\n",
        "  print('Greetings!') "
      ],
      "metadata": {
        "id": "BhjLopdqwBGx",
        "colab": {
          "base_uri": "https://localhost:8080/"
        },
        "outputId": "c0ab27ff-197e-469b-eeac-fb8739bbe3cd"
      },
      "execution_count": 7,
      "outputs": [
        {
          "output_type": "stream",
          "name": "stdout",
          "text": [
            "Greetings!\n"
          ]
        }
      ]
    },
    {
      "cell_type": "markdown",
      "source": [
        "9. If your programme is stuck in an endless loop, what keys you’ll press?\n",
        "- Ctrl + C"
      ],
      "metadata": {
        "id": "NOv726rckhTJ"
      }
    },
    {
      "cell_type": "markdown",
      "source": [
        "10. How can you tell the difference between break and continue?\n",
        "- break : Break statement is used to exit a loop completely\n",
        "- continue : continue is used to skip the current iteration of a loop and move on to the next iteration"
      ],
      "metadata": {
        "id": "PUbEA1Ojk8UG"
      }
    },
    {
      "cell_type": "markdown",
      "source": [
        "11. . In a for loop, what is the difference between range(10), range(0, 10), and range(0, 10, 1)?\n",
        "- range(10) generates a sequence of integers from 0 to 9. \n",
        "- range(0, 10) is equivalent to range(10) and generates a sequence of integers from 0 to 9. The 0 is the start value,\n",
        "- range(0, 10, 1) is also equivalent to range(10) and generates a sequence of integers from 0 to 9. The 0 is the start value, which is inclusive, and the 10 is the stop value\n",
        "-------all generate the same sequence of integers, from 0 to 9, but use different syntax to specify the start value, stop value, and step value"
      ],
      "metadata": {
        "id": "xxVX2vbClftE"
      }
    },
    {
      "cell_type": "markdown",
      "source": [
        "12. . Write a short program that prints the numbers 1 to 10 using a for loop. Then write an equivalent program that prints the numbers 1 to 10 using a while loop."
      ],
      "metadata": {
        "id": "LymgoYY8lyLY"
      }
    },
    {
      "cell_type": "code",
      "source": [
        "for i in range(1, 11):\n",
        "    print(i)"
      ],
      "metadata": {
        "colab": {
          "base_uri": "https://localhost:8080/"
        },
        "id": "hOjByvBtmaWr",
        "outputId": "2924d4af-d5dd-4e36-86f8-47018cfdc134"
      },
      "execution_count": 9,
      "outputs": [
        {
          "output_type": "stream",
          "name": "stdout",
          "text": [
            "1\n",
            "2\n",
            "3\n",
            "4\n",
            "5\n",
            "6\n",
            "7\n",
            "8\n",
            "9\n",
            "10\n"
          ]
        }
      ]
    },
    {
      "cell_type": "code",
      "source": [
        "i = 1\n",
        "while i <= 10:\n",
        "    print(i)\n",
        "    i += 1"
      ],
      "metadata": {
        "colab": {
          "base_uri": "https://localhost:8080/"
        },
        "id": "dv8cthb_l-wF",
        "outputId": "c8db53a4-a1d4-4f5d-81c2-197d1f91d7e5"
      },
      "execution_count": 8,
      "outputs": [
        {
          "output_type": "stream",
          "name": "stdout",
          "text": [
            "1\n",
            "2\n",
            "3\n",
            "4\n",
            "5\n",
            "6\n",
            "7\n",
            "8\n",
            "9\n",
            "10\n"
          ]
        }
      ]
    },
    {
      "cell_type": "markdown",
      "source": [
        "13. If you had a function named bacon() inside a module named spam, how would you call it after importing spam?"
      ],
      "metadata": {
        "id": "rfYosHWPl4ix"
      }
    },
    {
      "cell_type": "code",
      "source": [
        "import spam\n",
        "spam.bacon()"
      ],
      "metadata": {
        "id": "Tg2YvYCWwAT_"
      },
      "execution_count": null,
      "outputs": []
    }
  ]
}