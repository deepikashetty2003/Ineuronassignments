{
  "nbformat": 4,
  "nbformat_minor": 0,
  "metadata": {
    "colab": {
      "provenance": []
    },
    "kernelspec": {
      "name": "python3",
      "display_name": "Python 3"
    },
    "language_info": {
      "name": "python"
    }
  },
  "cells": [
    {
      "cell_type": "markdown",
      "source": [
        "1.\tWrite a Python program to print \"Hello Python\"?"
      ],
      "metadata": {
        "id": "7kmYzkSYXqbp"
      }
    },
    {
      "cell_type": "code",
      "source": [
        "print (\"Hello Python\")"
      ],
      "metadata": {
        "colab": {
          "base_uri": "https://localhost:8080/"
        },
        "id": "LtwWsCfXX-0O",
        "outputId": "109b7854-a921-4c62-9e48-0507cba445bf"
      },
      "execution_count": 2,
      "outputs": [
        {
          "output_type": "stream",
          "name": "stdout",
          "text": [
            "Hello Python\n"
          ]
        }
      ]
    },
    {
      "cell_type": "markdown",
      "source": [
        "2.\tWrite a Python program to do arithmetical operations addition and division.?"
      ],
      "metadata": {
        "id": "c-T7JogIXtez"
      }
    },
    {
      "cell_type": "code",
      "source": [
        "#addition\n",
        "A = float(input(\"enter value of A: \"))\n",
        "B = float(input(\"enter value of B: \"))\n",
        "sum = A + B\n",
        "print (f\"sum ofA & B is {sum}\")"
      ],
      "metadata": {
        "colab": {
          "base_uri": "https://localhost:8080/"
        },
        "id": "psNY4u29YYWD",
        "outputId": "c1c53408-98a9-44b4-b969-6deba67846ec"
      },
      "execution_count": 8,
      "outputs": [
        {
          "output_type": "stream",
          "name": "stdout",
          "text": [
            "enter value of A: 2\n",
            "enter value of B: 8\n",
            "sum ofA & B is 10.0\n"
          ]
        }
      ]
    },
    {
      "cell_type": "code",
      "source": [
        "#division\n",
        "A = float(input(\"enter value of A: \"))\n",
        "B = float(input(\"enter value of B: \"))\n",
        "div = A / B\n",
        "print (f\"sum ofA & B is {div}\")"
      ],
      "metadata": {
        "colab": {
          "base_uri": "https://localhost:8080/"
        },
        "id": "KmUdDA0cgJvb",
        "outputId": "7c16742e-13f2-4bbe-c667-a0367a2dcd90"
      },
      "execution_count": 10,
      "outputs": [
        {
          "output_type": "stream",
          "name": "stdout",
          "text": [
            "enter value of A: 11\n",
            "enter value of B: 2\n",
            "sum ofA & B is 5.5\n"
          ]
        }
      ]
    },
    {
      "cell_type": "markdown",
      "source": [
        "3.\tWrite a Python program to find the area of a triangle?"
      ],
      "metadata": {
        "id": "FWygLXxjXwIa"
      }
    },
    {
      "cell_type": "code",
      "source": [
        "b=float(input(\"Enter the base of traingle : \"))\n",
        "h=float(input(\"Enter the height of traingle: \"))\n",
        "\n",
        "area_of_triangle =0.5*b*h\n",
        "\n",
        "print(f\"area of triangle is {area_of_triangle}\")"
      ],
      "metadata": {
        "colab": {
          "base_uri": "https://localhost:8080/"
        },
        "id": "AFl4L0WMhFXI",
        "outputId": "8e31f7d9-1d9b-4808-e037-f816bef3dd80"
      },
      "execution_count": 14,
      "outputs": [
        {
          "output_type": "stream",
          "name": "stdout",
          "text": [
            "Enter the base of traingle : 10\n",
            "Enter the height of traingle: 7\n",
            "area of triangle is 35.0\n"
          ]
        }
      ]
    },
    {
      "cell_type": "markdown",
      "source": [
        "4.\tWrite a Python program to swap two variables?"
      ],
      "metadata": {
        "id": "fKArEVRWXyN-"
      }
    },
    {
      "cell_type": "code",
      "source": [
        "x = 5\n",
        "y = 2\n",
        "print(\"Before swapping\")\n",
        "print(f\"x {x}\")\n",
        "print(f\"y {y}\")\n",
        "\n",
        "temp = x\n",
        "x=y\n",
        "y=temp\n",
        "\n",
        "print(\"After swapping\")\n",
        "print(f\"x {x}\")\n",
        "print(f\"y {y}\")"
      ],
      "metadata": {
        "colab": {
          "base_uri": "https://localhost:8080/"
        },
        "id": "4s9u_SOTYZz7",
        "outputId": "5a270c9b-887f-466d-ca40-d405f13d22eb"
      },
      "execution_count": 15,
      "outputs": [
        {
          "output_type": "stream",
          "name": "stdout",
          "text": [
            "Before swapping\n",
            "x 5\n",
            "y 2\n",
            "After swapping\n",
            "x 2\n",
            "y 5\n"
          ]
        }
      ]
    },
    {
      "cell_type": "markdown",
      "source": [
        "5.\tWrite a Python program to generate a random number?"
      ],
      "metadata": {
        "id": "xaOLb4hzX8Lw"
      }
    },
    {
      "cell_type": "code",
      "execution_count": 21,
      "metadata": {
        "colab": {
          "base_uri": "https://localhost:8080/"
        },
        "id": "tFDZZustXpn7",
        "outputId": "93bb1dae-7c9c-4ae6-e867-81937fe85068"
      },
      "outputs": [
        {
          "output_type": "stream",
          "name": "stdout",
          "text": [
            "Random number is 7\n"
          ]
        }
      ],
      "source": [
        "import random\n",
        "random_number = random.randint(1, 100)\n",
        "print(f\"Random number is {random_number}\")"
      ]
    }
  ]
}