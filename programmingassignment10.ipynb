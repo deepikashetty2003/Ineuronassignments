{
  "nbformat": 4,
  "nbformat_minor": 0,
  "metadata": {
    "colab": {
      "provenance": []
    },
    "kernelspec": {
      "name": "python3",
      "display_name": "Python 3"
    },
    "language_info": {
      "name": "python"
    }
  },
  "cells": [
    {
      "cell_type": "markdown",
      "source": [
        "1.\tWrite a Python program to find sum of elements in list?"
      ],
      "metadata": {
        "id": "LTQIUaAqjdis"
      }
    },
    {
      "cell_type": "code",
      "source": [
        "total = 0\n",
        "list1 = [11, 5, 17, 18, 23]\n",
        "for ele in range(0, len(list1)):\n",
        "  total = total + list1[ele]\n",
        "print(\"Sum of all elements in given list: \", total)"
      ],
      "metadata": {
        "colab": {
          "base_uri": "https://localhost:8080/"
        },
        "id": "TyJMGCO-lAbY",
        "outputId": "5b3fcb5c-da9b-42f5-99df-50d1a60764bf"
      },
      "execution_count": 25,
      "outputs": [
        {
          "output_type": "stream",
          "name": "stdout",
          "text": [
            "Sum of all elements in given list:  74\n"
          ]
        }
      ]
    },
    {
      "cell_type": "markdown",
      "source": [
        "2.\tWrite a Python program to  Multiply all numbers in the list?"
      ],
      "metadata": {
        "id": "Ztmw0fvUjgHk"
      }
    },
    {
      "cell_type": "code",
      "source": [
        "def multiply_numbers(list):\n",
        "    result = 1\n",
        "    for num in list:\n",
        "        result *= num\n",
        "    return result"
      ],
      "metadata": {
        "id": "YauPw5nrlMZU"
      },
      "execution_count": 26,
      "outputs": []
    },
    {
      "cell_type": "code",
      "source": [
        "numbers = [1, 2, 3, 4, 5]\n",
        "product = multiply_numbers(numbers)\n",
        "print(\"The product of all numbers in the list is:\", product)"
      ],
      "metadata": {
        "colab": {
          "base_uri": "https://localhost:8080/"
        },
        "id": "8EN3TMSsmKBH",
        "outputId": "46995bc2-a210-49c8-8435-8258f49b1763"
      },
      "execution_count": 27,
      "outputs": [
        {
          "output_type": "stream",
          "name": "stdout",
          "text": [
            "The product of all numbers in the list is: 120\n"
          ]
        }
      ]
    },
    {
      "cell_type": "markdown",
      "source": [
        "3.\tWrite a Python program to find smallest number in a list?"
      ],
      "metadata": {
        "id": "mB0KhrFujiCS"
      }
    },
    {
      "cell_type": "code",
      "source": [
        "number=[7,4,5,2,9]\n",
        "smallest=number[0]\n",
        "for num in number:\n",
        "    if num < smallest:\n",
        "        smallest = num\n",
        "print(\"The smallest number in the list is:\", smallest)"
      ],
      "metadata": {
        "colab": {
          "base_uri": "https://localhost:8080/"
        },
        "id": "RvAi0qKDmcRd",
        "outputId": "ebb7b38e-3c52-4310-fd62-510427cb6c14"
      },
      "execution_count": 28,
      "outputs": [
        {
          "output_type": "stream",
          "name": "stdout",
          "text": [
            "The smallest number in the list is: 2\n"
          ]
        }
      ]
    },
    {
      "cell_type": "markdown",
      "source": [
        "4.\tWrite a Python program to find largest number in a list?"
      ],
      "metadata": {
        "id": "mcwJTahojlI5"
      }
    },
    {
      "cell_type": "code",
      "source": [
        "number=[7,4,5,2,9]\n",
        "largest=number[0]\n",
        "for num in number:\n",
        "    if num > largest:\n",
        "        largest = num\n",
        "print(\"The largest number in the list is:\", largest)"
      ],
      "metadata": {
        "colab": {
          "base_uri": "https://localhost:8080/"
        },
        "id": "LC36pE1hnCqJ",
        "outputId": "1b185bbe-2482-436f-c8d0-754a84c011ce"
      },
      "execution_count": 29,
      "outputs": [
        {
          "output_type": "stream",
          "name": "stdout",
          "text": [
            "The largest number in the list is: 9\n"
          ]
        }
      ]
    },
    {
      "cell_type": "markdown",
      "source": [
        "5.\tWrite a Python program to find second largest number in a list?"
      ],
      "metadata": {
        "id": "2_z3cb4kjnMC"
      }
    },
    {
      "cell_type": "code",
      "source": [
        "number = [7,4,5,2,9]\n",
        "largest = number[0]\n",
        "second_largest = number[0]\n",
        "\n",
        "for num in number:\n",
        "    if num > largest:\n",
        "        second_largest = largest\n",
        "        largest = num\n",
        "    elif num > second_largest and num != largest:\n",
        "        second_largest = num\n",
        "print(\"The second largest number in the list is:\", second_largest)"
      ],
      "metadata": {
        "colab": {
          "base_uri": "https://localhost:8080/"
        },
        "id": "buQfgxe0ndX1",
        "outputId": "8760e477-f784-4d9c-bd02-cc4db266035c"
      },
      "execution_count": 30,
      "outputs": [
        {
          "output_type": "stream",
          "name": "stdout",
          "text": [
            "The second largest number in the list is: 7\n"
          ]
        }
      ]
    },
    {
      "cell_type": "markdown",
      "source": [
        "6.\tWrite a Python program to find N largest elements from a list?"
      ],
      "metadata": {
        "id": "fU9d6_xGjpT-"
      }
    },
    {
      "cell_type": "code",
      "source": [
        "numbers = [11,45,23,67,82,11]\n",
        "N = 4\n",
        "if N > len(numbers):\n",
        "    print(\"Invalid input: N is greater than the list size.\")\n",
        "else:\n",
        "    sorted_list = sorted(numbers, reverse=True)\n",
        "    n_largest_elements = sorted_list[:N]\n",
        "    print(\"The\", N, \"largest elements in the list are:\", n_largest_elements)"
      ],
      "metadata": {
        "colab": {
          "base_uri": "https://localhost:8080/"
        },
        "id": "y7ewrir4oKc2",
        "outputId": "9571e118-68b1-49bf-b105-fa1b4592eebc"
      },
      "execution_count": 31,
      "outputs": [
        {
          "output_type": "stream",
          "name": "stdout",
          "text": [
            "The 4 largest elements in the list are: [82, 67, 45, 23]\n"
          ]
        }
      ]
    },
    {
      "cell_type": "markdown",
      "source": [
        "7.\tWrite a Python program to print even numbers in a list?"
      ],
      "metadata": {
        "id": "BQU8YJd0jq0w"
      }
    },
    {
      "cell_type": "code",
      "source": [
        "numbers = [1, 2, 3, 4, 5, 6, 7, 8, 9, 10]\n",
        "print(\"Even numbers in the list:\")\n",
        "for num in numbers:\n",
        "    if num % 2 == 0:\n",
        "        print(num)"
      ],
      "metadata": {
        "colab": {
          "base_uri": "https://localhost:8080/"
        },
        "id": "_eGw6yZooovg",
        "outputId": "e08c173e-8e1a-45dd-e56b-a96c1b7c8b4b"
      },
      "execution_count": 32,
      "outputs": [
        {
          "output_type": "stream",
          "name": "stdout",
          "text": [
            "Even numbers in the list:\n",
            "2\n",
            "4\n",
            "6\n",
            "8\n",
            "10\n"
          ]
        }
      ]
    },
    {
      "cell_type": "markdown",
      "source": [
        "8.\tWrite a Python program to print odd numbers in a List?"
      ],
      "metadata": {
        "id": "OG9kipCzjsdd"
      }
    },
    {
      "cell_type": "code",
      "source": [
        "numbers = [1, 2, 3, 4, 5, 6, 7, 8, 9, 10]\n",
        "print(\"Odd numbers in the list:\")\n",
        "for num in numbers:\n",
        "    if num % 2 != 0:\n",
        "        print(num)"
      ],
      "metadata": {
        "colab": {
          "base_uri": "https://localhost:8080/"
        },
        "id": "aBMJ4w4ioxiO",
        "outputId": "72e9629a-9d41-48ee-ab5f-67dc52facfcd"
      },
      "execution_count": 33,
      "outputs": [
        {
          "output_type": "stream",
          "name": "stdout",
          "text": [
            "Odd numbers in the list:\n",
            "1\n",
            "3\n",
            "5\n",
            "7\n",
            "9\n"
          ]
        }
      ]
    },
    {
      "cell_type": "markdown",
      "source": [
        "9.\tWrite a Python program to Remove empty List from List?"
      ],
      "metadata": {
        "id": "mu8n9pCJjuxp"
      }
    },
    {
      "cell_type": "code",
      "source": [
        "my_list = [1, 2, [], 3, [], [4, 5], 6, [], [7, 8, 9], []]\n",
        "updated_list = []\n",
        "for sublist in my_list:\n",
        "    if sublist:\n",
        "        updated_list.append(sublist)\n",
        "print(\"List after removing empty lists:\", updated_list)"
      ],
      "metadata": {
        "colab": {
          "base_uri": "https://localhost:8080/"
        },
        "id": "xDXi7xejpFvt",
        "outputId": "b8d7710e-20ea-42c2-acb7-c04fdcb57805"
      },
      "execution_count": 34,
      "outputs": [
        {
          "output_type": "stream",
          "name": "stdout",
          "text": [
            "List after removing empty lists: [1, 2, 3, [4, 5], 6, [7, 8, 9]]\n"
          ]
        }
      ]
    },
    {
      "cell_type": "markdown",
      "source": [
        "10.\tWrite a Python program to Cloning or Copying a list?"
      ],
      "metadata": {
        "id": "NOkmrAWEjw2l"
      }
    },
    {
      "cell_type": "code",
      "source": [
        "original_list = [1, 2, 3, 4, 5]\n",
        "cloned_list = []\n",
        "for item in original_list:\n",
        "    cloned_list.append(item)\n",
        "print(\"Original list:\", original_list)\n",
        "print(\"Cloned list:\", cloned_list)"
      ],
      "metadata": {
        "colab": {
          "base_uri": "https://localhost:8080/"
        },
        "id": "fRXI3mXKpdH3",
        "outputId": "ab392fff-e554-4869-8c37-a630e502d554"
      },
      "execution_count": 35,
      "outputs": [
        {
          "output_type": "stream",
          "name": "stdout",
          "text": [
            "Original list: [1, 2, 3, 4, 5]\n",
            "Cloned list: [1, 2, 3, 4, 5]\n"
          ]
        }
      ]
    },
    {
      "cell_type": "markdown",
      "source": [
        "11.\tWrite a Python program to Count occurrences of an element in a list?"
      ],
      "metadata": {
        "id": "gVsYFR2-jyir"
      }
    },
    {
      "cell_type": "code",
      "source": [
        "my_list = [1, 2, 3, 4, 2, 2, 5, 6, 2]\n",
        "element_to_count = 2\n",
        "count = 0\n",
        "for item in my_list:\n",
        "    if item == element_to_count:\n",
        "        count += 1\n",
        "print(\"Number of occurrences of\", element_to_count, \"in the list:\", count)"
      ],
      "metadata": {
        "colab": {
          "base_uri": "https://localhost:8080/"
        },
        "id": "GzqmqHcEjkd8",
        "outputId": "f23a4978-e134-4d9b-c0de-ad74d269d3a5"
      },
      "execution_count": 36,
      "outputs": [
        {
          "output_type": "stream",
          "name": "stdout",
          "text": [
            "Number of occurrences of 2 in the list: 4\n"
          ]
        }
      ]
    }
  ]
}