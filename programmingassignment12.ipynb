{
  "nbformat": 4,
  "nbformat_minor": 0,
  "metadata": {
    "colab": {
      "provenance": []
    },
    "kernelspec": {
      "name": "python3",
      "display_name": "Python 3"
    },
    "language_info": {
      "name": "python"
    }
  },
  "cells": [
    {
      "cell_type": "markdown",
      "source": [
        "1.\tWrite a Python program to Extract Unique values dictionary values?"
      ],
      "metadata": {
        "id": "vhlIjr5F6Cib"
      }
    },
    {
      "cell_type": "code",
      "source": [
        "my_dict = {'key1': 10, 'key2': 20, 'key3': 10, 'key4': 30, 'key5': 20}\n",
        "# Extract unique values from dictionary values\n",
        "unique_values = list(set(my_dict.values()))\n",
        "# Print the unique values\n",
        "print(\"Unique values:\", unique_values)"
      ],
      "metadata": {
        "colab": {
          "base_uri": "https://localhost:8080/"
        },
        "id": "dDESF_0w9WQx",
        "outputId": "2bd6dd97-43eb-41fd-c390-3344e3282326"
      },
      "execution_count": 12,
      "outputs": [
        {
          "output_type": "stream",
          "name": "stdout",
          "text": [
            "Unique values: [10, 20, 30]\n"
          ]
        }
      ]
    },
    {
      "cell_type": "markdown",
      "source": [
        "2.\tWrite a Python program to find the sum of all items in a dictionary?"
      ],
      "metadata": {
        "id": "-QaZZbgp6E3z"
      }
    },
    {
      "cell_type": "code",
      "source": [
        "my_dict = {'item1': 10, 'item2': 20, 'item3': 30}\n",
        "# Calculate the sum of all items in the dictionary\n",
        "sum_of_items = sum(my_dict.values())\n",
        "# Print the sum\n",
        "print(\"Sum of all items:\", sum_of_items)"
      ],
      "metadata": {
        "colab": {
          "base_uri": "https://localhost:8080/"
        },
        "id": "nUu4w-aP9NSH",
        "outputId": "0416942c-9d0d-4689-ac2f-19390bacf116"
      },
      "execution_count": 13,
      "outputs": [
        {
          "output_type": "stream",
          "name": "stdout",
          "text": [
            "Sum of all items: 60\n"
          ]
        }
      ]
    },
    {
      "cell_type": "markdown",
      "source": [
        "3.\tWrite a Python program to Merging two Dictionaries?"
      ],
      "metadata": {
        "id": "IqNaL7qB6GZZ"
      }
    },
    {
      "cell_type": "code",
      "source": [
        "dict1 = {'key1': 'value1', 'key2': 'value2'}\n",
        "dict2 = {'key3': 'value3', 'key4': 'value4'}\n",
        "# Merge the dictionaries\n",
        "merged_dict = {**dict1, **dict2}\n",
        "# Print the merged dictionary\n",
        "print(\"Merged Dictionary:\")\n",
        "print(merged_dict)"
      ],
      "metadata": {
        "colab": {
          "base_uri": "https://localhost:8080/"
        },
        "id": "90RexSqy9C6d",
        "outputId": "7503a5be-8d58-49ef-c905-62139ebfc614"
      },
      "execution_count": 14,
      "outputs": [
        {
          "output_type": "stream",
          "name": "stdout",
          "text": [
            "Merged Dictionary:\n",
            "{'key1': 'value1', 'key2': 'value2', 'key3': 'value3', 'key4': 'value4'}\n"
          ]
        }
      ]
    },
    {
      "cell_type": "markdown",
      "source": [
        "4.\tWrite a Python program to convert key-values list to flat dictionary?"
      ],
      "metadata": {
        "id": "aIZkfDAI6Hwd"
      }
    },
    {
      "cell_type": "code",
      "source": [
        "key_value_list = [(\"key1\", \"value1\"), (\"key2\", \"value2\"), (\"key3\", \"value3\")]\n",
        "flat_dict = {}\n",
        "# Convert key-value pairs to a flat dictionary\n",
        "for key, value in key_value_list:\n",
        "    flat_dict[key] = value\n",
        "# Print the flat dictionary\n",
        "print(\"Flat Dictionary:\")\n",
        "print(flat_dict)"
      ],
      "metadata": {
        "colab": {
          "base_uri": "https://localhost:8080/"
        },
        "id": "WrbuhA7r8wBC",
        "outputId": "fe7c2431-a750-447d-9c26-517b7eefe41d"
      },
      "execution_count": 15,
      "outputs": [
        {
          "output_type": "stream",
          "name": "stdout",
          "text": [
            "Flat Dictionary:\n",
            "{'key1': 'value1', 'key2': 'value2', 'key3': 'value3'}\n"
          ]
        }
      ]
    },
    {
      "cell_type": "markdown",
      "source": [
        "5.\tWrite a Python program to insertion at the beginning in OrderedDict?"
      ],
      "metadata": {
        "id": "ICjbMeuq6JL1"
      }
    },
    {
      "cell_type": "code",
      "source": [
        "from collections import OrderedDict\n",
        "ordered_dict = OrderedDict()\n",
        "# Insert key-value pairs at the beginning of the OrderedDict\n",
        "ordered_dict[\"key3\"] = \"value3\"\n",
        "ordered_dict[\"key2\"] = \"value2\"\n",
        "ordered_dict[\"key1\"] = \"value1\"\n",
        "# Print the OrderedDict before insertion\n",
        "print(\"OrderedDict before insertion:\")\n",
        "print(ordered_dict)\n",
        "# Insert a new key-value pair at the beginning\n",
        "new_key = \"key0\"\n",
        "new_value = \"value0\"\n",
        "ordered_dict[new_key] = new_value\n",
        "# Print the OrderedDict after insertion\n",
        "print(\"OrderedDict after insertion:\")\n",
        "print(ordered_dict)"
      ],
      "metadata": {
        "colab": {
          "base_uri": "https://localhost:8080/"
        },
        "id": "iWTlRC-S8ZSZ",
        "outputId": "9abeffb4-061a-4ada-8448-5a0a80b65f6f"
      },
      "execution_count": 16,
      "outputs": [
        {
          "output_type": "stream",
          "name": "stdout",
          "text": [
            "OrderedDict before insertion:\n",
            "OrderedDict([('key3', 'value3'), ('key2', 'value2'), ('key1', 'value1')])\n",
            "OrderedDict after insertion:\n",
            "OrderedDict([('key3', 'value3'), ('key2', 'value2'), ('key1', 'value1'), ('key0', 'value0')])\n"
          ]
        }
      ]
    },
    {
      "cell_type": "markdown",
      "source": [
        "6.\tWrite a Python program to check order of character in string using OrderedDict()?"
      ],
      "metadata": {
        "id": "3hGi55CV6Kgs"
      }
    },
    {
      "cell_type": "code",
      "source": [
        "from collections import OrderedDict\n",
        "\n",
        "string = input(\"Enter a string: \")\n",
        "ordered_dict = OrderedDict()\n",
        "# Iterate over each character in the string\n",
        "for char in string:\n",
        "    # Check if the character is not already present in the ordered dictionary\n",
        "    if char not in ordered_dict:\n",
        "        # Add the character to the ordered dictionary with its position\n",
        "        ordered_dict[char] = len(ordered_dict)\n",
        "# Check if the ordered dictionary contains the characters in the same order as the string\n",
        "is_ordered = \"\".join(ordered_dict.keys()) == string\n",
        "# Print the result\n",
        "if is_ordered:\n",
        "    print(\"The characters in the string are in order.\")\n",
        "else:\n",
        "    print(\"The characters in the string are not in order.\")"
      ],
      "metadata": {
        "colab": {
          "base_uri": "https://localhost:8080/"
        },
        "id": "SInAEhwI8BFO",
        "outputId": "bf16e790-c360-43a4-b783-5d33469be892"
      },
      "execution_count": 17,
      "outputs": [
        {
          "output_type": "stream",
          "name": "stdout",
          "text": [
            "Enter a string: amru\n",
            "The characters in the string are in order.\n"
          ]
        }
      ]
    },
    {
      "cell_type": "code",
      "source": [
        "from collections import OrderedDict\n",
        "\n",
        "string = input(\"Enter a string: \")\n",
        "ordered_dict = OrderedDict()\n",
        "# Iterate over each character in the string\n",
        "for char in string:\n",
        "    # Check if the character is not already present in the ordered dictionary\n",
        "    if char not in ordered_dict:\n",
        "        # Add the character to the ordered dictionary with its position\n",
        "        ordered_dict[char] = len(ordered_dict)\n",
        "# Check if the ordered dictionary contains the characters in the same order as the string\n",
        "is_ordered = \"\".join(ordered_dict.keys()) == string\n",
        "# Print the result\n",
        "if is_ordered:\n",
        "    print(\"The characters in the string are in order.\")\n",
        "else:\n",
        "    print(\"The characters in the string are not in order.\")"
      ],
      "metadata": {
        "colab": {
          "base_uri": "https://localhost:8080/"
        },
        "id": "qHLKr6Vh8NLb",
        "outputId": "597a7573-71ec-4b6b-fe26-6f0619eb8198"
      },
      "execution_count": 18,
      "outputs": [
        {
          "output_type": "stream",
          "name": "stdout",
          "text": [
            "Enter a string: deepika\n",
            "The characters in the string are not in order.\n"
          ]
        }
      ]
    },
    {
      "cell_type": "markdown",
      "source": [
        "7.\tWrite a Python program to sort Python Dictionaries by Key or Value?"
      ],
      "metadata": {
        "id": "mtn4kjHg6MJR"
      }
    },
    {
      "cell_type": "code",
      "source": [
        "example_dict = {'c': 3, 'a': 1, 'b': 2}\n",
        "# Sort the dictionary by key\n",
        "sorted_by_key = {}\n",
        "sorted_keys = sorted(example_dict.keys())\n",
        "for key in sorted_keys:\n",
        "    sorted_by_key[key] = example_dict[key]\n",
        "print(\"Sorted by key:\", sorted_by_key)\n",
        "# Sort the dictionary by value\n",
        "sorted_by_value = {}\n",
        "sorted_items = sorted(example_dict.items(), key=lambda x: x[1])\n",
        "for item in sorted_items:\n",
        "    sorted_by_value[item[0]] = item[1]\n",
        "print(\"Sorted by value:\", sorted_by_value)"
      ],
      "metadata": {
        "colab": {
          "base_uri": "https://localhost:8080/"
        },
        "id": "0oSNdqy77Sk4",
        "outputId": "5e948f71-f941-443d-f96a-913bcd0761e4"
      },
      "execution_count": 19,
      "outputs": [
        {
          "output_type": "stream",
          "name": "stdout",
          "text": [
            "Sorted by key: {'a': 1, 'b': 2, 'c': 3}\n",
            "Sorted by value: {'a': 1, 'b': 2, 'c': 3}\n"
          ]
        }
      ]
    }
  ]
}