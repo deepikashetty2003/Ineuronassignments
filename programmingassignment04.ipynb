{
  "nbformat": 4,
  "nbformat_minor": 0,
  "metadata": {
    "colab": {
      "provenance": []
    },
    "kernelspec": {
      "name": "python3",
      "display_name": "Python 3"
    },
    "language_info": {
      "name": "python"
    }
  },
  "cells": [
    {
      "cell_type": "markdown",
      "source": [
        "1.\tWrite a Python Program to Find the Factorial of a Number?"
      ],
      "metadata": {
        "id": "KhmnQSKMXIJN"
      }
    },
    {
      "cell_type": "code",
      "source": [
        "number = int(input(\"Enter a number: \"))\n",
        "factorial = 1\n",
        "for i in range(1, number + 1):\n",
        "    factorial *= i\n",
        "print(\"The factorial of\", number, \"is\", factorial)"
      ],
      "metadata": {
        "colab": {
          "base_uri": "https://localhost:8080/"
        },
        "id": "MIz5hxPmYp4v",
        "outputId": "5cc0f518-5c41-40c7-f56d-e357b60cd799"
      },
      "execution_count": 13,
      "outputs": [
        {
          "output_type": "stream",
          "name": "stdout",
          "text": [
            "Enter a number: 3\n",
            "The factorial of 3 is 6\n"
          ]
        }
      ]
    },
    {
      "cell_type": "markdown",
      "source": [
        "2.\tWrite a Python Program to Display the multiplication Table?"
      ],
      "metadata": {
        "id": "4RGm8vxHXKo0"
      }
    },
    {
      "cell_type": "code",
      "source": [
        "number = int(input(\"Enter a number: \"))\n",
        "print(\"Multiplication Table of\", number)\n",
        "for i in range(1, 11):\n",
        "    mul = number * i\n",
        "    print(number, \"x\", i, \"=\", mul)"
      ],
      "metadata": {
        "colab": {
          "base_uri": "https://localhost:8080/"
        },
        "id": "ofoS97PBXO2d",
        "outputId": "dc186820-62ea-4f83-c874-03514963c2ca"
      },
      "execution_count": 15,
      "outputs": [
        {
          "output_type": "stream",
          "name": "stdout",
          "text": [
            "Enter a number: 16\n",
            "Multiplication Table of 16\n",
            "16 x 1 = 16\n",
            "16 x 2 = 32\n",
            "16 x 3 = 48\n",
            "16 x 4 = 64\n",
            "16 x 5 = 80\n",
            "16 x 6 = 96\n",
            "16 x 7 = 112\n",
            "16 x 8 = 128\n",
            "16 x 9 = 144\n",
            "16 x 10 = 160\n"
          ]
        }
      ]
    },
    {
      "cell_type": "markdown",
      "source": [
        "3.\tWrite a Python Program to Print the Fibonacci sequence?"
      ],
      "metadata": {
        "id": "PG29KJHEXPOy"
      }
    },
    {
      "cell_type": "code",
      "source": [
        "terms = int(input(\"Enter the number of terms: \"))\n",
        "a, b = 0, 1\n",
        "print(\"Fibonacci sequence:\")\n",
        "print(a)\n",
        "print(b)\n",
        "for _ in range(2, terms):\n",
        "    c = a + b\n",
        "    print(c)\n",
        "    a = b\n",
        "    b = c"
      ],
      "metadata": {
        "colab": {
          "base_uri": "https://localhost:8080/"
        },
        "id": "ZyXt-jqaXSsV",
        "outputId": "e2f29a7f-4266-462d-80ca-036a72057af4"
      },
      "execution_count": 18,
      "outputs": [
        {
          "output_type": "stream",
          "name": "stdout",
          "text": [
            "Enter the number of terms: 10\n",
            "Fibonacci sequence:\n",
            "0\n",
            "1\n",
            "1\n",
            "2\n",
            "3\n",
            "5\n",
            "8\n",
            "13\n",
            "21\n",
            "34\n"
          ]
        }
      ]
    },
    {
      "cell_type": "markdown",
      "source": [
        "4.\tWrite a Python Program to Check Armstrong Number?"
      ],
      "metadata": {
        "id": "7Gs8aNfWXTSO"
      }
    },
    {
      "cell_type": "code",
      "source": [
        "number = int(input(\"Enter a number: \"))\n",
        "num_of_digits = len(str(number))\n",
        "sum_of_digits = 0\n",
        "temp = number\n",
        "while temp > 0:\n",
        "    digit = temp % 10\n",
        "    sum_of_digits += digit ** num_of_digits\n",
        "    temp //= 10\n",
        "if number == sum_of_digits:\n",
        "    print(number, \"is an Armstrong number.\")\n",
        "else:\n",
        "    print(number, \"is not an Armstrong number.\")"
      ],
      "metadata": {
        "colab": {
          "base_uri": "https://localhost:8080/"
        },
        "id": "BiWgmgFVXU77",
        "outputId": "a869c24a-1612-44e8-aa3f-ab6e4aafca64"
      },
      "execution_count": 22,
      "outputs": [
        {
          "output_type": "stream",
          "name": "stdout",
          "text": [
            "Enter a number: 153\n",
            "153 is an Armstrong number.\n"
          ]
        }
      ]
    },
    {
      "cell_type": "markdown",
      "source": [
        "5.\tWrite a Python Program to Find Armstrong Number in an Interval?"
      ],
      "metadata": {
        "id": "qbSTPQMNXVVX"
      }
    },
    {
      "cell_type": "code",
      "source": [
        "start = int(input(\"Enter the lower bound of the interval: \"))\n",
        "end = int(input(\"Enter the upper bound of the interval: \"))\n",
        "print(\"Armstrong numbers between\", start, \"and\", end, \"are:\")\n",
        "for number in range(start, end + 1):\n",
        "    num_of_digits = len(str(number))\n",
        "    sum_of_digits = 0\n",
        "    temp = number\n",
        "    while temp > 0:\n",
        "        digit = temp % 10\n",
        "        sum_of_digits += digit ** num_of_digits\n",
        "        temp //= 10\n",
        "    if number == sum_of_digits:\n",
        "        print(number)"
      ],
      "metadata": {
        "colab": {
          "base_uri": "https://localhost:8080/"
        },
        "id": "ZiqyOIuMXW4N",
        "outputId": "3c4c09d9-51a7-45b0-9a7b-589af2e9c176"
      },
      "execution_count": 26,
      "outputs": [
        {
          "output_type": "stream",
          "name": "stdout",
          "text": [
            "Enter the lower bound of the interval: 1\n",
            "Enter the upper bound of the interval: 500\n",
            "Armstrong numbers between 1 and 500 are:\n",
            "1\n",
            "2\n",
            "3\n",
            "4\n",
            "5\n",
            "6\n",
            "7\n",
            "8\n",
            "9\n",
            "153\n",
            "370\n",
            "371\n",
            "407\n"
          ]
        }
      ]
    },
    {
      "cell_type": "markdown",
      "source": [
        "6.\tWrite a Python Program to Find the Sum of Natural Numbers?"
      ],
      "metadata": {
        "id": "B2Ol9x9QXXZy"
      }
    },
    {
      "cell_type": "code",
      "source": [
        "n = int(input(\"Enter a positive integer: \"))\n",
        "if n <= 0:\n",
        "    print(\"Enter a positive integer.\")\n",
        "else:\n",
        "    sum_of_numbers = 0\n",
        "    for i in range(1, n + 1):\n",
        "        sum_of_numbers += i\n",
        "    print(\"The sum of natural numbers up to\", n, \"is\", sum_of_numbers)"
      ],
      "metadata": {
        "colab": {
          "base_uri": "https://localhost:8080/"
        },
        "id": "J-tJKDWec0DS",
        "outputId": "c2580afc-bd93-43cc-bf14-fba4cdae3c8a"
      },
      "execution_count": 28,
      "outputs": [
        {
          "output_type": "stream",
          "name": "stdout",
          "text": [
            "Enter a positive integer: 10\n",
            "The sum of natural numbers up to 10 is 55\n"
          ]
        }
      ]
    }
  ]
}