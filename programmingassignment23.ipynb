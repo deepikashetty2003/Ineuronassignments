{
  "nbformat": 4,
  "nbformat_minor": 0,
  "metadata": {
    "colab": {
      "provenance": []
    },
    "kernelspec": {
      "name": "python3",
      "display_name": "Python 3"
    },
    "language_info": {
      "name": "python"
    }
  },
  "cells": [
    {
      "cell_type": "markdown",
      "source": [
        "Question 1\n",
        "Create a function that takes a number as an argument and returns True or False depending on whether the number is symmetrical or not. A number is symmetrical when it is the same as its reverse.\n",
        "Examples\n",
        "is_symmetrical(7227) ➞ True\n",
        "\n",
        "is_symmetrical(12567) ➞ False\n",
        "\n",
        "is_symmetrical(44444444) ➞ True\n",
        "\n",
        "is_symmetrical(9939) ➞ False\n",
        "\n",
        "is_symmetrical(1112111) ➞ True"
      ],
      "metadata": {
        "id": "casCMmTyMt8p"
      }
    },
    {
      "cell_type": "code",
      "execution_count": 4,
      "metadata": {
        "id": "8nI5zFUpMk0m"
      },
      "outputs": [],
      "source": [
        "def is_symmetrical(num):\n",
        "    return str(num) == str(num)[::-1]"
      ]
    },
    {
      "cell_type": "code",
      "source": [
        "print(is_symmetrical(7227))  \n",
        "print(is_symmetrical(12567))"
      ],
      "metadata": {
        "colab": {
          "base_uri": "https://localhost:8080/"
        },
        "id": "bnzjThE4NUCg",
        "outputId": "a2c38cd0-2612-4049-fd14-3fe44b68409a"
      },
      "execution_count": 5,
      "outputs": [
        {
          "output_type": "stream",
          "name": "stdout",
          "text": [
            "True\n",
            "False\n"
          ]
        }
      ]
    },
    {
      "cell_type": "markdown",
      "source": [
        "Question 2\n",
        "Given a string of numbers separated by a comma and space, return the product of the numbers.\n",
        "Examples\n",
        "multiply_nums(\"2, 3\") ➞ 6\n",
        "\n",
        "multiply_nums(\"1, 2, 3, 4\") ➞ 24\n",
        "\n",
        "multiply_nums(\"54, 75, 453, 0\") ➞ 0\n",
        "\n",
        "multiply_nums(\"10, -2\") ➞ -20a"
      ],
      "metadata": {
        "id": "F9fGzcecMyvd"
      }
    },
    {
      "cell_type": "code",
      "source": [
        "def multiply_nums(nums_str):\n",
        "    nums = [int(num) for num in nums_str.split(\", \")]\n",
        "    product = 1\n",
        "    for num in nums:\n",
        "        product *= num\n",
        "    return product"
      ],
      "metadata": {
        "id": "wPKLkboRM1TW"
      },
      "execution_count": 7,
      "outputs": []
    },
    {
      "cell_type": "code",
      "source": [
        "print(multiply_nums(\"2, 3\"))  # Output: 6\n",
        "print(multiply_nums(\"1, 2, 3, 4\")) "
      ],
      "metadata": {
        "colab": {
          "base_uri": "https://localhost:8080/"
        },
        "id": "Ep6GXD1xOCVs",
        "outputId": "1626a901-2b73-4d49-d0c2-a80e63640f0d"
      },
      "execution_count": 8,
      "outputs": [
        {
          "output_type": "stream",
          "name": "stdout",
          "text": [
            "6\n",
            "24\n"
          ]
        }
      ]
    },
    {
      "cell_type": "markdown",
      "source": [
        "Question 3\n",
        "Create a function that squares every digit of a number.\n",
        "Examples\n",
        "square_digits(9119) ➞ 811181\n",
        "\n",
        "square_digits(2483) ➞ 416649\n",
        "\n",
        "square_digits(3212) ➞ 9414\n",
        "Notes\n",
        "The function receives an integer and must return an integer."
      ],
      "metadata": {
        "id": "ZLZB4GiIM1w8"
      }
    },
    {
      "cell_type": "code",
      "source": [
        "def square_digits(num):\n",
        "    squared_digits = [str(int(digit) ** 2) for digit in str(num)]\n",
        "    squared_num = int(\"\".join(squared_digits))\n",
        "    return squared_num"
      ],
      "metadata": {
        "id": "5qnGY-Y7M4tb"
      },
      "execution_count": 9,
      "outputs": []
    },
    {
      "cell_type": "code",
      "source": [
        "print(square_digits(9119))"
      ],
      "metadata": {
        "colab": {
          "base_uri": "https://localhost:8080/"
        },
        "id": "llJyF-UkOVB-",
        "outputId": "69d31ad8-87c7-46df-a7da-752b68fe2894"
      },
      "execution_count": 10,
      "outputs": [
        {
          "output_type": "stream",
          "name": "stdout",
          "text": [
            "811181\n"
          ]
        }
      ]
    },
    {
      "cell_type": "markdown",
      "source": [
        "Question 4\n",
        "Create a function that sorts a list and removes all duplicate items from it.\n",
        "Examples\n",
        "setify([1, 3, 3, 5, 5]) ➞ [1, 3, 5]\n",
        "\n",
        "setify([4, 4, 4, 4]) ➞ [4]\n",
        "\n",
        "setify([5, 7, 8, 9, 10, 15]) ➞ [5, 7, 8, 9, 10, 15]\n",
        "\n",
        "setify([3, 3, 3, 2, 1]) ➞ [1, 2, 3]"
      ],
      "metadata": {
        "id": "RtipDLqdM5EM"
      }
    },
    {
      "cell_type": "code",
      "source": [
        "def setify(lst):\n",
        "    return sorted(list(set(lst)))"
      ],
      "metadata": {
        "id": "UxvFEdsaM75V"
      },
      "execution_count": 13,
      "outputs": []
    },
    {
      "cell_type": "code",
      "source": [
        "print(setify([3, 3, 3, 2, 1])) "
      ],
      "metadata": {
        "colab": {
          "base_uri": "https://localhost:8080/"
        },
        "id": "fUZnpWJAOejy",
        "outputId": "8a705da8-d033-41da-d1cb-755c0e6d4d14"
      },
      "execution_count": 14,
      "outputs": [
        {
          "output_type": "stream",
          "name": "stdout",
          "text": [
            "[1, 2, 3]\n"
          ]
        }
      ]
    },
    {
      "cell_type": "markdown",
      "source": [
        "Question 5\n",
        "Create a function that returns the mean of all digits.\n",
        "Examples\n",
        "mean(42) ➞ 3\n",
        "\n",
        "mean(12345) ➞ 3\n",
        "\n",
        "mean(666) ➞ 6\n",
        "Notes\n",
        "•\tThe mean of all digits is the sum of digits / how many digits there are (e.g. mean of digits in 512 is (5+1+2)/3(number of digits) = 8/3=2).\n",
        "•\tThe mean will always be an integer."
      ],
      "metadata": {
        "id": "6f2RvIxDM8pZ"
      }
    },
    {
      "cell_type": "code",
      "source": [
        "def mean(num):\n",
        "    digits = str(num)\n",
        "    digit_sum = sum(int(digit) for digit in digits)\n",
        "    digit_count = len(digits)\n",
        "    return digit_sum // digit_count"
      ],
      "metadata": {
        "id": "J1DaX2xDOpgB"
      },
      "execution_count": 15,
      "outputs": []
    },
    {
      "cell_type": "code",
      "source": [
        "print(mean(42)) "
      ],
      "metadata": {
        "colab": {
          "base_uri": "https://localhost:8080/"
        },
        "id": "lqVHP5xZOsAB",
        "outputId": "cc769191-4e16-4060-993b-9fe982f74203"
      },
      "execution_count": 16,
      "outputs": [
        {
          "output_type": "stream",
          "name": "stdout",
          "text": [
            "3\n"
          ]
        }
      ]
    }
  ]
}