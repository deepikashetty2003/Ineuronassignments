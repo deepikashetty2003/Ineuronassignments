{
  "nbformat": 4,
  "nbformat_minor": 0,
  "metadata": {
    "colab": {
      "provenance": []
    },
    "kernelspec": {
      "name": "python3",
      "display_name": "Python 3"
    },
    "language_info": {
      "name": "python"
    }
  },
  "cells": [
    {
      "cell_type": "markdown",
      "source": [
        "1.\tHow do you distinguish between shutil.copy() and shutil.copytree()?\n",
        "- shutil.copy() is used copy a single file, \n",
        "- shutil.copytree() is used to copy an entire folder and every folder and file contained in it.\n"
      ],
      "metadata": {
        "id": "xhzRMXMyb7tU"
      }
    },
    {
      "cell_type": "markdown",
      "source": [
        "2.\tWhat function is used to rename files??\n",
        "- A: The rename() function renames a file or directory.\n"
      ],
      "metadata": {
        "id": "tt6W2yxOcXi0"
      }
    },
    {
      "cell_type": "markdown",
      "source": [
        "3.\tWhat is the difference between the delete functions in the send2trash and shutil modules?\n",
        "- A: The send2trash functions will move a file or folder to the recycle bin and shutil functions will permanently delete files and folders.\n"
      ],
      "metadata": {
        "id": "DGjBC7nwcikz"
      }
    },
    {
      "cell_type": "markdown",
      "source": [
        "4. ZipFile objects have a close() method just like File objects’ close() method. What ZipFile method is equivalent to File objects’ open() method?\n",
        "- A: The zipfile. ZipFile() function is equivalent to the open() function; the first argument is the filename, and the second argument is the mode to open the ZIP file in (read, write, or append).\n"
      ],
      "metadata": {
        "id": "z7bsKktJcvd9"
      }
    },
    {
      "cell_type": "markdown",
      "source": [
        "5. Create a programme that searches a folder tree for files with a certain file extension (such as .pdf or .jpg). Copy these files from whatever location they are in to a new folder."
      ],
      "metadata": {
        "id": "vA9bMOSl8Bec"
      }
    },
    {
      "cell_type": "code",
      "source": [
        "import os\n",
        "import shutil\n",
        "\n",
        "def search_files(source_folder, extension, destination_folder):\n",
        "    for root, dirs, files in os.walk(source_folder):\n",
        "        for file in files:\n",
        "            if file.endswith(extension):\n",
        "                source_path = os.path.join(root, file)\n",
        "                destination_path = os.path.join(destination_folder, file)\n",
        "                shutil.copy(source_path, destination_path)\n",
        "                print(f\"File copied: {source_path} --> {destination_path}\")\n",
        "\n",
        "# Usage example\n",
        "source_folder = \"/path/to/source/folder\"\n",
        "extension = \".pdf\"\n",
        "destination_folder = \"/path/to/destination/folder\"\n",
        "\n",
        "search_files(source_folder, extension, destination_folder)"
      ],
      "metadata": {
        "id": "AOaGH2YT820F"
      },
      "execution_count": null,
      "outputs": []
    }
  ]
}