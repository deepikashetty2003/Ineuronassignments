{
  "nbformat": 4,
  "nbformat_minor": 0,
  "metadata": {
    "colab": {
      "provenance": []
    },
    "kernelspec": {
      "name": "python3",
      "display_name": "Python 3"
    },
    "language_info": {
      "name": "python"
    }
  },
  "cells": [
    {
      "cell_type": "markdown",
      "source": [
        "Question1\n",
        "Create a function that takes an integer and returns a list from 1 to the given number, where:\n",
        "1.\tIf the number can be divided evenly by 4, amplify it by 10 (i.e. return 10 times the number).\n",
        "2.\tIf the number cannot be divided evenly by 4, simply return the number.\n",
        "Examples\n",
        "amplify(4) ➞ [1, 2, 3, 40]\n",
        "\n",
        "amplify(3) ➞ [1, 2, 3]\n",
        "\n",
        "amplify(25) ➞ [1, 2, 3, 40, 5, 6, 7, 80, 9, 10, 11, 120, 13, 14, 15, 160, 17, 18, 19, 200, 21, 22, 23, 240, 25]\n",
        "Notes\n",
        "•\tThe given integer will always be equal to or greater than 1.\n",
        "•\tInclude the number (see example above).\n",
        "•\tTo perform this problem with its intended purpose, try doing it with list comprehensions. If that's too difficult, just solve the challenge any way you can."
      ],
      "metadata": {
        "id": "dvkc5g_RPc95"
      }
    },
    {
      "cell_type": "code",
      "execution_count": 1,
      "metadata": {
        "id": "odgsNBnvO8cd"
      },
      "outputs": [],
      "source": [
        "def amplify(num):\n",
        "    return [i * 10 if i % 4 == 0 else i for i in range(1, num + 1)]"
      ]
    },
    {
      "cell_type": "code",
      "source": [
        "print(amplify(4)) \n",
        "print(amplify(3))"
      ],
      "metadata": {
        "colab": {
          "base_uri": "https://localhost:8080/"
        },
        "id": "4Qm20bP5P7l4",
        "outputId": "fda2bdfb-701b-44ad-a37d-cb2de859c8e1"
      },
      "execution_count": 2,
      "outputs": [
        {
          "output_type": "stream",
          "name": "stdout",
          "text": [
            "[1, 2, 3, 40]\n",
            "[1, 2, 3]\n"
          ]
        }
      ]
    },
    {
      "cell_type": "markdown",
      "source": [
        "Question2\n",
        "Create a function that takes a list of numbers and return the number that's unique.\n",
        "Examples\n",
        "unique([3, 3, 3, 7, 3, 3]) ➞ 7\n",
        "\n",
        "unique([0, 0, 0.77, 0, 0]) ➞ 0.77\n",
        "\n",
        "unique([0, 1, 1, 1, 1, 1, 1, 1]) ➞ 0\n",
        "Notes\n",
        "Test cases will always have exactly one unique number while all others are the same."
      ],
      "metadata": {
        "id": "aAIeVurIPiGb"
      }
    },
    {
      "cell_type": "code",
      "source": [
        "def unique(numbers):\n",
        "    count = {}\n",
        "    for num in numbers:\n",
        "        count[num] = count.get(num, 0) + 1\n",
        "    for num, freq in count.items():\n",
        "        if freq == 1:\n",
        "            return num"
      ],
      "metadata": {
        "id": "-g50ky9WPk1r"
      },
      "execution_count": 3,
      "outputs": []
    },
    {
      "cell_type": "code",
      "source": [
        "print(unique([3, 3, 3, 7, 3, 3,]))"
      ],
      "metadata": {
        "colab": {
          "base_uri": "https://localhost:8080/"
        },
        "id": "FeqvJIj9QH2d",
        "outputId": "4c8a0a32-f85c-42cc-fa73-e7d41691df69"
      },
      "execution_count": 6,
      "outputs": [
        {
          "output_type": "stream",
          "name": "stdout",
          "text": [
            "7\n"
          ]
        }
      ]
    },
    {
      "cell_type": "markdown",
      "source": [
        "Question3\n",
        "Your task is to create a Circle constructor that creates a circle with a radius provided by an argument. The circles constructed must have two getters getArea() (PIr^2) and getPerimeter() (2PI*r) which give both respective areas and perimeter (circumference).\n",
        "For help with this class, I have provided you with a Rectangle constructor which you can use as a base example.\n",
        "Examples\n",
        "circy = Circle(11)\n",
        "circy.getArea()\n",
        "\n",
        "# Should return 380.132711084365\n",
        "\n",
        "circy = Circle(4.44)\n",
        "circy.getPerimeter()\n",
        "\n",
        "# Should return 27.897342763877365\n",
        "Notes\n",
        "Round results up to the nearest integer."
      ],
      "metadata": {
        "id": "yuXXRO3mPlSL"
      }
    },
    {
      "cell_type": "code",
      "source": [
        "import math\n",
        "\n",
        "class Circle:\n",
        "    def __init__(self, radius):\n",
        "        self.radius = radius\n",
        "    \n",
        "    def getArea(self):\n",
        "        return math.ceil(math.pi * self.radius**2)\n",
        "    \n",
        "    def getPerimeter(self):\n",
        "        return math.ceil(2 * math.pi * self.radius)"
      ],
      "metadata": {
        "id": "OiKh_XWUQVxd"
      },
      "execution_count": 9,
      "outputs": []
    },
    {
      "cell_type": "code",
      "source": [
        "circy = Circle(11)\n",
        "print(circy.getArea())  \n",
        "\n",
        "circy = Circle(4.44)\n",
        "print(circy.getPerimeter()) "
      ],
      "metadata": {
        "colab": {
          "base_uri": "https://localhost:8080/"
        },
        "id": "VX72z00zPokp",
        "outputId": "727a30b0-5492-4638-e40d-3a351d0ef352"
      },
      "execution_count": 10,
      "outputs": [
        {
          "output_type": "stream",
          "name": "stdout",
          "text": [
            "381\n",
            "28\n"
          ]
        }
      ]
    },
    {
      "cell_type": "markdown",
      "source": [
        "Question4\n",
        "Create a function that takes a list of strings and return a list, sorted from shortest to longest.\n",
        "Examples\n",
        "sort_by_length([\"Google\", \"Apple\", \"Microsoft\"])\n",
        "➞ [\"Apple\", \"Google\", \"Microsoft\"]\n",
        "\n",
        "sort_by_length([\"Leonardo\", \"Michelangelo\", \"Raphael\", \"Donatello\"])\n",
        "➞ [\"Raphael\", \"Leonardo\", \"Donatello\", \"Michelangelo\"]\n",
        "\n",
        "sort_by_length([\"Turing\", \"Einstein\", \"Jung\"])\n",
        "➞ [\"Jung\", \"Turing\", \"Einstein\"]\n",
        "Notes\n",
        "All test cases contain lists with strings of different lengths, so you won't have to deal with multiple strings of the same length."
      ],
      "metadata": {
        "id": "aSTj-ZETPo36"
      }
    },
    {
      "cell_type": "code",
      "source": [
        "def sort_by_length(lst):\n",
        "    return sorted(lst, key=len)"
      ],
      "metadata": {
        "id": "iTjsyZljPrxl"
      },
      "execution_count": 11,
      "outputs": []
    },
    {
      "cell_type": "code",
      "source": [
        "print(sort_by_length([\"Google\", \"Apple\", \"Microsoft\"]))"
      ],
      "metadata": {
        "colab": {
          "base_uri": "https://localhost:8080/"
        },
        "id": "nJ8Hzx_KQxxo",
        "outputId": "232963df-465c-4e86-a2ab-5c17a3c36882"
      },
      "execution_count": 12,
      "outputs": [
        {
          "output_type": "stream",
          "name": "stdout",
          "text": [
            "['Apple', 'Google', 'Microsoft']\n"
          ]
        }
      ]
    },
    {
      "cell_type": "markdown",
      "source": [
        "Question5\n",
        "Create a function that validates whether three given integers form a Pythagorean triplet. The sum of the squares of the two smallest integers must equal the square of the largest number to be validated.\n",
        "\n",
        "\n",
        "Examples\n",
        "is_triplet(3, 4, 5) ➞ True\n",
        "# 3² + 4² = 25\n",
        "# 5² = 25\n",
        "\n",
        "is_triplet(13, 5, 12) ➞ True\n",
        "# 5² + 12² = 169\n",
        "# 13² = 169\n",
        "\n",
        "is_triplet(1, 2, 3) ➞ False\n",
        "# 1² + 2² = 5\n",
        "# 3² = 9\n",
        "Notes\n",
        "Numbers may not be given in a sorted order."
      ],
      "metadata": {
        "id": "qWI74D9cPsO2"
      }
    },
    {
      "cell_type": "code",
      "source": [
        "def is_triplet(a, b, c):\n",
        "    # Sort the integers in ascending order\n",
        "    sorted_nums = sorted([a, b, c])\n",
        "    \n",
        "    # Calculate the squares of the numbers\n",
        "    square_a = sorted_nums[0] ** 2\n",
        "    square_b = sorted_nums[1] ** 2\n",
        "    square_c = sorted_nums[2] ** 2\n",
        "    \n",
        "    # Check if the condition of a Pythagorean triplet is met\n",
        "    if square_a + square_b == square_c:\n",
        "        return True\n",
        "    else:\n",
        "        return False"
      ],
      "metadata": {
        "id": "PP8UgnCeQ8Fe"
      },
      "execution_count": 15,
      "outputs": []
    },
    {
      "cell_type": "code",
      "source": [
        "print(is_triplet(13, 5, 12))\n",
        "print(is_triplet(1, 2, 3))"
      ],
      "metadata": {
        "colab": {
          "base_uri": "https://localhost:8080/"
        },
        "id": "NYsSYrIaRIvs",
        "outputId": "b9ee2fce-b012-43d8-953c-3ee4d6c017b8"
      },
      "execution_count": 16,
      "outputs": [
        {
          "output_type": "stream",
          "name": "stdout",
          "text": [
            "True\n",
            "False\n"
          ]
        }
      ]
    }
  ]
}