{
  "nbformat": 4,
  "nbformat_minor": 0,
  "metadata": {
    "colab": {
      "provenance": []
    },
    "kernelspec": {
      "name": "python3",
      "display_name": "Python 3"
    },
    "language_info": {
      "name": "python"
    }
  },
  "cells": [
    {
      "cell_type": "markdown",
      "source": [
        "Question1\n",
        "Create a function that takes a string and returns a string in which each character is repeated once.\n",
        "Examples\n",
        "double_char(\"String\") ➞ \"SSttrriinngg\"\n",
        "\n",
        "double_char(\"Hello World!\") ➞ \"HHeelllloo  WWoorrlldd!!\"\n",
        "\n",
        "double_char(\"1234!_ \") ➞ \"11223344!!__  \""
      ],
      "metadata": {
        "id": "p4hmWS-G_574"
      }
    },
    {
      "cell_type": "code",
      "execution_count": 4,
      "metadata": {
        "id": "modmvxcS_yYz"
      },
      "outputs": [],
      "source": [
        "def double_char(string):\n",
        "    new_string = \"\"\n",
        "    for char in string:\n",
        "        new_string += char * 2\n",
        "    return new_string"
      ]
    },
    {
      "cell_type": "code",
      "source": [
        "print(double_char(\"Hello World!\")) "
      ],
      "metadata": {
        "colab": {
          "base_uri": "https://localhost:8080/"
        },
        "id": "vP6rkKMbAXEH",
        "outputId": "0c04cf3d-f25f-4685-fa05-4e172f0bf99d"
      },
      "execution_count": 5,
      "outputs": [
        {
          "output_type": "stream",
          "name": "stdout",
          "text": [
            "HHeelllloo  WWoorrlldd!!\n"
          ]
        }
      ]
    },
    {
      "cell_type": "markdown",
      "source": [
        "Question2\n",
        "Create a function that reverses a boolean value and returns the string \"boolean expected\" if another variable type is given.\n",
        "Examples\n",
        "reverse(True) ➞ False\n",
        "\n",
        "reverse(False) ➞ True\n",
        "\n",
        "reverse(0) ➞ \"boolean expected\"\n",
        "\n",
        "reverse(None) ➞ \"boolean expected\""
      ],
      "metadata": {
        "id": "bJbc21D2_9uJ"
      }
    },
    {
      "cell_type": "code",
      "source": [
        "def reverse(arg):\n",
        "    if isinstance(arg, bool):\n",
        "        return not arg\n",
        "    else:\n",
        "        return \"boolean expected\""
      ],
      "metadata": {
        "id": "_y8PQtpsAARY"
      },
      "execution_count": 6,
      "outputs": []
    },
    {
      "cell_type": "code",
      "source": [
        "print(reverse(True))"
      ],
      "metadata": {
        "id": "zp8c2sU5Awdo"
      },
      "execution_count": null,
      "outputs": []
    },
    {
      "cell_type": "markdown",
      "source": [
        "Question3\n",
        "Create a function that returns the thickness (in meters) of a piece of paper after folding it n number of times. The paper starts off with a thickness of 0.5mm.\n",
        "Examples\n",
        "num_layers(1) ➞ \"0.001m\"\n",
        "# Paper folded once is 1mm (equal to 0.001m)\n",
        "\n",
        "num_layers(4) ➞ \"0.008m\"\n",
        "# Paper folded 4 times is 8mm (equal to 0.008m)\n",
        "\n",
        "num_layers(21) ➞ \"1048.576m\"\n",
        "# Paper folded 21 times is 1048576mm (equal to 1048.576m)"
      ],
      "metadata": {
        "id": "18Rw2G84AA4U"
      }
    },
    {
      "cell_type": "code",
      "source": [
        "def num_layers(num_folds):\n",
        "    initial_thickness_mm = 0.5\n",
        "    thickness_m = initial_thickness_mm * (2 ** num_folds) / 1000\n",
        "    return f\"{thickness_m:.3f}m\""
      ],
      "metadata": {
        "id": "qbgowILAAIei"
      },
      "execution_count": 11,
      "outputs": []
    },
    {
      "cell_type": "code",
      "source": [
        "print(num_layers(4))"
      ],
      "metadata": {
        "colab": {
          "base_uri": "https://localhost:8080/"
        },
        "id": "6KRt931OA9tI",
        "outputId": "bffaa0f5-e1c0-4573-b458-36480f73d3ed"
      },
      "execution_count": 12,
      "outputs": [
        {
          "output_type": "stream",
          "name": "stdout",
          "text": [
            "0.008m\n"
          ]
        }
      ]
    },
    {
      "cell_type": "markdown",
      "source": [
        "Question4\n",
        "Create a function that takes a single string as argument and returns an ordered list containing the indices of all capital letters in the string.\n",
        "Examples\n",
        "index_of_caps(\"eDaBiT\") ➞ [1, 3, 5]\n",
        "\n",
        "index_of_caps(\"eQuINoX\") ➞ [1, 3, 4, 6]\n",
        "\n",
        "index_of_caps(\"determine\") ➞ []\n",
        "\n",
        "index_of_caps(\"STRIKE\") ➞ [0, 1, 2, 3, 4, 5]\n",
        "\n",
        "index_of_caps(\"sUn\") ➞ [1]"
      ],
      "metadata": {
        "id": "pd3GDP7SAAp1"
      }
    },
    {
      "cell_type": "code",
      "source": [
        "def index_of_caps(string):\n",
        "    indices = []\n",
        "    for i, char in enumerate(string):\n",
        "        if char.isupper():\n",
        "            indices.append(i)\n",
        "    return indices"
      ],
      "metadata": {
        "id": "JTPdHSjLAKp1"
      },
      "execution_count": 15,
      "outputs": []
    },
    {
      "cell_type": "code",
      "source": [
        "print(index_of_caps(\"eDaBiT\")) "
      ],
      "metadata": {
        "colab": {
          "base_uri": "https://localhost:8080/"
        },
        "id": "4ip0VK78BRhU",
        "outputId": "170d90e4-feb1-4f32-9a5f-1fabc3ce6c68"
      },
      "execution_count": 16,
      "outputs": [
        {
          "output_type": "stream",
          "name": "stdout",
          "text": [
            "[1, 3, 5]\n"
          ]
        }
      ]
    },
    {
      "cell_type": "markdown",
      "source": [
        "Question5\n",
        "Using list comprehensions, create a function that finds all even numbers from 1 to the given number.\n",
        "Examples\n",
        "find_even_nums(8) ➞ [2, 4, 6, 8]\n",
        "\n",
        "find_even_nums(4) ➞ [2, 4]\n",
        "\n",
        "find_even_nums(2) ➞ [2]"
      ],
      "metadata": {
        "id": "7l647cugALG3"
      }
    },
    {
      "cell_type": "code",
      "source": [
        "def find_even_nums(n):\n",
        "    return [num for num in range(1, n+1) if num % 2 == 0]"
      ],
      "metadata": {
        "id": "xjBM5JhCAMhF"
      },
      "execution_count": 19,
      "outputs": []
    },
    {
      "cell_type": "code",
      "source": [
        "print(find_even_nums(8))"
      ],
      "metadata": {
        "colab": {
          "base_uri": "https://localhost:8080/"
        },
        "id": "Ms0FT2moBlrr",
        "outputId": "8c7747f6-4ab4-4c95-d091-9938bd7f1a4d"
      },
      "execution_count": 20,
      "outputs": [
        {
          "output_type": "stream",
          "name": "stdout",
          "text": [
            "[2, 4, 6, 8]\n"
          ]
        }
      ]
    }
  ]
}