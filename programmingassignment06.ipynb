{
  "nbformat": 4,
  "nbformat_minor": 0,
  "metadata": {
    "colab": {
      "provenance": []
    },
    "kernelspec": {
      "name": "python3",
      "display_name": "Python 3"
    },
    "language_info": {
      "name": "python"
    }
  },
  "cells": [
    {
      "cell_type": "markdown",
      "source": [
        "1.\tWrite a Python Program to Display Fibonacci Sequence Using Recursion?"
      ],
      "metadata": {
        "id": "Hx76RMJKgla4"
      }
    },
    {
      "cell_type": "code",
      "execution_count": 1,
      "metadata": {
        "id": "7XosJmhMgifg",
        "colab": {
          "base_uri": "https://localhost:8080/"
        },
        "outputId": "34c81196-aaca-4a0d-bf18-aead9afec3f9"
      },
      "outputs": [
        {
          "output_type": "stream",
          "name": "stdout",
          "text": [
            "Fibonacci Sequence:\n",
            "0\n",
            "1\n",
            "1\n",
            "2\n",
            "3\n",
            "5\n",
            "8\n",
            "13\n",
            "21\n",
            "34\n"
          ]
        }
      ],
      "source": [
        "terms = 10\n",
        "def display_fibonacci(n):\n",
        "    if n <= 0:\n",
        "        return []\n",
        "    elif n == 1:\n",
        "        return [0]\n",
        "    elif n == 2:\n",
        "        return [0, 1]\n",
        "    else:\n",
        "        fib_seq = display_fibonacci(n - 1)\n",
        "        fib_seq.append(fib_seq[-1] + fib_seq[-2])\n",
        "        return fib_seq\n",
        "\n",
        "# Display the Fibonacci sequence\n",
        "fibonacci_sequence = display_fibonacci(terms)\n",
        "print(\"Fibonacci Sequence:\")\n",
        "for num in fibonacci_sequence:\n",
        "    print(num)"
      ]
    },
    {
      "cell_type": "markdown",
      "source": [
        "2.\tWrite a Python Program to Find Factorial of Number Using Recursion?"
      ],
      "metadata": {
        "id": "TkxQ-G6egnhW"
      }
    },
    {
      "cell_type": "code",
      "source": [
        "# Recursive function to calculate the factorial\n",
        "def calculate_factorial(n):\n",
        "    if n == 0:\n",
        "        return 1\n",
        "    else:\n",
        "        return n * calculate_factorial(n - 1)\n",
        "# input \n",
        "num = int(input(\"Enter a number: \"))\n",
        "# Calculate the factorial\n",
        "factorial = calculate_factorial(num)\n",
        "# Print the factorial\n",
        "print(\"Factorial of\", num, \"is\", factorial)"
      ],
      "metadata": {
        "id": "TrOI8-5bgpBI",
        "colab": {
          "base_uri": "https://localhost:8080/"
        },
        "outputId": "59ad902f-4d63-42b7-e980-5caaccfc4e25"
      },
      "execution_count": 10,
      "outputs": [
        {
          "output_type": "stream",
          "name": "stdout",
          "text": [
            "Enter a number: 5\n",
            "Factorial of 5 is 120\n"
          ]
        }
      ]
    },
    {
      "cell_type": "markdown",
      "source": [
        "3.\tWrite a Python Program to calculate your Body Mass Index?"
      ],
      "metadata": {
        "id": "tLJCqOc4gpam"
      }
    },
    {
      "cell_type": "code",
      "source": [
        "weight = float(input(\"Enter your weight in kilograms: \"))\n",
        "height = float(input(\"Enter your height in meters: \"))\n",
        "bmi = weight / (height ** 2)\n",
        "print(\"Your Body Mass Index (BMI) is:\", bmi)"
      ],
      "metadata": {
        "id": "rmDdRK6Qgv5p",
        "colab": {
          "base_uri": "https://localhost:8080/"
        },
        "outputId": "7daebc2b-665f-4d18-8a8a-9768eef7c6bf"
      },
      "execution_count": 11,
      "outputs": [
        {
          "output_type": "stream",
          "name": "stdout",
          "text": [
            "Enter your weight in kilograms: 76\n",
            "Enter your height in meters: 1.064\n",
            "Your Body Mass Index (BMI) is: 67.13211600429645\n"
          ]
        }
      ]
    },
    {
      "cell_type": "markdown",
      "source": [
        "4.\tWrite a Python Program to calculate the natural logarithm of any number?"
      ],
      "metadata": {
        "id": "iiCkQ-Q4grI4"
      }
    },
    {
      "cell_type": "code",
      "source": [
        "import math\n",
        "number = float(input(\"Enter a number: \"))\n",
        "natural_log = math.log(number)6\n",
        "print(\"The natural logarithm of\", number, \"is:\", natural_log)"
      ],
      "metadata": {
        "id": "1v1n8PrhgszE",
        "colab": {
          "base_uri": "https://localhost:8080/"
        },
        "outputId": "eaebefb8-d3a5-48cb-a02c-5bace5ed5619"
      },
      "execution_count": 12,
      "outputs": [
        {
          "output_type": "stream",
          "name": "stdout",
          "text": [
            "Enter a number: 64\n",
            "The natural logarithm of 64.0 is: 4.1588830833596715\n"
          ]
        }
      ]
    },
    {
      "cell_type": "markdown",
      "source": [
        "5.\tWrite a Python Program for cube sum of first n natural numbers?\n"
      ],
      "metadata": {
        "id": "0cJnSvjUgtOP"
      }
    },
    {
      "cell_type": "code",
      "source": [
        "n = int(input(\"Enter the value of n: \"))\n",
        "cube_sum = 0\n",
        "for num in range(1, n+1):\n",
        "    cube_sum += num**3\n",
        "print(\"The cube sum of the first\", n, \"natural numbers is:\", cube_sum)"
      ],
      "metadata": {
        "colab": {
          "base_uri": "https://localhost:8080/"
        },
        "id": "OIwwU9n8vxzq",
        "outputId": "9e6381bc-b75a-4a89-d49b-a5da6288fa9d"
      },
      "execution_count": 13,
      "outputs": [
        {
          "output_type": "stream",
          "name": "stdout",
          "text": [
            "Enter the value of n: 5\n",
            "The cube sum of the first 5 natural numbers is: 225\n"
          ]
        }
      ]
    }
  ]
}