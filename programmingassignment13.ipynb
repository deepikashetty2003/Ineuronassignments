{
  "nbformat": 4,
  "nbformat_minor": 0,
  "metadata": {
    "colab": {
      "provenance": []
    },
    "kernelspec": {
      "name": "python3",
      "display_name": "Python 3"
    },
    "language_info": {
      "name": "python"
    }
  },
  "cells": [
    {
      "cell_type": "markdown",
      "source": [
        "1. **Write a program that calculates and prints the value according to the given formula:**\n",
        "\n",
        "Q = Square root of [(2 * C * D)/H]\n",
        "\n",
        "Following are the fixed values of C and H:\n",
        "\n",
        "C is 50. H is 30.\n",
        "\n",
        "D is the variable whose values should be input to your program in a comma-separated sequence.\n",
        "\n",
        "Example\n",
        "\n",
        "Let us assume the following comma separated input sequence is given to the program:\n",
        "\n",
        "100,150,180\n",
        "\n",
        "The output of the program should be:\n",
        "\n",
        "18,22,24"
      ],
      "metadata": {
        "id": "RmoIH01b-KUa"
      }
    },
    {
      "cell_type": "code",
      "execution_count": 1,
      "metadata": {
        "colab": {
          "base_uri": "https://localhost:8080/"
        },
        "id": "ujNdxc1_-Dhm",
        "outputId": "949c2409-3848-4509-fe7e-bd355bdecfd9"
      },
      "outputs": [
        {
          "output_type": "stream",
          "name": "stdout",
          "text": [
            "Enter the values of D (comma-separated sequence): 100,150,180\n",
            "Output: 18,22,24\n"
          ]
        }
      ],
      "source": [
        "import math\n",
        "C = 50\n",
        "H = 30\n",
        "input_sequence = input(\"Enter the values of D (comma-separated sequence): \")\n",
        "values = input_sequence.split(\",\")\n",
        "results = []\n",
        "for value in values:\n",
        "    D = int(value)\n",
        "    Q = int(math.sqrt((2 * C * D) / H))\n",
        "    results.append(Q)\n",
        "output = \",\".join(str(result) for result in results)\n",
        "print(\"Output:\", output)"
      ]
    },
    {
      "cell_type": "markdown",
      "source": [
        "2. Write a program which takes 2 digits, X,Y as input and generates a 2-dimensional array. The element value in the i-th row and j-th column of the array should be i*j.\n",
        "\n",
        "Note: i=0,1.., X-1; j=0,1,¡¬Y-1.\n",
        "\n",
        "Example\n",
        "\n",
        "Suppose the following inputs are given to the program:\n",
        "\n",
        "3,5\n",
        "\n",
        "Then, the output of the program should be:\n",
        "\n",
        "[[0, 0, 0, 0, 0], [0, 1, 2, 3, 4], [0, 2, 4, 6, 8]] \n"
      ],
      "metadata": {
        "id": "Usd58cVQ-zwS"
      }
    },
    {
      "cell_type": "code",
      "source": [
        "X, Y = map(int, input(\"Enter the values of X and Y (comma-separated): \").split(\",\"))\n",
        "# Generate the 2-dimensional array\n",
        "array = [[i * j for j in range(Y)] for i in range(X)]\n",
        "# Print the array\n",
        "print(\"Output:\")\n",
        "for row in array:\n",
        "    print(row)"
      ],
      "metadata": {
        "colab": {
          "base_uri": "https://localhost:8080/"
        },
        "id": "8v5X3YC__AuU",
        "outputId": "757d8ada-cdee-4c1d-c8a5-4adf42314080"
      },
      "execution_count": 2,
      "outputs": [
        {
          "output_type": "stream",
          "name": "stdout",
          "text": [
            "Enter the values of X and Y (comma-separated): 3,5\n",
            "Output:\n",
            "[0, 0, 0, 0, 0]\n",
            "[0, 1, 2, 3, 4]\n",
            "[0, 2, 4, 6, 8]\n"
          ]
        }
      ]
    },
    {
      "cell_type": "markdown",
      "source": [
        "3. Write a program that accepts a comma separated sequence of words as input and prints the words in a comma-separated sequence after sorting them alphabetically.\n",
        "\n",
        "Suppose the following input is supplied to the program:\n",
        "\n",
        "without,hello,bag,world\n",
        "\n",
        "Then, the output should be:\n",
        "\n",
        "bag,hello,without,world"
      ],
      "metadata": {
        "id": "I3ZnsWHh_S-9"
      }
    },
    {
      "cell_type": "code",
      "source": [
        "words = input(\"Enter a comma-separated sequence of words: \")\n",
        "# Split the words and sort them alphabetically\n",
        "sorted_words = sorted(words.split(\",\"))\n",
        "# Print the sorted words in a comma-separated sequence\n",
        "output = \",\".join(sorted_words)\n",
        "print(\"Output:\", output)"
      ],
      "metadata": {
        "colab": {
          "base_uri": "https://localhost:8080/"
        },
        "id": "pX4iQ6HJ_WJ4",
        "outputId": "0d9e5bfe-086d-48b5-ea88-e3991222fabd"
      },
      "execution_count": 3,
      "outputs": [
        {
          "output_type": "stream",
          "name": "stdout",
          "text": [
            "Enter a comma-separated sequence of words: without,hello,bag,world\n",
            "Output: bag,hello,without,world\n"
          ]
        }
      ]
    },
    {
      "cell_type": "markdown",
      "source": [
        "4. Write a program that accepts a sequence of whitespace separated words as input and prints the words after removing all duplicate words and sorting them alphanumerically.\n",
        "\n",
        "Suppose the following input is supplied to the program:\n",
        "\n",
        "hello world and practice makes perfect and hello world again\n",
        "\n",
        "Then, the output should be:\n",
        "\n",
        "again and hello makes perfect practice world"
      ],
      "metadata": {
        "id": "hjhjTzJq_nNl"
      }
    },
    {
      "cell_type": "code",
      "source": [
        "words = input(\"Enter a sequence of whitespace-separated words: \")\n",
        "# Split the words and remove duplicate words\n",
        "unique_words = list(set(words.split()))\n",
        "# Sort the unique words alphanumerically\n",
        "sorted_words = sorted(unique_words)\n",
        "# Print the sorted words\n",
        "output = \" \".join(sorted_words)\n",
        "print(\"Output:\", output)"
      ],
      "metadata": {
        "colab": {
          "base_uri": "https://localhost:8080/"
        },
        "id": "fERy3Bhk_juy",
        "outputId": "c17ebb13-fc29-4455-eb4c-fa9f1dce9dc5"
      },
      "execution_count": 4,
      "outputs": [
        {
          "output_type": "stream",
          "name": "stdout",
          "text": [
            "Enter a sequence of whitespace-separated words: hello world and practice makes perfect and hello world again\n",
            "Output: again and hello makes perfect practice world\n"
          ]
        }
      ]
    },
    {
      "cell_type": "markdown",
      "source": [
        "5. Write a program that accepts a sentence and calculate the number of letters and digits.\n",
        "\n",
        "Suppose the following input is supplied to the program:\n",
        "\n",
        "hello world! 123\n",
        "\n",
        "Then, the output should be:\n",
        "\n",
        "LETTERS 10\n",
        "\n",
        "DIGITS 3"
      ],
      "metadata": {
        "id": "EQexiW6T__MI"
      }
    },
    {
      "cell_type": "code",
      "source": [
        "sentence = input(\"Enter a sentence: \")\n",
        "# Initialize counters for letters and digits\n",
        "letter_count = 0\n",
        "digit_count = 0\n",
        "# Iterate over each character in the sentence\n",
        "for char in sentence:\n",
        "    if char.isalpha():\n",
        "        letter_count += 1\n",
        "    elif char.isdigit():\n",
        "        digit_count += 1\n",
        "# Print the number of letters and digits\n",
        "print(\"LETTERS\", letter_count)\n",
        "print(\"DIGITS\", digit_count)"
      ],
      "metadata": {
        "colab": {
          "base_uri": "https://localhost:8080/"
        },
        "id": "JyTmkDu9AM_N",
        "outputId": "135eab6f-79f9-4591-d889-a745b59162d6"
      },
      "execution_count": 5,
      "outputs": [
        {
          "output_type": "stream",
          "name": "stdout",
          "text": [
            "Enter a sentence: hello world! 123\n",
            "LETTERS 10\n",
            "DIGITS 3\n"
          ]
        }
      ]
    },
    {
      "cell_type": "markdown",
      "source": [
        "6. A website requires the users to input username and password to register. Write a program to check the validity of password input by users.\n",
        "\n",
        "Following are the criteria for checking the password:\n",
        "\n",
        "1. At least 1 letter between [a-z]\n",
        "\n",
        "2. At least 1 number between [0-9]\n",
        "\n",
        "1. At least 1 letter between [A-Z]\n",
        "\n",
        "3. At least 1 character from [$#@]\n",
        "\n",
        "4. Minimum length of transaction password: 6\n",
        "\n",
        "5. Maximum length of transaction password: 12\n",
        "\n",
        "Your program should accept a sequence of comma separated passwords and will check them according to the above criteria. Passwords that match the criteria are to be printed, each separated by a comma.\n",
        "\n",
        "Example\n",
        "\n",
        "If the following passwords are given as input to the program:\n",
        "\n",
        "ABd1234@1,a F1#,2w3E*,2We3345\n",
        "\n",
        "Then, the output of the program should be:\n",
        "\n",
        "ABd1234@1"
      ],
      "metadata": {
        "id": "WE7nBGl1AHl9"
      }
    },
    {
      "cell_type": "code",
      "source": [
        "import re\n",
        "passwords = input(\"Enter comma-separated passwords: \")\n",
        "password_list = passwords.split(\",\")\n",
        "pattern = re.compile(r\"^(?=.*[a-z])(?=.*[A-Z])(?=.*\\d)(?=.*[$#@]).{6,12}$\")\n",
        "valid_passwords = []\n",
        "for password in password_list:\n",
        "    if pattern.match(password):\n",
        "        valid_passwords.append(password)\n",
        "output = \",\".join(valid_passwords)\n",
        "print(\"Valid Passwords:\", output)"
      ],
      "metadata": {
        "colab": {
          "base_uri": "https://localhost:8080/"
        },
        "id": "GfOiDw1UAbtc",
        "outputId": "725b6781-7341-48d6-adc7-1000cdb56aa2"
      },
      "execution_count": 6,
      "outputs": [
        {
          "output_type": "stream",
          "name": "stdout",
          "text": [
            "Enter comma-separated passwords: ABd1234@1,a F1#,2w3E*,2We3345\n",
            "Valid Passwords: ABd1234@1\n"
          ]
        }
      ]
    }
  ]
}