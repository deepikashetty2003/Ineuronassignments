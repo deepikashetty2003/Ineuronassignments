{
  "nbformat": 4,
  "nbformat_minor": 0,
  "metadata": {
    "colab": {
      "provenance": []
    },
    "kernelspec": {
      "name": "python3",
      "display_name": "Python 3"
    },
    "language_info": {
      "name": "python"
    }
  },
  "cells": [
    {
      "cell_type": "markdown",
      "source": [
        "1. In the below elements which of them are values or an expression? eg:- values can be integer or string and expressions will be mathematical operators."
      ],
      "metadata": {
        "id": "a6tNI-LlNyLG"
      }
    },
    {
      "cell_type": "code",
      "execution_count": null,
      "metadata": {
        "id": "_koS79FAMJyh"
      },
      "outputs": [],
      "source": [
        "-     **        --> Expressions\n",
        "       'hello'  --> Value\n",
        "       -87.8    --> Value\n",
        "       -        --> Expressions\n",
        "       /        --> Expressions\n",
        "       +\t      --> Expressions\n",
        "       6        --> Value"
      ]
    },
    {
      "cell_type": "markdown",
      "source": [
        "2. What is the difference between string and variable?\n",
        "\n",
        "* String : Strings are used to store a text/character data type Strings always start and end with quotes.\n",
        "* Variable : variable are used to store any data like characters,integer etc...\n",
        "\n",
        "    Eg: Name = \"deepika\"\n",
        "        here,\n",
        "            Name is a variable\n",
        "            deepika is a String"
      ],
      "metadata": {
        "id": "0wgmO5G7NvaT"
      }
    },
    {
      "cell_type": "markdown",
      "source": [
        "3. Describe three different data types."
      ],
      "metadata": {
        "id": "y6nyXfK9Ptg-"
      }
    },
    {
      "cell_type": "code",
      "source": [
        "  # 1. Integers :  Stores only numberic value and it must be integer\n",
        "  a = 3\n",
        "  print(type(a)) \n",
        "\n",
        "  # 2. Float :  Strores numeric values but containing decimal number.\n",
        "  b = 2.5\n",
        "  print(type(b))\n",
        "\n",
        "  # 3. strings : Strings are used to store a text/character data type Strings always start and end with quotes.\n",
        "  c = \"deepika\"\n",
        "  print(type(c))"
      ],
      "metadata": {
        "colab": {
          "base_uri": "https://localhost:8080/"
        },
        "id": "8_fS_LytNo43",
        "outputId": "95d1b623-c345-4527-e50f-87eef00d44f5"
      },
      "execution_count": null,
      "outputs": [
        {
          "output_type": "stream",
          "name": "stdout",
          "text": [
            "<class 'int'>\n",
            "<class 'float'>\n",
            "<class 'str'>\n"
          ]
        }
      ]
    },
    {
      "cell_type": "markdown",
      "source": [
        "4. What is an expression made up of? What do all expressions do?\n",
        "\n",
        "Combinations of values and operators is called as expression that combines and produce single value like adds two values divides multiples etc.,\n",
        "\n",
        "|Operation|Meaning|\n",
        "|--|--|\n",
        "| **+** |addition|\n",
        "| **-** |subtraction|\n",
        "| **\\*** |multiplication|\n",
        "| **/** |true division|\n",
        "| **//** |integer division|\n",
        "| **%** |the modulo operator|\n",
        "\n",
        "\n",
        "2+4  #Addition\n",
        "4-1  #Substraction\n",
        "5*7  #Multiplication\n",
        "4/2  #Division\n",
        "4%2  #Remainder/modulo opeartor\n"
      ],
      "metadata": {
        "id": "1kVXlz3QSw3Q"
      }
    },
    {
      "cell_type": "code",
      "source": [
        "A = 2+4 #Addition\n",
        "print(A)  \n",
        "B=4-1  #Substraction\n",
        "print(B)  \n",
        "C=5*7 #Multiplication\n",
        "print(C)  \n",
        "D=4/2  #Division\n",
        "print(D)\n",
        "E=7%2 #Remainder/modulo opeartor\n",
        "print(E)  "
      ],
      "metadata": {
        "colab": {
          "base_uri": "https://localhost:8080/"
        },
        "id": "sow_y3n0ml62",
        "outputId": "30fc2d4b-b6cd-4063-e56c-17cb6ecdfbe1"
      },
      "execution_count": null,
      "outputs": [
        {
          "output_type": "stream",
          "name": "stdout",
          "text": [
            "6\n",
            "3\n",
            "35\n",
            "2.0\n",
            "1\n"
          ]
        }
      ]
    },
    {
      "cell_type": "markdown",
      "source": [
        "5. This assignment statements, like spam = 10. What is the difference between an expression and a statement?\n",
        "\n",
        "Ans: expression evaluates to a single value. A statement does not."
      ],
      "metadata": {
        "id": "YxFal2qeTZqR"
      }
    },
    {
      "cell_type": "markdown",
      "source": [
        "6. After running the following code, what does the variable bacon contain?"
      ],
      "metadata": {
        "id": "jpdOv2cHVMa4"
      }
    },
    {
      "cell_type": "code",
      "source": [
        "bacon = 22"
      ],
      "metadata": {
        "id": "tkS9tVo_PsoR"
      },
      "execution_count": null,
      "outputs": []
    },
    {
      "cell_type": "code",
      "source": [
        "bacon + 1  #Ans : Initially we assign integer(22) to variable(bacon) and now we add 1 to bacon I.e 23 integer value and the value \n",
        "#of bacon is 22"
      ],
      "metadata": {
        "colab": {
          "base_uri": "https://localhost:8080/"
        },
        "id": "f3Z75l0OVSQP",
        "outputId": "9d0aa2e9-c1a9-4095-bba3-eca144d87a68"
      },
      "execution_count": null,
      "outputs": [
        {
          "output_type": "execute_result",
          "data": {
            "text/plain": [
              "23"
            ]
          },
          "metadata": {},
          "execution_count": 6
        }
      ]
    },
    {
      "cell_type": "markdown",
      "source": [
        "7. What should the values of the following two terms be?\n",
        "\n",
        "Ans: Both the operation evalutes to string in firststring we use '+' to concatenate and in second line string we use * to mulitiply string both outputs will be same but we different expressions\n"
      ],
      "metadata": {
        "id": "ObH_Eg0OV_pv"
      }
    },
    {
      "cell_type": "code",
      "source": [
        "'spam' + 'spamspam'"
      ],
      "metadata": {
        "colab": {
          "base_uri": "https://localhost:8080/",
          "height": 36
        },
        "id": "b3Z29iz1WKKa",
        "outputId": "67aacf46-cc70-48a5-dd9d-f69d22eac826"
      },
      "execution_count": null,
      "outputs": [
        {
          "output_type": "execute_result",
          "data": {
            "text/plain": [
              "'spamspamspam'"
            ],
            "application/vnd.google.colaboratory.intrinsic+json": {
              "type": "string"
            }
          },
          "metadata": {},
          "execution_count": 8
        }
      ]
    },
    {
      "cell_type": "code",
      "source": [
        "'spam' * 3"
      ],
      "metadata": {
        "colab": {
          "base_uri": "https://localhost:8080/",
          "height": 36
        },
        "id": "rD768Z-SWION",
        "outputId": "fddef35f-c376-4cff-c5a1-334d4d084085"
      },
      "execution_count": null,
      "outputs": [
        {
          "output_type": "execute_result",
          "data": {
            "text/plain": [
              "'spamspamspam'"
            ],
            "application/vnd.google.colaboratory.intrinsic+json": {
              "type": "string"
            }
          },
          "metadata": {},
          "execution_count": 9
        }
      ]
    },
    {
      "cell_type": "markdown",
      "source": [
        "8. Why is eggs a valid variable name while 100 is invalid?\n",
        "\n",
        "Ans: Variable names cannot begin with a number so eggs is valid and 100 is invalid."
      ],
      "metadata": {
        "id": "JLCqJRRPW1DG"
      }
    },
    {
      "cell_type": "markdown",
      "source": [
        "9. What three functions can be used to get the integer, floating-point number, or string version of a value?\n",
        "\n",
        "Ans: The int(), float(), and str() functions use to the integer, floating-point and string versions of the value passed to them."
      ],
      "metadata": {
        "id": "NEpTQhkTW_fr"
      }
    },
    {
      "cell_type": "markdown",
      "source": [
        "10. Why does this expression cause an error? How can you fix it?\n",
        "'I have eaten ' + 99 + ' burritos.'\n",
        "\n",
        "Ans: The expression causes an error because 99 is an integer, and only strings can concatenated to other strings with the + operator. The correct way is 'I have eaten' + \"99\" + ' burritos.'"
      ],
      "metadata": {
        "id": "3eY37kcuXMt7"
      }
    },
    {
      "cell_type": "code",
      "source": [
        "'I have eaten ' + 99 + ' burritos.'"
      ],
      "metadata": {
        "colab": {
          "base_uri": "https://localhost:8080/",
          "height": 170
        },
        "id": "aIU1XYGyXJX3",
        "outputId": "bf12fccf-346d-4424-93ec-ed2db56149c3"
      },
      "execution_count": null,
      "outputs": [
        {
          "output_type": "error",
          "ename": "TypeError",
          "evalue": "ignored",
          "traceback": [
            "\u001b[0;31m---------------------------------------------------------------------------\u001b[0m",
            "\u001b[0;31mTypeError\u001b[0m                                 Traceback (most recent call last)",
            "\u001b[0;32m<ipython-input-10-d24137131a5c>\u001b[0m in \u001b[0;36m<module>\u001b[0;34m\u001b[0m\n\u001b[0;32m----> 1\u001b[0;31m \u001b[0;34m'I have eaten '\u001b[0m \u001b[0;34m+\u001b[0m \u001b[0;36m99\u001b[0m \u001b[0;34m+\u001b[0m \u001b[0;34m' burritos.'\u001b[0m\u001b[0;34m\u001b[0m\u001b[0;34m\u001b[0m\u001b[0m\n\u001b[0m",
            "\u001b[0;31mTypeError\u001b[0m: can only concatenate str (not \"int\") to str"
          ]
        }
      ]
    },
    {
      "cell_type": "code",
      "source": [
        "'I have eaten' + \"99\" + ' burritos.'"
      ],
      "metadata": {
        "colab": {
          "base_uri": "https://localhost:8080/",
          "height": 36
        },
        "id": "E4CuyS06XlEH",
        "outputId": "e3229a84-21fb-461c-9981-cb905fae9216"
      },
      "execution_count": null,
      "outputs": [
        {
          "output_type": "execute_result",
          "data": {
            "text/plain": [
              "'I have eaten99 burritos.'"
            ],
            "application/vnd.google.colaboratory.intrinsic+json": {
              "type": "string"
            }
          },
          "metadata": {},
          "execution_count": 14
        }
      ]
    }
  ]
}