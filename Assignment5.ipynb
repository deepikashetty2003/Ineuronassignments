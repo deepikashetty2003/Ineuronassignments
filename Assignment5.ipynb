{
  "nbformat": 4,
  "nbformat_minor": 0,
  "metadata": {
    "colab": {
      "provenance": []
    },
    "kernelspec": {
      "name": "python3",
      "display_name": "Python 3"
    },
    "language_info": {
      "name": "python"
    }
  },
  "cells": [
    {
      "cell_type": "markdown",
      "source": [
        "1. What does an empty dictionary's code look like?\n",
        "\n",
        "\n"
      ],
      "metadata": {
        "id": "iZwtkLO34Ynk"
      }
    },
    {
      "cell_type": "code",
      "source": [
        "my_dict = {}"
      ],
      "metadata": {
        "id": "OSfzh4VS5DcU"
      },
      "execution_count": 1,
      "outputs": []
    },
    {
      "cell_type": "markdown",
      "source": [
        "2. What is the value of a dictionary value with the key 'foo' and the value 42?\n"
      ],
      "metadata": {
        "id": "eCvbGcG54bkt"
      }
    },
    {
      "cell_type": "code",
      "source": [
        "my_dict={\"foo\" : 42}\n",
        "my_dict\n",
        "#In above mentioned example, my_dict is a single key-value pair where the key is 'foo' and the value is 42. \n",
        "#We use the square bracket notation to access the value associated with the 'foo' key, which is 42."
      ],
      "metadata": {
        "colab": {
          "base_uri": "https://localhost:8080/"
        },
        "id": "DzbfjAbw5NEn",
        "outputId": "db3557c5-4813-4610-a74b-51673e5ff38d"
      },
      "execution_count": 9,
      "outputs": [
        {
          "output_type": "execute_result",
          "data": {
            "text/plain": [
              "{'foo': 42}"
            ]
          },
          "metadata": {},
          "execution_count": 9
        }
      ]
    },
    {
      "cell_type": "markdown",
      "source": [
        "3. What is the most significant distinction between a dictionary and a list?\n",
        "- Dictionary :It is a unordered collection of key-value pairs.\n",
        "- Key : It is a list of ordered collection of elements."
      ],
      "metadata": {
        "id": "0_pqoryd4d26"
      }
    },
    {
      "cell_type": "markdown",
      "source": [
        "4. What happens if you try to access spam['foo'] if spam is {'bar': 100}?\n"
      ],
      "metadata": {
        "id": "6kOpcGSV4f87"
      }
    },
    {
      "cell_type": "code",
      "source": [
        "spam = {'bar': 100}\n",
        "print(spam['foo']) #KeyError because the key 'foo' does not exist in the dictionary spam"
      ],
      "metadata": {
        "colab": {
          "base_uri": "https://localhost:8080/",
          "height": 188
        },
        "id": "jBuTWqio6sYi",
        "outputId": "460f17bd-fdf5-4d1b-df24-5c9abe34da79"
      },
      "execution_count": 4,
      "outputs": [
        {
          "output_type": "error",
          "ename": "KeyError",
          "evalue": "ignored",
          "traceback": [
            "\u001b[0;31m---------------------------------------------------------------------------\u001b[0m",
            "\u001b[0;31mKeyError\u001b[0m                                  Traceback (most recent call last)",
            "\u001b[0;32m<ipython-input-4-a6efe2f90084>\u001b[0m in \u001b[0;36m<cell line: 2>\u001b[0;34m()\u001b[0m\n\u001b[1;32m      1\u001b[0m \u001b[0mspam\u001b[0m \u001b[0;34m=\u001b[0m \u001b[0;34m{\u001b[0m\u001b[0;34m'bar'\u001b[0m\u001b[0;34m:\u001b[0m \u001b[0;36m100\u001b[0m\u001b[0;34m}\u001b[0m\u001b[0;34m\u001b[0m\u001b[0;34m\u001b[0m\u001b[0m\n\u001b[0;32m----> 2\u001b[0;31m \u001b[0mprint\u001b[0m\u001b[0;34m(\u001b[0m\u001b[0mspam\u001b[0m\u001b[0;34m[\u001b[0m\u001b[0;34m'foo'\u001b[0m\u001b[0;34m]\u001b[0m\u001b[0;34m)\u001b[0m\u001b[0;34m\u001b[0m\u001b[0;34m\u001b[0m\u001b[0m\n\u001b[0m",
            "\u001b[0;31mKeyError\u001b[0m: 'foo'"
          ]
        }
      ]
    },
    {
      "cell_type": "markdown",
      "source": [
        "5. If a dictionary is stored in spam, what is the difference between the expressions 'cat' in spam and 'cat' in spam.keys()?\n",
        "- There is no difference between the expressions 'cat' in spam and 'cat' in spam.keys() because they both check whether the key 'cat' exists in the dictionary spam\n"
      ],
      "metadata": {
        "id": "eliOS-y24hrt"
      }
    },
    {
      "cell_type": "markdown",
      "source": [
        "6. If a dictionary is stored in spam, what is the difference between the expressions 'cat' in spam and 'cat' in spam.values()?\n",
        "- The expression 'cat' in spam checks if the string 'cat' is a key in the dictionary spam. If the key exists, the expression will return True, otherwise it will return False\n"
      ],
      "metadata": {
        "id": "smDD7hVE4jys"
      }
    },
    {
      "cell_type": "markdown",
      "source": [
        "7. What is a shortcut for the following code?\n",
        "if 'color' not in spam:\n",
        "spam['color'] = 'black'\n",
        "\n"
      ],
      "metadata": {
        "id": "6iFpMJzx4l4a"
      }
    },
    {
      "cell_type": "code",
      "source": [
        "spam.setdefault('color', 'black')"
      ],
      "metadata": {
        "colab": {
          "base_uri": "https://localhost:8080/",
          "height": 36
        },
        "id": "XWjGn1eN8lKI",
        "outputId": "0d28b4c5-de30-4431-810a-47329f5f97bf"
      },
      "execution_count": 7,
      "outputs": [
        {
          "output_type": "execute_result",
          "data": {
            "text/plain": [
              "'black'"
            ],
            "application/vnd.google.colaboratory.intrinsic+json": {
              "type": "string"
            }
          },
          "metadata": {},
          "execution_count": 7
        }
      ]
    },
    {
      "cell_type": "markdown",
      "source": [
        "8. How do you \"pretty print\" dictionary values using which module and function?\n",
        "- We can use the pprint module, provides a pprint() function that formats the dictionary in a more human-readable way than the built-in print() function."
      ],
      "metadata": {
        "id": "Vj5UPYlV4oTV"
      }
    }
  ]
}