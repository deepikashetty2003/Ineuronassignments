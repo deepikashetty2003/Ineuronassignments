{
  "nbformat": 4,
  "nbformat_minor": 0,
  "metadata": {
    "colab": {
      "provenance": []
    },
    "kernelspec": {
      "name": "python3",
      "display_name": "Python 3"
    },
    "language_info": {
      "name": "python"
    }
  },
  "cells": [
    {
      "cell_type": "markdown",
      "source": [
        "1.\tWrite a Python program to find words which are greater than given length k?"
      ],
      "metadata": {
        "id": "wstQ3-xU13Mj"
      }
    },
    {
      "cell_type": "code",
      "execution_count": 20,
      "metadata": {
        "colab": {
          "base_uri": "https://localhost:8080/"
        },
        "id": "DvdVPrTd12Fm",
        "outputId": "38cd976e-90d2-44b3-9cf3-f96fb145edc4"
      },
      "outputs": [
        {
          "output_type": "stream",
          "name": "stdout",
          "text": [
            "Enter a sentence: My name is deepika and my sister name is shreya\n",
            "Enter the minimum word length: 3\n",
            "Words greater than length 3 :\n",
            "name\n",
            "deepika\n",
            "sister\n",
            "name\n",
            "shreya\n"
          ]
        }
      ],
      "source": [
        "sentence = input(\"Enter a sentence: \")\n",
        "k = int(input(\"Enter the minimum word length: \"))\n",
        "words = sentence.split()\n",
        "long_words = [word for word in words if len(word) > k]\n",
        "print(\"Words greater than length\", k, \":\")\n",
        "for word in long_words:\n",
        "    print(word)"
      ]
    },
    {
      "cell_type": "markdown",
      "source": [
        "2.\tWrite a Python program for removing i-th character from a string?"
      ],
      "metadata": {
        "id": "Rf6SGJ5Q15wx"
      }
    },
    {
      "cell_type": "code",
      "source": [
        "string = input(\"Enter a string: \")\n",
        "i = int(input(\"Enter the index of the character to remove: \"))\n",
        "if i >= 0 and i < len(string):\n",
        "    new_string = string[:i] + string[i+1:]\n",
        "    print(\"Modified string:\", new_string)\n",
        "else:\n",
        "    print(\"Invalid index!\")"
      ],
      "metadata": {
        "colab": {
          "base_uri": "https://localhost:8080/"
        },
        "id": "1kdVAk8m17cM",
        "outputId": "a65bebf0-a58f-48ff-f2d9-7c4dee583c9c"
      },
      "execution_count": 21,
      "outputs": [
        {
          "output_type": "stream",
          "name": "stdout",
          "text": [
            "Enter a string: Deepika K\n",
            "Enter the index of the character to remove: 2\n",
            "Modified string: Depika K\n"
          ]
        }
      ]
    },
    {
      "cell_type": "markdown",
      "source": [
        "3.\tWrite a Python program to split and join a string?"
      ],
      "metadata": {
        "id": "ImAk35Qn17xg"
      }
    },
    {
      "cell_type": "code",
      "source": [
        "string = input(\"Enter a string: \")\n",
        "words = string.split()\n",
        "joined_string = ' '.join(words)\n",
        "print(\"Split string:\", words)\n",
        "print(\"Joined string:\", joined_string)"
      ],
      "metadata": {
        "colab": {
          "base_uri": "https://localhost:8080/"
        },
        "id": "auADYddg3Wv-",
        "outputId": "0b6588a2-e0d3-4251-b92e-be25c8cb6d6c"
      },
      "execution_count": 22,
      "outputs": [
        {
          "output_type": "stream",
          "name": "stdout",
          "text": [
            "Enter a string: Deepika K shetty\n",
            "Split string: ['Deepika', 'K', 'shetty']\n",
            "Joined string: Deepika K shetty\n"
          ]
        }
      ]
    },
    {
      "cell_type": "markdown",
      "source": [
        "4.\tWrite a Python to check if a given string is binary string or not?"
      ],
      "metadata": {
        "id": "ZSy7rf-B19I5"
      }
    },
    {
      "cell_type": "code",
      "source": [
        "string = input(\"Enter a string: \")\n",
        "valid_digits = {'0', '1'}\n",
        "is_binary = all(char in valid_digits for char in string)\n",
        "if is_binary:\n",
        "    print(\"The stri4ng is a binary string.\")\n",
        "else:\n",
        "    print(\"The string is not a binary string.\")"
      ],
      "metadata": {
        "colab": {
          "base_uri": "https://localhost:8080/"
        },
        "id": "gJKP2s4E3s99",
        "outputId": "4e9d9423-1604-464c-f9f8-ed27cae68f63"
      },
      "execution_count": 23,
      "outputs": [
        {
          "output_type": "stream",
          "name": "stdout",
          "text": [
            "Enter a string: 0\n",
            "The stri4ng is a binary string.\n"
          ]
        }
      ]
    },
    {
      "cell_type": "markdown",
      "source": [
        "5.\tWrite a Python program to find uncommon words from two Strings?"
      ],
      "metadata": {
        "id": "04idI6XE1-5Q"
      }
    },
    {
      "cell_type": "code",
      "source": [
        "string1 = input(\"Enter the first string: \")\n",
        "string2 = input(\"Enter the second string: \")\n",
        "words1 = string1.split()\n",
        "words2 = string2.split()\n",
        "uncommon_words = []\n",
        "for word in words1:\n",
        "    if word not in words2:\n",
        "        uncommon_words.append(word)\n",
        "for word in words2:\n",
        "    if word not in words1:\n",
        "        uncommon_words.append(word)\n",
        "print(\"Uncommon words:\")\n",
        "for word in uncommon_words:\n",
        "    print(word)"
      ],
      "metadata": {
        "colab": {
          "base_uri": "https://localhost:8080/"
        },
        "id": "fSb-su2Z3_75",
        "outputId": "1c1e7c43-8610-4fe6-fcc9-656ee5b35c2c"
      },
      "execution_count": 17,
      "outputs": [
        {
          "output_type": "stream",
          "name": "stdout",
          "text": [
            "Enter the first string: Deepika , bindu , mandara , ammu\n",
            "Enter the second string: Deepika , ammu\n",
            "Uncommon words:\n",
            "bindu\n",
            "mandara\n"
          ]
        }
      ]
    },
    {
      "cell_type": "markdown",
      "source": [
        "6.\tWrite a Python to find all duplicate characters in string?"
      ],
      "metadata": {
        "id": "l42kZDM52AkC"
      }
    },
    {
      "cell_type": "code",
      "source": [
        "string = input(\"Enter a string: \")\n",
        "duplicate_chars = []\n",
        "string = string.lower()\n",
        "# Iterate over each character in the string\n",
        "for char in string:\n",
        "    # Check if the character is not a whitespace and appears more than once in the string\n",
        "    if char != ' ' and string.count(char) > 1:\n",
        "        # Check if the character is not already in the duplicate_chars list\n",
        "        if char not in duplicate_chars:\n",
        "            duplicate_chars.append(char)\n",
        "\n",
        "# Print the duplicate characters\n",
        "print(\"Duplicate characters in the string:\")\n",
        "for char in duplicate_chars:\n",
        "    print(char)"
      ],
      "metadata": {
        "colab": {
          "base_uri": "https://localhost:8080/"
        },
        "id": "Pz9YK_6e40Pi",
        "outputId": "34f9a2f5-66b8-4e2b-ea00-f9d1412565d6"
      },
      "execution_count": 18,
      "outputs": [
        {
          "output_type": "stream",
          "name": "stdout",
          "text": [
            "Enter a string: Deeepikaaaa\n",
            "Duplicate characters in the string:\n",
            "e\n",
            "a\n"
          ]
        }
      ]
    },
    {
      "cell_type": "markdown",
      "source": [
        "7.\tWrite a Python Program to check if a string contains any special character?"
      ],
      "metadata": {
        "id": "Bgz378xg2B3I"
      }
    },
    {
      "cell_type": "code",
      "source": [
        "string = input(\"Enter a string: \")\n",
        "special_characters = {'!', '@', '#', '$', '%', '^', '&', '*', '(', ')', '_', '+', '-', '=', '[', ']', '{', '}', '|', '\\\\', ';', ':', \"'\", '\"', '<', '>', ',', '.', '/', '?', '`', '~'}\n",
        "has_special_characters = any(char in special_characters for char in string)\n",
        "if has_special_characters:\n",
        "    print(\"The string contains special characters.\")\n",
        "else:\n",
        "    print(\"The string does not contain special characters.\")"
      ],
      "metadata": {
        "colab": {
          "base_uri": "https://localhost:8080/"
        },
        "id": "0j0ILkoC5I29",
        "outputId": "963dd5de-75e6-4f12-f5e2-37725260340f"
      },
      "execution_count": 19,
      "outputs": [
        {
          "output_type": "stream",
          "name": "stdout",
          "text": [
            "Enter a string: What a good news! thank you so much for telling the news,\n",
            "The string contains special characters.\n"
          ]
        }
      ]
    }
  ]
}