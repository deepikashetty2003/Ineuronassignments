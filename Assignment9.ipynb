{
  "nbformat": 4,
  "nbformat_minor": 0,
  "metadata": {
    "colab": {
      "provenance": []
    },
    "kernelspec": {
      "name": "python3",
      "display_name": "Python 3"
    },
    "language_info": {
      "name": "python"
    }
  },
  "cells": [
    {
      "cell_type": "markdown",
      "source": [
        "1. To what does a relative path refer?\n",
        "- A relative path in computing refers to a file or directory location that is expressed relative to the current working directory or another specified directory"
      ],
      "metadata": {
        "id": "VOWCR74t_0EG"
      }
    },
    {
      "cell_type": "markdown",
      "source": [
        "2. What does an absolute path start with your operating system?\n",
        "- it depends upon on the operating sysytem using\n",
        "  - for windows : C:\\path\\to\\file.txt"
      ],
      "metadata": {
        "id": "qmFD3OOW_5X9"
      }
    },
    {
      "cell_type": "markdown",
      "source": [
        "3. What do the functions os.getcwd() and os.chdir() do?\n",
        "- os.getcwd() : defines current workingdirectory.\n",
        "- os.chdir() : changes current working directory into a path."
      ],
      "metadata": {
        "id": "4zy-BC9J_5WL"
      }
    },
    {
      "cell_type": "markdown",
      "source": [
        "4. What are the . and .. folders?\n",
        "- (.) reference to current directory,\n",
        "    - Eg :/path/to/directory\n",
        "- (..)  reference to parent directory, \n",
        "    - Eg : /path/to"
      ],
      "metadata": {
        "id": "Geq5BVuJ_5Ri"
      }
    },
    {
      "cell_type": "markdown",
      "source": [
        "5. In C:\\bacon\\eggs\\spam.txt, which part is the dir name, and which part is the base name?\n",
        "- dir name : C:\\bacon\\eggs\n",
        "- base name : spam.txt"
      ],
      "metadata": {
        "id": "pxmTbDqmAFPX"
      }
    },
    {
      "cell_type": "markdown",
      "source": [
        "6. What are the three “mode” arguments that can be passed to the open() function?\n",
        "- read mode : r\n",
        "- write mode : w\n",
        "- append mode : a"
      ],
      "metadata": {
        "id": "DDLmVOigAG7w"
      }
    },
    {
      "cell_type": "markdown",
      "source": [
        "7. What happens if an existing file is opened in write mode?\n",
        "- The file is opened in write mode, It's allowed to write new data into it."
      ],
      "metadata": {
        "id": "5i50DrUq_5P_"
      }
    },
    {
      "cell_type": "markdown",
      "source": [
        "8. How do you tell the difference between read() and readlines()?\n",
        "- read() : reads the entire contents of a file as a single string.\n",
        "- readlines() : reads the contents of a file and returns a list of lines"
      ],
      "metadata": {
        "id": "z_K6RjDx_5K7"
      }
    },
    {
      "cell_type": "markdown",
      "source": [
        "9. What data structure does a shelf value resemble?\n",
        "- The shelve module in Python provides a persistent, dictionary-like storage system where data can be stored and retrieved using key-value pairs. It is often referred to as a \"shelf\" because it behaves like a shelf where objects can be stored and retrieved."
      ],
      "metadata": {
        "id": "xAqrsR0b_5JS"
      }
    }
  ]
}