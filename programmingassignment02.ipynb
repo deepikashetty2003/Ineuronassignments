{
  "nbformat": 4,
  "nbformat_minor": 0,
  "metadata": {
    "colab": {
      "provenance": []
    },
    "kernelspec": {
      "name": "python3",
      "display_name": "Python 3"
    },
    "language_info": {
      "name": "python"
    }
  },
  "cells": [
    {
      "cell_type": "markdown",
      "source": [
        "1.\tWrite a Python program to convert kilometers to miles?"
      ],
      "metadata": {
        "id": "Jyi8KW13nXta"
      }
    },
    {
      "cell_type": "code",
      "source": [
        "kilometer=float(input(\"Enter distance inkilometers\"))\n",
        "miles = kilometer/1.609344\n",
        "print(f\"miles is {miles}\")"
      ],
      "metadata": {
        "colab": {
          "base_uri": "https://localhost:8080/"
        },
        "id": "kATABv29oIhj",
        "outputId": "5710343a-73f6-492e-ace5-aa191f73bd6d"
      },
      "execution_count": 3,
      "outputs": [
        {
          "output_type": "stream",
          "name": "stdout",
          "text": [
            "Enter distance inkilometers8.05\n",
            "miles is 5.002038097510539\n"
          ]
        }
      ]
    },
    {
      "cell_type": "markdown",
      "source": [
        "2.\tWrite a Python program to convert Celsius to Fahrenheit?"
      ],
      "metadata": {
        "id": "xBcOVx4hnbxY"
      }
    },
    {
      "cell_type": "code",
      "source": [
        "celsius =float(input(\"Enter temperature in Celsius: \"))\n",
        "Fahrenheit = (celsius * 9/5) + 32\n",
        "print(f\"temperature in Fahrenheit is {Fahrenheit}\")"
      ],
      "metadata": {
        "colab": {
          "base_uri": "https://localhost:8080/"
        },
        "id": "dT9epy0Zprik",
        "outputId": "d3abaec2-e62a-4f44-8867-ce9c04de3543"
      },
      "execution_count": 6,
      "outputs": [
        {
          "output_type": "stream",
          "name": "stdout",
          "text": [
            "Enter temperature in Celsius: 34\n",
            "temperature in Fahrenheit is 93.2\n"
          ]
        }
      ]
    },
    {
      "cell_type": "markdown",
      "source": [
        "3.\tWrite a Python program to display calendar?"
      ],
      "metadata": {
        "id": "QL5RGSqpndi-"
      }
    },
    {
      "cell_type": "code",
      "source": [
        "import calendar\n",
        "year = int(input(\"Enter the year: \"))\n",
        "month = int(input(\"Enter the month (1-12): \"))\n",
        "print(calendar.month(year, month))"
      ],
      "metadata": {
        "colab": {
          "base_uri": "https://localhost:8080/"
        },
        "id": "JfVmPLOfrZxF",
        "outputId": "7c73248e-1ed6-49f1-dd8f-d3de0b2446e3"
      },
      "execution_count": 7,
      "outputs": [
        {
          "output_type": "stream",
          "name": "stdout",
          "text": [
            "Enter the year: 2022\n",
            "Enter the month (1-12): 5\n",
            "      May 2022\n",
            "Mo Tu We Th Fr Sa Su\n",
            "                   1\n",
            " 2  3  4  5  6  7  8\n",
            " 9 10 11 12 13 14 15\n",
            "16 17 18 19 20 21 22\n",
            "23 24 25 26 27 28 29\n",
            "30 31\n",
            "\n"
          ]
        }
      ]
    },
    {
      "cell_type": "markdown",
      "source": [
        "4.\tWrite a Python program to solve quadratic equation?"
      ],
      "metadata": {
        "id": "KX0Oe91bnfaV"
      }
    },
    {
      "cell_type": "code",
      "source": [
        "import cmath\n",
        "a = float(input(\"Enter the coefficient of x^2: \"))\n",
        "b = float(input(\"Enter the coefficient of x: \"))\n",
        "\n",
        "c = float(input(\"Enter the constant term: \"))\n",
        "discriminant = (b ** 2) - (4 * a * c)\n",
        "solution1 = (-b + cmath.sqrt(discriminant)) / (2 * a)\n",
        "solution2 = (-b - cmath.sqrt(discriminant)) / (2 * a)\n",
        "print(\"The solutions are:\")\n",
        "print(\"x1 =\", solution1)\n",
        "print(\"x2 =\", solution2)"
      ],
      "metadata": {
        "colab": {
          "base_uri": "https://localhost:8080/"
        },
        "id": "T4hs2x6RrY5Y",
        "outputId": "a6610faf-5af6-4f47-c128-6f4e60fc4e4a"
      },
      "execution_count": 5,
      "outputs": [
        {
          "output_type": "stream",
          "name": "stdout",
          "text": [
            "Enter the coefficient of x^2: 2\n",
            "Enter the coefficient of x: 5\n",
            "Enter the constant term: 1\n",
            "The solutions are:\n",
            "x1 = (-0.21922359359558485+0j)\n",
            "x2 = (-2.2807764064044154+0j)\n"
          ]
        }
      ]
    },
    {
      "cell_type": "markdown",
      "source": [
        "5.\tWrite a Python program to swap two variables without temp variable?"
      ],
      "metadata": {
        "id": "eptBkt1TnhE8"
      }
    },
    {
      "cell_type": "code",
      "source": [
        "x=5\n",
        "y=10\n",
        "print(\"Before swapping:\")\n",
        "print(\"x =\", x)\n",
        "print(\"y =\", y)\n",
        "\n",
        "x,y=y,x\n",
        "\n",
        "print(\"After swapping:\")\n",
        "print(\"x =\", x)\n",
        "print(\"y =\", y)"
      ],
      "metadata": {
        "colab": {
          "base_uri": "https://localhost:8080/"
        },
        "id": "6ntouuIJraIz",
        "outputId": "34a30463-40d5-4eb3-bc27-992183316257"
      },
      "execution_count": 7,
      "outputs": [
        {
          "output_type": "stream",
          "name": "stdout",
          "text": [
            "Before swapping:\n",
            "x = 5\n",
            "y = 10\n",
            "After swapping:\n",
            "x = 10\n",
            "y = 5\n"
          ]
        }
      ]
    }
  ]
}