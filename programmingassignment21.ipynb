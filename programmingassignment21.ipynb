{
  "nbformat": 4,
  "nbformat_minor": 0,
  "metadata": {
    "colab": {
      "provenance": []
    },
    "kernelspec": {
      "name": "python3",
      "display_name": "Python 3"
    },
    "language_info": {
      "name": "python"
    }
  },
  "cells": [
    {
      "cell_type": "markdown",
      "source": [
        "Question1\n",
        "Write a function that takes a list and a number as arguments. Add the number to the end of the list, then remove the first element of the list. The function should then return the updated list.\n",
        "Examples\n",
        "next_in_line([5, 6, 7, 8, 9], 1) ➞ [6, 7, 8, 9, 1]\n",
        "\n",
        "next_in_line([7, 6, 3, 23, 17], 10) ➞ [6, 3, 23, 17, 10]\n",
        "\n",
        "next_in_line([1, 10, 20, 42 ], 6) ➞ [10, 20, 42, 6]\n",
        "\n",
        "next_in_line([], 6) ➞ \"No list has been selected\""
      ],
      "metadata": {
        "id": "_JuH6iv1E-fc"
      }
    },
    {
      "cell_type": "code",
      "execution_count": 4,
      "metadata": {
        "id": "Rko5wO0jE94d"
      },
      "outputs": [],
      "source": [
        "def next_in_line(lst, num):\n",
        "    if not lst:\n",
        "        return \"No list has been selected\"\n",
        "    \n",
        "    lst.append(num)\n",
        "    lst.pop(0)\n",
        "    return lst"
      ]
    },
    {
      "cell_type": "code",
      "source": [
        "print(next_in_line([7, 6, 3, 23, 17], 10)) "
      ],
      "metadata": {
        "colab": {
          "base_uri": "https://localhost:8080/"
        },
        "id": "kXIPm6YjFkcp",
        "outputId": "d2d11448-960f-411a-dd63-5fdeb6190275"
      },
      "execution_count": 5,
      "outputs": [
        {
          "output_type": "stream",
          "name": "stdout",
          "text": [
            "[6, 3, 23, 17, 10]\n"
          ]
        }
      ]
    },
    {
      "cell_type": "markdown",
      "source": [
        "Question2\n",
        "Create the function that takes a list of dictionaries and returns the sum of people's budgets.\n",
        "Examples\n",
        "get_budgets([\n",
        "  { \"name\": \"John\", \"age\": 21, \"budget\": 23000 },\n",
        "  { \"name\": \"Steve\",  \"age\": 32, \"budget\": 40000 },\n",
        "  { \"name\": \"Martin\",  \"age\": 16, \"budget\": 2700 }\n",
        "]) ➞ 65700\n",
        "\n",
        "get_budgets([\n",
        "  { \"name\": \"John\",  \"age\": 21, \"budget\": 29000 },\n",
        "  { \"name\": \"Steve\",  \"age\": 32, \"budget\": 32000 },\n",
        "  { \"name\": \"Martin\",  \"age\": 16, \"budget\": 1600 }\n",
        "]) ➞ 62600"
      ],
      "metadata": {
        "id": "CS80sMbTFCxc"
      }
    },
    {
      "cell_type": "code",
      "source": [
        "def get_budgets(people):\n",
        "    total_budget = 0\n",
        "    for person in people:\n",
        "        total_budget += person[\"budget\"]\n",
        "    return total_budget"
      ],
      "metadata": {
        "id": "_CKAnJWsFF1v"
      },
      "execution_count": 11,
      "outputs": []
    },
    {
      "cell_type": "code",
      "source": [
        "people1 = [\n",
        "    {\"name\": \"John\", \"age\": 21, \"budget\": 23000},\n",
        "    {\"name\": \"Steve\", \"age\": 32, \"budget\": 40000},\n",
        "    {\"name\": \"Martin\", \"age\": 16, \"budget\": 2700}\n",
        "]\n",
        "print(get_budgets(people1))  # Output: 65700\n",
        "\n",
        "people2 = [\n",
        "    {\"name\": \"John\", \"age\": 21, \"budget\": 29000},\n",
        "    {\"name\": \"Steve\", \"age\": 32, \"budget\": 32000},\n",
        "    {\"name\": \"Martin\", \"age\": 16, \"budget\": 1600}\n",
        "]\n",
        "print(get_budgets(people2))"
      ],
      "metadata": {
        "colab": {
          "base_uri": "https://localhost:8080/"
        },
        "id": "ZMuSUSHdF7CW",
        "outputId": "bb728f57-6ccb-403b-bb0b-28a6a7f6bf01"
      },
      "execution_count": 17,
      "outputs": [
        {
          "output_type": "stream",
          "name": "stdout",
          "text": [
            "65700\n",
            "62600\n"
          ]
        }
      ]
    },
    {
      "cell_type": "markdown",
      "source": [
        "Question3\n",
        "Create a function that takes a string and returns a string with its letters in alphabetical order.\n",
        "Examples\n",
        "alphabet_soup(\"hello\") ➞ \"ehllo\"\n",
        "\n",
        "alphabet_soup(\"edabit\") ➞ \"abdeit\"\n",
        "\n",
        "alphabet_soup(\"hacker\") ➞ \"acehkr\"\n",
        "\n",
        "alphabet_soup(\"geek\") ➞ \"eegk\"\n",
        "\n",
        "alphabet_soup(\"javascript\") ➞ \"aacijprstv\""
      ],
      "metadata": {
        "id": "FxC6FV69FGS3"
      }
    },
    {
      "cell_type": "code",
      "source": [
        "def alphabet_soup(string):\n",
        "    sorted_string = ''.join(sorted(string))\n",
        "    return sorted_string"
      ],
      "metadata": {
        "id": "sEIP5NAvFJAk"
      },
      "execution_count": 20,
      "outputs": []
    },
    {
      "cell_type": "code",
      "source": [
        "print(alphabet_soup(\"hello\"))"
      ],
      "metadata": {
        "colab": {
          "base_uri": "https://localhost:8080/"
        },
        "id": "TXRBpJY4GeIo",
        "outputId": "d8444d77-90b8-4e6c-9ac1-9053de718133"
      },
      "execution_count": 21,
      "outputs": [
        {
          "output_type": "stream",
          "name": "stdout",
          "text": [
            "ehllo\n"
          ]
        }
      ]
    },
    {
      "cell_type": "markdown",
      "source": [
        "Question4\n",
        "Suppose that you invest $10,000 for 10 years at an interest rate of 6% compounded monthly. What will be the value of your investment at the end of the 10 year period?\n",
        "Create a function that accepts the principal p, the term in years t, the interest rate r, and the number of compounding periods per year n. The function returns the value at the end of term rounded to the nearest cent.\n",
        "For the example above:\n",
        "compound_interest(10000, 10, 0.06, 12) ➞ 18193.97\n",
        "Note that the interest rate is given as a decimal and n=12 because with monthly compounding there are 12 periods per year. Compounding can also be done annually, quarterly, weekly, or daily.\n",
        "Examples\n",
        "compound_interest(100, 1, 0.05, 1) ➞ 105.0\n",
        "\n",
        "compound_interest(3500, 15, 0.1, 4) ➞ 15399.26\n",
        "\n",
        "compound_interest(100000, 20, 0.15, 365) ➞ 2007316.26"
      ],
      "metadata": {
        "id": "rNMbCvTcFJi9"
      }
    },
    {
      "cell_type": "code",
      "source": [
        "def compound_interest(p, t, r, n):\n",
        "    A = p * (1 + r/n) ** (n * t)\n",
        "    return round(A, 2)"
      ],
      "metadata": {
        "id": "t5PNSueWFSHP"
      },
      "execution_count": 24,
      "outputs": []
    },
    {
      "cell_type": "markdown",
      "source": [
        "\n",
        "To calculate the compound interest, we can use the formula:\n",
        "\n",
        "A = P * (1 + r/n)^(n*t)\n",
        "\n",
        "Where:\n",
        "- A: The final amount (value at the end of the term)\n",
        "- P: Principal amount (initial investment)\n",
        "- r: Interest rate (in decimal form)\n",
        "- n: Number of compounding periods per year\n",
        "- t: Term in years"
      ],
      "metadata": {
        "id": "SjdWpEqAGueJ"
      }
    },
    {
      "cell_type": "code",
      "source": [
        "print(compound_interest(10000, 10, 0.06, 12))"
      ],
      "metadata": {
        "colab": {
          "base_uri": "https://localhost:8080/"
        },
        "id": "pccF8hMyG6CN",
        "outputId": "a6168a22-c0c8-46b8-fa5e-04603d17d2d2"
      },
      "execution_count": 26,
      "outputs": [
        {
          "output_type": "stream",
          "name": "stdout",
          "text": [
            "18193.97\n"
          ]
        }
      ]
    },
    {
      "cell_type": "markdown",
      "source": [
        "Question5\n",
        "Write a function that takes a list of elements and returns only the integers.\n",
        "Examples\n",
        "return_only_integer([9, 2, \"space\", \"car\", \"lion\", 16]) ➞ [9, 2, 16]\n",
        "\n",
        "return_only_integer([\"hello\", 81, \"basketball\", 123, \"fox\"]) ➞ [81, 123]\n",
        "\n",
        "return_only_integer([10, \"121\", 56, 20, \"car\", 3, \"lion\"]) ➞ [10, 56, 20, 3]\n",
        "\n",
        "return_only_integer([\"String\",  True,  3.3,  1]) ➞ [1]"
      ],
      "metadata": {
        "id": "qJFiIOCQFSjx"
      }
    },
    {
      "cell_type": "code",
      "source": [
        "def return_only_integer(lst):\n",
        "    return [x for x in lst if isinstance(x, int)]"
      ],
      "metadata": {
        "id": "MQmw0fe7HJuE"
      },
      "execution_count": 30,
      "outputs": []
    },
    {
      "cell_type": "code",
      "source": [
        "print(return_only_integer([9, 2, \"space\", \"car\", \"lion\", 16])) "
      ],
      "metadata": {
        "colab": {
          "base_uri": "https://localhost:8080/"
        },
        "id": "J2wnKkuxHN2K",
        "outputId": "f9a3c7c9-1943-4aba-d180-5aa7eacdc6fb"
      },
      "execution_count": 33,
      "outputs": [
        {
          "output_type": "stream",
          "name": "stdout",
          "text": [
            "[9, 2, 16]\n"
          ]
        }
      ]
    }
  ]
}