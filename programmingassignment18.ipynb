{
  "nbformat": 4,
  "nbformat_minor": 0,
  "metadata": {
    "colab": {
      "provenance": []
    },
    "kernelspec": {
      "name": "python3",
      "display_name": "Python 3"
    },
    "language_info": {
      "name": "python"
    }
  },
  "cells": [
    {
      "cell_type": "markdown",
      "source": [
        "Question 1\n",
        "Create a function that takes a list of non-negative integers and strings and return a new list without the strings.\n",
        "Examples\n",
        "filter_list([1, 2, \"a\", \"b\"]) ➞ [1, 2]\n",
        "\n",
        "filter_list([1, \"a\", \"b\", 0, 15]) ➞ [1, 0, 15]\n",
        "\n",
        "filter_list([1, 2, \"aasf\", \"1\", \"123\", 123]) ➞ [1, 2, 123]"
      ],
      "metadata": {
        "id": "3J0HN5W71NVn"
      }
    },
    {
      "cell_type": "code",
      "execution_count": 1,
      "metadata": {
        "id": "qOIZHOYM1Mk6"
      },
      "outputs": [],
      "source": [
        "def filter_list(lst):\n",
        "    result = []\n",
        "    for element in lst:\n",
        "        if isinstance(element, int):\n",
        "            result.append(element)\n",
        "    return result"
      ]
    },
    {
      "cell_type": "code",
      "source": [
        "print(filter_list([1, 2, \"a\", \"b\"]))"
      ],
      "metadata": {
        "colab": {
          "base_uri": "https://localhost:8080/"
        },
        "id": "KG8Atc8q2Aid",
        "outputId": "ea2c0e79-8bc7-4755-9dd1-e7aaa2b8cb7d"
      },
      "execution_count": 2,
      "outputs": [
        {
          "output_type": "stream",
          "name": "stdout",
          "text": [
            "[1, 2]\n"
          ]
        }
      ]
    },
    {
      "cell_type": "markdown",
      "source": [
        "Question 2\n",
        "The \"Reverser\" takes a string as input and returns that string in reverse order, with the opposite case.\n",
        "Examples\n",
        "reverse(\"Hello World\") ➞ \"DLROw OLLEh\"\n",
        "\n",
        "reverse(\"ReVeRsE\") ➞ \"eSrEvEr\"\n",
        "\n",
        "reverse(\"Radar\") ➞ \"RADAr\""
      ],
      "metadata": {
        "id": "NzjPbn3d1WuF"
      }
    },
    {
      "cell_type": "code",
      "source": [
        "def reverse(string):\n",
        "    reversed_string = \"\"\n",
        "    for char in reversed(string):\n",
        "        if char.islower():\n",
        "            reversed_string += char.upper()\n",
        "        else:\n",
        "            reversed_string += char.lower()\n",
        "    return reversed_string"
      ],
      "metadata": {
        "id": "zCDYplpg1e3K"
      },
      "execution_count": 10,
      "outputs": []
    },
    {
      "cell_type": "code",
      "source": [
        "print(reverse(\"Hello World\"))"
      ],
      "metadata": {
        "colab": {
          "base_uri": "https://localhost:8080/"
        },
        "id": "zHueKX2D2SA9",
        "outputId": "ad14cb8f-f967-40fd-a54b-abd0f388c8b6"
      },
      "execution_count": 11,
      "outputs": [
        {
          "output_type": "stream",
          "name": "stdout",
          "text": [
            "DLROw OLLEh\n"
          ]
        }
      ]
    },
    {
      "cell_type": "markdown",
      "source": [
        "Question 3\n",
        "You can assign variables from lists like this:\n",
        "lst = [1, 2, 3, 4, 5, 6]\n",
        "first = lst[0]\n",
        "middle = lst[1:-1]\n",
        "last = lst[-1]\n",
        "\n",
        "print(first) ➞ outputs 1\n",
        "print(middle) ➞ outputs [2, 3, 4, 5]\n",
        "print(last) ➞ outputs 6\n",
        "With Python 3, you can assign variables from lists in a much more succinct way. Create variables first, middle and last from the given list using destructuring assignment (check the Resources tab for some examples), where:\n",
        "first  ➞ 1\n",
        "\n",
        "middle ➞ [2, 3, 4, 5]\n",
        "\n",
        "last ➞ 6\n",
        "Your task is to unpack the list writeyourcodehere into three variables, being first, middle, and last, with middle being everything in between the first and last element. Then print all three variables."
      ],
      "metadata": {
        "id": "9bWOG8Y21fST"
      }
    },
    {
      "cell_type": "code",
      "source": [
        "list = [1, 2, 3, 4, 5, 6]\n",
        "first, *middle, last = list\n",
        "\n",
        "print(first)  \n",
        "print(middle) \n",
        "print(last)"
      ],
      "metadata": {
        "colab": {
          "base_uri": "https://localhost:8080/"
        },
        "id": "IFJRtoCU1iyc",
        "outputId": "d0c73bf2-250c-4a36-e043-ef082860873f"
      },
      "execution_count": 17,
      "outputs": [
        {
          "output_type": "stream",
          "name": "stdout",
          "text": [
            "1\n",
            "[2, 3, 4, 5]\n",
            "6\n"
          ]
        }
      ]
    },
    {
      "cell_type": "markdown",
      "source": [
        "Question 4\n",
        "Write a function that calculates the factorial of a number recursively.\n",
        "Examples\n",
        "factorial(5) ➞ 120\n",
        "\n",
        "factorial(3) ➞ 6\n",
        "\n",
        "factorial(1) ➞ 1\n",
        "\n",
        "factorial(0) ➞ 1"
      ],
      "metadata": {
        "id": "P33BzPlT1jO7"
      }
    },
    {
      "cell_type": "code",
      "source": [
        "def factorial(n):\n",
        "    if(n <= 1):\n",
        "        return 1\n",
        "    else:\n",
        "        return(n*factorial(n-1))\n",
        "n = int(input(\"Enter number:\"))\n",
        "print(\"Factorial:\")\n",
        "print(factorial(n))"
      ],
      "metadata": {
        "colab": {
          "base_uri": "https://localhost:8080/"
        },
        "id": "KJDYFXjX3f57",
        "outputId": "70cc482f-c52d-4938-d03e-7880bf262cdf"
      },
      "execution_count": 21,
      "outputs": [
        {
          "output_type": "stream",
          "name": "stdout",
          "text": [
            "Enter number:5\n",
            "Factorial:\n",
            "120\n"
          ]
        }
      ]
    },
    {
      "cell_type": "markdown",
      "source": [
        "Question 5\n",
        "Write a function that moves all elements of one type to the end of the list.\n",
        "Examples\n",
        "move_to_end([1, 3, 2, 4, 4, 1], 1) ➞ [3, 2, 4, 4, 1, 1]\n",
        "# Move all the 1s to the end of the array.\n",
        "\n",
        "move_to_end([7, 8, 9, 1, 2, 3, 4], 9) ➞ [7, 8, 1, 2, 3, 4, 9]\n",
        "\n",
        "move_to_end([\"a\", \"a\", \"a\", \"b\"], \"a\") ➞ [\"b\", \"a\", \"a\", \"a\"]"
      ],
      "metadata": {
        "id": "Mk_ys0lJ3_V7"
      }
    },
    {
      "cell_type": "code",
      "source": [
        "def move_to_end(lst, element):\n",
        "    new_lst = []\n",
        "    i = 0\n",
        "    while i < len(lst):\n",
        "        if lst[i] == element:\n",
        "            new_lst.append(lst.pop(i))\n",
        "        else:\n",
        "            i += 1\n",
        "    lst.extend(new_lst)\n",
        "    return lst"
      ],
      "metadata": {
        "id": "Ard-kKeg1k-i"
      },
      "execution_count": 23,
      "outputs": []
    },
    {
      "cell_type": "code",
      "source": [
        "print(move_to_end([1, 3, 2, 4, 4, 1], 1))"
      ],
      "metadata": {
        "id": "nHYtcxiY4O4F",
        "outputId": "8fe19ac5-9a14-4a56-fdfa-9d3e3c82251a",
        "colab": {
          "base_uri": "https://localhost:8080/"
        }
      },
      "execution_count": 26,
      "outputs": [
        {
          "output_type": "stream",
          "name": "stdout",
          "text": [
            "[3, 2, 4, 4, 1, 1]\n"
          ]
        }
      ]
    }
  ]
}