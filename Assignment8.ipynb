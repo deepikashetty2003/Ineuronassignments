{
  "nbformat": 4,
  "nbformat_minor": 0,
  "metadata": {
    "colab": {
      "provenance": []
    },
    "kernelspec": {
      "name": "python3",
      "display_name": "Python 3"
    },
    "language_info": {
      "name": "python"
    }
  },
  "cells": [
    {
      "cell_type": "markdown",
      "source": [
        "1. Is the Python Standard Library included with PyInputPlus?\n",
        "- No"
      ],
      "metadata": {
        "id": "dXNOSHgF_WZt"
      }
    },
    {
      "cell_type": "markdown",
      "source": [
        "2. Why is PyInputPlus commonly imported with import pyinputplus as pypi?\n",
        "- PyInputPlus is imported with the pypi because using the import pyinputplus as pypi statement for convenience and readability purposes."
      ],
      "metadata": {
        "id": "6Wq2UP2d_bOv"
      }
    },
    {
      "cell_type": "markdown",
      "source": [
        "3. How do you distinguish between inputInt() and inputFloat()?\n",
        "- inputInt(): Function is used when you specifically want to receive an integer input from the user\n",
        "- inputFloat(): Function is used when you want to receive a floating-point number from the user."
      ],
      "metadata": {
        "id": "c7nKeUEu_bM5"
      }
    },
    {
      "cell_type": "markdown",
      "source": [
        "4. Using PyInputPlus, how do you ensure that the user enters a whole number between 0 and 99?"
      ],
      "metadata": {
        "id": "kuIG-Rd0_bIO"
      }
    },
    {
      "cell_type": "code",
      "source": [
        "import pyinputplus as pypi\n",
        "number = pypi.inputInt(\"Enter a whole number between 0 and 99: \", min=0, max=99)\n",
        "print(\"Number:\", number)"
      ],
      "metadata": {
        "id": "PXbWDLVugdua"
      },
      "execution_count": null,
      "outputs": []
    },
    {
      "cell_type": "markdown",
      "source": [
        "5. What is transferred to the keyword arguments allowRegexes and blockRegexes?\n",
        "- allowRegexes accepts a list of regex patterns as its value but  it restricts the user input to match one of the provided regex patterns in the allowRegexes\n",
        "- blockRegexes takes a list of regex patterns as its value but acts as a filter to block any user input that matches any of the specified regex patterns in the blockRegexes"
      ],
      "metadata": {
        "id": "Afn0TAk3_bGY"
      }
    },
    {
      "cell_type": "markdown",
      "source": [
        "6. If a blank input is entered three times, what does inputStr(limit=3) do?\n",
        "- On the first blank input and second blank inputStr function will not return anything and will prompt the user again for input beacuselimit not reached\n",
        "- On third blank inputStr function will raise a ValidationException."
      ],
      "metadata": {
        "id": "OzBebNnz_bBz"
      }
    },
    {
      "cell_type": "markdown",
      "source": [
        "7. If blank input is entered three times, what does inputStr(limit=3, default='hello') do?\n",
        "- Firstblank input will return the default value provided, which is 'hello'. This is because the default value is used when the input is empty or the user simply presses Enter without entering any text.\n",
        "- Secondblank input will return the default value provided, which is 'hello'.  because it has been configured to allow three attempts\n",
        "- Thirdblank function will return an exception. By default, when the limit of attempts is reached, PyInputPlus raises a ValidationException to indicate that the limit has been exceeded"
      ],
      "metadata": {
        "id": "pj7xaNJ4_bAC"
      }
    }
  ]
}