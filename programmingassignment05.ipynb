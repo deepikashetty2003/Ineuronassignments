{
  "nbformat": 4,
  "nbformat_minor": 0,
  "metadata": {
    "colab": {
      "provenance": []
    },
    "kernelspec": {
      "name": "python3",
      "display_name": "Python 3"
    },
    "language_info": {
      "name": "python"
    }
  },
  "cells": [
    {
      "cell_type": "markdown",
      "source": [
        "1.\tWrite a Python Program to Find LCM?"
      ],
      "metadata": {
        "id": "ZJ6v6MY-foFi"
      }
    },
    {
      "cell_type": "code",
      "execution_count": 7,
      "metadata": {
        "id": "yCbIadi4flfb",
        "colab": {
          "base_uri": "https://localhost:8080/"
        },
        "outputId": "19fa4dd8-d976-489f-e734-8b4edb8b5da3"
      },
      "outputs": [
        {
          "output_type": "stream",
          "name": "stdout",
          "text": [
            "LCM of 12 and 18 is 36\n"
          ]
        }
      ],
      "source": [
        "num1 = 12\n",
        "num2 = 18\n",
        "if num1 > num2:\n",
        "    larger_num = num1\n",
        "    smaller_num = num2\n",
        "else:\n",
        "    larger_num = num2\n",
        "    smaller_num = num1\n",
        "# Find the LCM\n",
        "multiple = larger_num\n",
        "while True:\n",
        "    if multiple % smaller_num == 0:\n",
        "        lcm = multiple\n",
        "        break\n",
        "    multiple += larger_num\n",
        "# Print the LCM\n",
        "print(\"LCM of\", num1, \"and\", num2, \"is\", lcm)"
      ]
    },
    {
      "cell_type": "markdown",
      "source": [
        "2.\tWrite a Python Program to Find HCF?"
      ],
      "metadata": {
        "id": "6Phns2Lgfqhz"
      }
    },
    {
      "cell_type": "code",
      "source": [
        "num1 = 24\n",
        "num2 = 36\n",
        "# Determine the smaller number\n",
        "if num1 < num2:\n",
        "    smaller_num = num1\n",
        "else:\n",
        "    smaller_num = num2\n",
        "# Find the HCF\n",
        "hcf = 1\n",
        "for i in range(1, smaller_num + 1):\n",
        "    if num1 % i == 0 and num2 % i == 0:\n",
        "        hcf = i\n",
        "# Print the HCF\n",
        "print(\"HCF of\", num1, \"and\", num2, \"is\", hcf)"
      ],
      "metadata": {
        "id": "ssZmM4TXfsRE",
        "colab": {
          "base_uri": "https://localhost:8080/"
        },
        "outputId": "d1311f18-8dbe-49cd-d4a5-e07caa84273d"
      },
      "execution_count": 2,
      "outputs": [
        {
          "output_type": "stream",
          "name": "stdout",
          "text": [
            "HCF of 24 and 36 is 12\n"
          ]
        }
      ]
    },
    {
      "cell_type": "markdown",
      "source": [
        "3.\tWrite a Python Program to Convert Decimal to Binary, Octal and Hexadecimal?"
      ],
      "metadata": {
        "id": "dsbdNdQ3fssk"
      }
    },
    {
      "cell_type": "code",
      "source": [
        "decimal = 255\n",
        "binary = ''\n",
        "temp = decimal\n",
        "while temp > 0:\n",
        "    binary = str(temp % 2) + binary\n",
        "    temp //= 2\n",
        "octal = ''\n",
        "temp = decimal\n",
        "while temp > 0:\n",
        "    octal = str(temp % 8) + octal\n",
        "    temp //= 8\n",
        "hexadecimal = ''\n",
        "temp = decimal\n",
        "while temp > 0:\n",
        "    remainder = temp % 16\n",
        "    if remainder < 10:\n",
        "        hexadecimal = str(remainder) + hexadecimal\n",
        "    else:\n",
        "        hexadecimal = chr(remainder + 55) + hexadecimal\n",
        "    temp //= 16\n",
        "\n",
        "print(\"Binary:\", binary)\n",
        "print(\"Octal:\", octal)\n",
        "print(\"Hexadecimal:\", hexadecimal)"
      ],
      "metadata": {
        "id": "YI64YlNifuYA",
        "colab": {
          "base_uri": "https://localhost:8080/"
        },
        "outputId": "b47bd9ed-0d3b-421f-b96e-a606dddf5626"
      },
      "execution_count": 3,
      "outputs": [
        {
          "output_type": "stream",
          "name": "stdout",
          "text": [
            "Binary: 11111111\n",
            "Octal: 377\n",
            "Hexadecimal: FF\n"
          ]
        }
      ]
    },
    {
      "cell_type": "markdown",
      "source": [
        "4.\tWrite a Python Program To Find ASCII value of a character?"
      ],
      "metadata": {
        "id": "plt9iIBRfu2Q"
      }
    },
    {
      "cell_type": "code",
      "source": [
        "char = 'A'\n",
        "ascii_value = ord(char)\n",
        "print(\"ASCII value of\", char, \"is\", ascii_value)"
      ],
      "metadata": {
        "id": "JGeL4aD1fw2i",
        "colab": {
          "base_uri": "https://localhost:8080/"
        },
        "outputId": "623611ea-3d9c-4f62-a7d9-29f401de1ee5"
      },
      "execution_count": 4,
      "outputs": [
        {
          "output_type": "stream",
          "name": "stdout",
          "text": [
            "ASCII value of A is 65\n"
          ]
        }
      ]
    },
    {
      "cell_type": "markdown",
      "source": [
        "5.\tWrite a Python Program to Make a Simple Calculator with 4 basic mathematical operations?"
      ],
      "metadata": {
        "id": "dA7aefWMfxPX"
      }
    },
    {
      "cell_type": "code",
      "source": [
        "num1 = float(input(\"Enter the first number: \"))\n",
        "num2 = float(input(\"Enter the second number: \"))\n",
        "# Display menu and get operation choice from the user\n",
        "print(\"Select operation:\")\n",
        "print(\"1. Addition\")\n",
        "print(\"2. Subtraction\")\n",
        "print(\"3. Multiplication\")\n",
        "print(\"4. Division\")\n",
        "choice = int(input(\"Enter your choice (1-4): \"))\n",
        "\n",
        "# Perform the selected operation\n",
        "if choice == 1:\n",
        "    result = num1 + num2\n",
        "    operation = \"+\"\n",
        "elif choice == 2:\n",
        "    result = num1 - num2\n",
        "    operation = \"-\"\n",
        "elif choice == 3:\n",
        "    result = num1 * num2\n",
        "    operation = \"*\"\n",
        "elif choice == 4:\n",
        "    result = num1 / num2\n",
        "    operation = \"/\"\n",
        "\n",
        "# Print the result\n",
        "print(\"Result:\", num1, operation, num2, \"=\", result)"
      ],
      "metadata": {
        "colab": {
          "base_uri": "https://localhost:8080/"
        },
        "id": "xonBJkWNouHh",
        "outputId": "176d6fa8-12ee-4451-a274-48c1b0bdb4cb"
      },
      "execution_count": 6,
      "outputs": [
        {
          "output_type": "stream",
          "name": "stdout",
          "text": [
            "Enter the first number: 6\n",
            "Enter the second number: 4\n",
            "Select operation:\n",
            "1. Addition\n",
            "2. Subtraction\n",
            "3. Multiplication\n",
            "4. Division\n",
            "Enter your choice (1-4): 3\n",
            "Result: 6.0 * 4.0 = 24.0\n"
          ]
        }
      ]
    }
  ]
}