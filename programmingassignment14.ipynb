{
  "nbformat": 4,
  "nbformat_minor": 0,
  "metadata": {
    "colab": {
      "provenance": []
    },
    "kernelspec": {
      "name": "python3",
      "display_name": "Python 3"
    },
    "language_info": {
      "name": "python"
    }
  },
  "cells": [
    {
      "cell_type": "markdown",
      "source": [
        "Question 1:\n",
        "\n",
        "Define a class with a generator which can iterate the numbers, which are divisible by 7, between a given range 0 and n."
      ],
      "metadata": {
        "id": "ycKsZJKzBbSB"
      }
    },
    {
      "cell_type": "code",
      "execution_count": 1,
      "metadata": {
        "id": "rQK1EjjUBYfy"
      },
      "outputs": [],
      "source": [
        "class DivisibleBySeven:\n",
        "    def __init__(self, n):\n",
        "        self.n = n\n",
        "\n",
        "    def divisible_by_seven(self):\n",
        "        for i in range(self.n + 1):\n",
        "            if i % 7 == 0:\n",
        "                yield "
      ]
    },
    {
      "cell_type": "code",
      "source": [
        "n = 50\n",
        "divisible_gen = DivisibleBySeven(n).divisible_by_seven()\n",
        "\n",
        "print(f\"Numbers divisible by 7 up to {n}:\")\n",
        "for num in divisible_gen:\n",
        "    print(num)"
      ],
      "metadata": {
        "colab": {
          "base_uri": "https://localhost:8080/"
        },
        "id": "4tpPiVeaB8c0",
        "outputId": "daffe71f-28fc-48f3-c5cb-1ba1cf105b5e"
      },
      "execution_count": 5,
      "outputs": [
        {
          "output_type": "stream",
          "name": "stdout",
          "text": [
            "Numbers divisible by 7 up to 50:\n",
            "None\n",
            "None\n",
            "None\n",
            "None\n",
            "None\n",
            "None\n",
            "None\n",
            "None\n"
          ]
        }
      ]
    },
    {
      "cell_type": "markdown",
      "source": [
        "Question 2:\n",
        "Write a program to compute the frequency of the words from the input. The output should output after sorting the key alphanumerically. \n",
        "\n",
        "Suppose the following input is supplied to the program:\n",
        "\n",
        "New to Python or choosing between Python 2 and Python 3? Read Python 2 or Python 3.\n",
        "\n",
        "Then, the output should be:\n",
        "\n",
        "2:2\n",
        "\n",
        "3.:1\n",
        "\n",
        "3?:1\n",
        "\n",
        "New:1\n",
        "\n",
        "Python:5\n",
        "\n",
        "Read:1\n",
        "\n",
        "and:1\n",
        "\n",
        "between:1\n",
        "\n",
        "choosing:1\n",
        "\n",
        "or:2\n",
        "\n",
        "to:1"
      ],
      "metadata": {
        "id": "CTCbMBFDBfu_"
      }
    },
    {
      "cell_type": "code",
      "source": [
        "input_string = \"New to Python or choosing between Python 2 and Python 3? Read Python 2 or Python 3.\"\n",
        "# Removing punctuation and converting to lowercase\n",
        "cleaned_string = ''.join(c.lower() if c.isalnum() else ' ' for c in input_string)\n",
        "# Splitting the string into words\n",
        "words = cleaned_string.split()\n",
        "# Creating a dictionary to store the word frequencies\n",
        "word_freq = {}\n",
        "# Counting the frequency of each word\n",
        "for word in words:\n",
        "    word_freq[word] = word_freq.get(word, 0) + 1\n",
        "# Sorting the words alphabetically\n",
        "sorted_words = sorted(word_freq.keys())\n",
        "# Printing the word frequencies\n",
        "for word in sorted_words:\n",
        "    print(f\"{word}:{word_freq[word]}\")"
      ],
      "metadata": {
        "colab": {
          "base_uri": "https://localhost:8080/"
        },
        "id": "1E5QKov3CcF3",
        "outputId": "6dab7466-80ea-40d1-f4d0-85f5524ac841"
      },
      "execution_count": 6,
      "outputs": [
        {
          "output_type": "stream",
          "name": "stdout",
          "text": [
            "2:2\n",
            "3:2\n",
            "and:1\n",
            "between:1\n",
            "choosing:1\n",
            "new:1\n",
            "or:2\n",
            "python:5\n",
            "read:1\n",
            "to:1\n"
          ]
        }
      ]
    },
    {
      "cell_type": "markdown",
      "source": [
        "Question 3:\n",
        "Define a class Person and its two child classes: Male and Female. All classes have a method \"getGender\" which can print \"Male\" for Male class and \"Female\" for Female class."
      ],
      "metadata": {
        "id": "hTnkiQ8TBkuR"
      }
    },
    {
      "cell_type": "code",
      "source": [
        "class Person:\n",
        "    def getGender(self):\n",
        "        pass\n",
        "\n",
        "class Male(Person):\n",
        "    def getGender(self):\n",
        "        print(\"Male\")\n",
        "\n",
        "class Female(Person):\n",
        "    def getGender(self):\n",
        "        print(\"Female\")\n",
        "\n",
        "# Example usage\n",
        "person1 = Male()\n",
        "person1.getGender()  \n",
        "person2 = Female()\n",
        "person2.getGender()  "
      ],
      "metadata": {
        "colab": {
          "base_uri": "https://localhost:8080/"
        },
        "id": "8Hq0NcvpCwzD",
        "outputId": "121fa538-c834-457d-ea73-dba2c2f094bb"
      },
      "execution_count": 8,
      "outputs": [
        {
          "output_type": "stream",
          "name": "stdout",
          "text": [
            "Male\n",
            "Female\n"
          ]
        }
      ]
    },
    {
      "cell_type": "markdown",
      "source": [
        "Question 4:\n",
        "Please write a program to generate all sentences where subject is in [\"I\", \"You\"] and verb is in [\"Play\", \"Love\"] and the object is in [\"Hockey\",\"Football\"]."
      ],
      "metadata": {
        "id": "dJ6WfvNmBnKZ"
      }
    },
    {
      "cell_type": "code",
      "source": [
        "subjects = [\"I\", \"You\"]\n",
        "verbs = [\"Play\", \"Love\"]\n",
        "objects = [\"Hockey\", \"Football\"]\n",
        "\n",
        "# Generating all possible sentences\n",
        "sentences = []\n",
        "for subject in subjects:\n",
        "    for verb in verbs:\n",
        "        for obj in objects:\n",
        "            sentence = f\"{subject} {verb} {obj}.\"\n",
        "            sentences.append(sentence)\n",
        "\n",
        "# Printing the sentences\n",
        "for sentence in sentences:\n",
        "    print(sentence)"
      ],
      "metadata": {
        "colab": {
          "base_uri": "https://localhost:8080/"
        },
        "id": "0Zttyi3dC8Jt",
        "outputId": "235fa553-90bb-47bb-983b-5b502a4a6b60"
      },
      "execution_count": 9,
      "outputs": [
        {
          "output_type": "stream",
          "name": "stdout",
          "text": [
            "I Play Hockey.\n",
            "I Play Football.\n",
            "I Love Hockey.\n",
            "I Love Football.\n",
            "You Play Hockey.\n",
            "You Play Football.\n",
            "You Love Hockey.\n",
            "You Love Football.\n"
          ]
        }
      ]
    },
    {
      "cell_type": "markdown",
      "source": [
        "Question 5:\n",
        "Please write a program to compress and decompress the string \"hello world!hello world!hello world!hello world!\"."
      ],
      "metadata": {
        "id": "n2fdHbwIBpNO"
      }
    },
    {
      "cell_type": "code",
      "source": [
        "import zlib\n",
        "original_string = \"hello world!hello world!hello world!hello world!\"\n",
        "print(\"Original string:\", original_string)\n",
        "\n",
        "# Compress the string\n",
        "compressed_string = zlib.compress(original_string.encode())\n",
        "print(\"Compressed string:\", compressed_string)\n",
        "\n",
        "# Decompress the string\n",
        "decompressed_string = zlib.decompress(compressed_string).decode()\n",
        "print(\"Decompressed string:\", decompressed_string)"
      ],
      "metadata": {
        "colab": {
          "base_uri": "https://localhost:8080/"
        },
        "id": "oytwFewCDKaS",
        "outputId": "da28e803-b858-4bbc-fed1-0891a6454652"
      },
      "execution_count": 10,
      "outputs": [
        {
          "output_type": "stream",
          "name": "stdout",
          "text": [
            "Original string: hello world!hello world!hello world!hello world!\n",
            "Compressed string: b'x\\x9c\\xcbH\\xcd\\xc9\\xc9W(\\xcf/\\xcaIQ\\xcc \\x82\\r\\x00\\xbd[\\x11\\xf5'\n",
            "Decompressed string: hello world!hello world!hello world!hello world!\n"
          ]
        }
      ]
    },
    {
      "cell_type": "markdown",
      "source": [
        "Question 6:\n",
        "Please write a binary search function which searches an item in a sorted list. The function should return the index of element to be searched in the list."
      ],
      "metadata": {
        "id": "NnFY34U7Brau"
      }
    },
    {
      "cell_type": "code",
      "source": [
        "def binary_search(arr, target):\n",
        "    low = 0\n",
        "    high = len(arr) - 1\n",
        "    \n",
        "    while low <= high:\n",
        "        mid = (low + high) // 2\n",
        "\n",
        "        if arr[mid] == target:\n",
        "            return mid\n",
        "        elif arr[mid] < target:\n",
        "            low = mid + 1\n",
        "        else:\n",
        "            high = mid - 1\n",
        "\n",
        "    return -1\n",
        "\n",
        "# Example usage\n",
        "sorted_list = [2, 5, 8, 12, 16, 23, 38, 56, 72, 91]\n",
        "target_element = 16\n",
        "\n",
        "result = binary_search(sorted_list, target_element)\n",
        "\n",
        "if result != -1:\n",
        "    print(f\"Element {target_element} found at index {result}\")\n",
        "else:\n",
        "    print(f\"Element {target_element} not found in the list\")"
      ],
      "metadata": {
        "colab": {
          "base_uri": "https://localhost:8080/"
        },
        "id": "TNbMhkE0DVgV",
        "outputId": "184c05b0-3e4b-4c07-9c91-0b4466bef7c4"
      },
      "execution_count": 11,
      "outputs": [
        {
          "output_type": "stream",
          "name": "stdout",
          "text": [
            "Element 16 found at index 4\n"
          ]
        }
      ]
    }
  ]
}