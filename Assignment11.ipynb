{
  "nbformat": 4,
  "nbformat_minor": 0,
  "metadata": {
    "colab": {
      "provenance": []
    },
    "kernelspec": {
      "name": "python3",
      "display_name": "Python 3"
    },
    "language_info": {
      "name": "python"
    }
  },
  "cells": [
    {
      "cell_type": "markdown",
      "source": [
        "1. Create an assert statement that throws an AssertionError if the variable spam is a negative integer."
      ],
      "metadata": {
        "id": "Q503CyZXXY03"
      }
    },
    {
      "cell_type": "code",
      "source": [
        "spam = int(-6) #-6 is negative number\n",
        "\n",
        "# Less than 0 is the error condition, not the expression for assert.\n",
        "assert spam >= 0, 'spam is Negative integer!'"
      ],
      "metadata": {
        "colab": {
          "base_uri": "https://localhost:8080/",
          "height": 206
        },
        "id": "cm9v0RDDoHmw",
        "outputId": "8c5a2058-3387-4aac-9fe8-6ad3f400d3d0"
      },
      "execution_count": 1,
      "outputs": [
        {
          "output_type": "error",
          "ename": "AssertionError",
          "evalue": "ignored",
          "traceback": [
            "\u001b[0;31m---------------------------------------------------------------------------\u001b[0m",
            "\u001b[0;31mAssertionError\u001b[0m                            Traceback (most recent call last)",
            "\u001b[0;32m<ipython-input-1-c411b13dd0ef>\u001b[0m in \u001b[0;36m<cell line: 4>\u001b[0;34m()\u001b[0m\n\u001b[1;32m      2\u001b[0m \u001b[0;34m\u001b[0m\u001b[0m\n\u001b[1;32m      3\u001b[0m \u001b[0;31m# Less than 0 is the error condition, not the expression for assert.\u001b[0m\u001b[0;34m\u001b[0m\u001b[0;34m\u001b[0m\u001b[0m\n\u001b[0;32m----> 4\u001b[0;31m \u001b[0;32massert\u001b[0m \u001b[0mspam\u001b[0m \u001b[0;34m>=\u001b[0m \u001b[0;36m0\u001b[0m\u001b[0;34m,\u001b[0m \u001b[0;34m'spam is Negative integer!'\u001b[0m\u001b[0;34m\u001b[0m\u001b[0;34m\u001b[0m\u001b[0m\n\u001b[0m",
            "\u001b[0;31mAssertionError\u001b[0m: spam is Negative integer!"
          ]
        }
      ]
    },
    {
      "cell_type": "markdown",
      "source": [
        "2. Write an assert statement that triggers an AssertionError if the variables eggs and bacon contain strings that are the same as each other, even if their cases are different (that is, 'hello' and 'hello' are considered the same, and 'goodbye' and 'GOODbye' are also considered the same)."
      ],
      "metadata": {
        "id": "41l8_cD9XdCe"
      }
    },
    {
      "cell_type": "code",
      "source": [
        "eggs = 'hello'\n",
        "bacon = 'HELLO'\n",
        "#here eggs and bacon have same string so it's triggers an AssertionError\n",
        "#Raise an AssertError if they are not different.\n",
        "assert eggs.lower() != bacon.lower(), 'eggs and bacon should not be the same!'\n",
        "print('eggs and bacon strings are diffrent')"
      ],
      "metadata": {
        "colab": {
          "base_uri": "https://localhost:8080/",
          "height": 224
        },
        "id": "1Bsjw_qCoNxv",
        "outputId": "33cc9529-e6be-4a75-8009-f13db4b3c681"
      },
      "execution_count": 2,
      "outputs": [
        {
          "output_type": "error",
          "ename": "AssertionError",
          "evalue": "ignored",
          "traceback": [
            "\u001b[0;31m---------------------------------------------------------------------------\u001b[0m",
            "\u001b[0;31mAssertionError\u001b[0m                            Traceback (most recent call last)",
            "\u001b[0;32m<ipython-input-2-1d8181b6313c>\u001b[0m in \u001b[0;36m<cell line: 5>\u001b[0;34m()\u001b[0m\n\u001b[1;32m      3\u001b[0m \u001b[0;31m#here eggs and bacon have same string so it's triggers an AssertionError\u001b[0m\u001b[0;34m\u001b[0m\u001b[0;34m\u001b[0m\u001b[0m\n\u001b[1;32m      4\u001b[0m \u001b[0;31m#Raise an AssertError if they are not different.\u001b[0m\u001b[0;34m\u001b[0m\u001b[0;34m\u001b[0m\u001b[0m\n\u001b[0;32m----> 5\u001b[0;31m \u001b[0;32massert\u001b[0m \u001b[0meggs\u001b[0m\u001b[0;34m.\u001b[0m\u001b[0mlower\u001b[0m\u001b[0;34m(\u001b[0m\u001b[0;34m)\u001b[0m \u001b[0;34m!=\u001b[0m \u001b[0mbacon\u001b[0m\u001b[0;34m.\u001b[0m\u001b[0mlower\u001b[0m\u001b[0;34m(\u001b[0m\u001b[0;34m)\u001b[0m\u001b[0;34m,\u001b[0m \u001b[0;34m'eggs and bacon should not be the same!'\u001b[0m\u001b[0;34m\u001b[0m\u001b[0;34m\u001b[0m\u001b[0m\n\u001b[0m\u001b[1;32m      6\u001b[0m \u001b[0mprint\u001b[0m\u001b[0;34m(\u001b[0m\u001b[0;34m'eggs and bacon strings are diffrent'\u001b[0m\u001b[0;34m)\u001b[0m\u001b[0;34m\u001b[0m\u001b[0;34m\u001b[0m\u001b[0m\n",
            "\u001b[0;31mAssertionError\u001b[0m: eggs and bacon should not be the same!"
          ]
        }
      ]
    },
    {
      "cell_type": "code",
      "source": [
        "eggs = 'hello'\n",
        "bacon = 'goodbye'\n",
        "#here eggs and bacon have diffrent  string \n",
        "#Raise an AssertError if they are not different.\n",
        "assert eggs.lower() != bacon.lower(), 'eggs/bacon should not be the same!'\n",
        "print('eggs and bacon strings are diffrent')"
      ],
      "metadata": {
        "colab": {
          "base_uri": "https://localhost:8080/"
        },
        "id": "uwMpfXq8oaG5",
        "outputId": "5d6cd76b-357a-4dd0-84e5-39e97d0b351b"
      },
      "execution_count": 3,
      "outputs": [
        {
          "output_type": "stream",
          "name": "stdout",
          "text": [
            "eggs and bacon strings are diffrent\n"
          ]
        }
      ]
    },
    {
      "cell_type": "markdown",
      "source": [
        "3. Create an assert statement that throws an AssertionError every time."
      ],
      "metadata": {
        "id": "WHqL4SGqXhug"
      }
    },
    {
      "cell_type": "code",
      "source": [
        "# assert True, 'Always triggers an AssertionError.'\n",
        "assert True, 'Always triggers an AssertionError.'"
      ],
      "metadata": {
        "id": "upc-sK7lok8c"
      },
      "execution_count": 4,
      "outputs": []
    },
    {
      "cell_type": "markdown",
      "source": [
        "4. What are the two lines that must be present in your software in order to call logging.debug()?"
      ],
      "metadata": {
        "id": "5_KCrDRaXliN"
      }
    },
    {
      "cell_type": "code",
      "source": [
        "import logging\n",
        "logging.basicConfig(\n",
        "    filename='programLog.txt',\n",
        "    level=logging.DEBUG,\n",
        "    format='%(asctime)s - %(levelname)s - %(message)s'\n",
        ")"
      ],
      "metadata": {
        "id": "y-nnZ4f1op51"
      },
      "execution_count": 5,
      "outputs": []
    },
    {
      "cell_type": "markdown",
      "source": [
        "5. What are the two lines that your program must have in order to have logging.debug() send a logging message to a file named programLog.txt?"
      ],
      "metadata": {
        "id": "4n_TH6mUXoWZ"
      }
    },
    {
      "cell_type": "code",
      "source": [
        "# Test a logging.debug('message')\n",
        "#  2019-08-03 12:24:50,549 - DEBUG - This is a test message.\n",
        "logging.debug('This is a test message.')"
      ],
      "metadata": {
        "id": "JSNO-bF4ot-3"
      },
      "execution_count": 6,
      "outputs": []
    },
    {
      "cell_type": "markdown",
      "source": [
        "6. What are the five levels of logging?"
      ],
      "metadata": {
        "id": "aav0vp-lXteR"
      }
    },
    {
      "cell_type": "markdown",
      "source": [
        "Five levels of loggings are:\n",
        "\n",
        "- logging.debug() - variable's state and small details\n",
        "- logging.info() - general events, confirm a program is working\n",
        "- logging.warning() - potiental problem to work on in the future\n",
        "- logging.error() - record an error that caused program to fail to do something\n",
        "- logging.critical() - fatal error that has caused"
      ],
      "metadata": {
        "id": "wMQ5lkTfo0uU"
      }
    },
    {
      "cell_type": "markdown",
      "source": [
        "7. What line of code would you add to your software to disable all logging messages?"
      ],
      "metadata": {
        "id": "qhF0bcS5Xv8_"
      }
    },
    {
      "cell_type": "code",
      "source": [
        "logging.disable(logging.DEBUG)"
      ],
      "metadata": {
        "id": "ROoHO_2JpCEq"
      },
      "execution_count": 8,
      "outputs": []
    },
    {
      "cell_type": "markdown",
      "source": [
        "8. Why is using logging messages better than using print() to display the same message?\n",
        "- Logging meesage is better bthat using print() because with print, when your program is ready for production, you still have to \"remove\" or comment it out. Verses logging message, you can toggle the setting on/off or write to a file (send to a server). It is more flexible especially with logging level 1-5."
      ],
      "metadata": {
        "id": "rhhZTAxaXyfz"
      }
    },
    {
      "cell_type": "markdown",
      "source": [
        "9. What are the differences between the Step Over, Step In, and Step Out buttons in the debugger?\n",
        "- Step - one line execution at a time Over - excecute the next line of code, but if it is a program, it will complete the entire function call. out - execute the lines of code unti it returns from the current function. (out is useful when you stepped into a function call)."
      ],
      "metadata": {
        "id": "jbBZtjk1X4iS"
      }
    },
    {
      "cell_type": "markdown",
      "source": [
        "10. After you click Continue, when will the debugger stop ?\n",
        "- Go runs until the program terminate or reaches a breakpoint set."
      ],
      "metadata": {
        "id": "H4GhNoq0X7PU"
      }
    },
    {
      "cell_type": "markdown",
      "source": [
        "11. What is the concept of a breakpoint?\n",
        "- When you have Debugger enabled and you can right click on any lines to create a breakpoint. During Go - it will stop there and await your next command."
      ],
      "metadata": {
        "id": "TbEBQqUJYAO5"
      }
    }
  ]
}