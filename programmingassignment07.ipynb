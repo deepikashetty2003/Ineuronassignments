{
  "nbformat": 4,
  "nbformat_minor": 0,
  "metadata": {
    "colab": {
      "provenance": []
    },
    "kernelspec": {
      "name": "python3",
      "display_name": "Python 3"
    },
    "language_info": {
      "name": "python"
    }
  },
  "cells": [
    {
      "cell_type": "markdown",
      "source": [
        "1.\tWrite a Python Program to find sum of array?"
      ],
      "metadata": {
        "id": "gfi-GwwZhG7P"
      }
    },
    {
      "cell_type": "code",
      "execution_count": 1,
      "metadata": {
        "id": "ezMCI2UEhF8R",
        "colab": {
          "base_uri": "https://localhost:8080/"
        },
        "outputId": "612d1e9c-52dc-4bd7-f5ad-6d0a581d62b7"
      },
      "outputs": [
        {
          "output_type": "stream",
          "name": "stdout",
          "text": [
            "Sum: 15\n"
          ]
        }
      ],
      "source": [
        "array = [1, 2, 3, 4, 5]\n",
        "total = 0\n",
        "for num in array:\n",
        "    total += num\n",
        "print(\"Sum:\", total)"
      ]
    },
    {
      "cell_type": "markdown",
      "source": [
        "2.\tWrite a Python Program to find largest element in an array?"
      ],
      "metadata": {
        "id": "bEuKozOehJme"
      }
    },
    {
      "cell_type": "code",
      "source": [
        "array = [5, 10, 2, 15, 8]\n",
        "# Initialize the largest element\n",
        "largest = array[0]\n",
        "# Iterate over array elements and find the largest element\n",
        "for num in array:\n",
        "    if num > largest:\n",
        "        largest = num\n",
        "print(\"Largest element:\", largest)"
      ],
      "metadata": {
        "colab": {
          "base_uri": "https://localhost:8080/"
        },
        "id": "SZrtanzckrqB",
        "outputId": "d60fda7d-cff1-4040-e0c1-cae35ea4f43f"
      },
      "execution_count": 10,
      "outputs": [
        {
          "output_type": "stream",
          "name": "stdout",
          "text": [
            "Largest element: 15\n"
          ]
        }
      ]
    },
    {
      "cell_type": "markdown",
      "source": [
        "3.\tWrite a Python Program for array rotation?"
      ],
      "metadata": {
        "id": "IGTpgDJQhLJy"
      }
    },
    {
      "cell_type": "code",
      "source": [
        "array = [1, 2, 3, 4, 5]\n",
        "# Number of rotations\n",
        "k = 2\n",
        "# Perform array rotation\n",
        "for _ in range(k):\n",
        "    temp = array[0]\n",
        "    for i in range(len(array) - 1):\n",
        "        array[i] = array[i + 1]\n",
        "    array[-1] = temp\n",
        "# Print the rotated array\n",
        "print(\"Rotated array:\", array)"
      ],
      "metadata": {
        "colab": {
          "base_uri": "https://localhost:8080/"
        },
        "id": "6pN_txdbksJq",
        "outputId": "f877aa74-d60e-4251-e49a-61711ae384be"
      },
      "execution_count": 12,
      "outputs": [
        {
          "output_type": "stream",
          "name": "stdout",
          "text": [
            "Rotated array: [3, 4, 5, 1, 2]\n"
          ]
        }
      ]
    },
    {
      "cell_type": "markdown",
      "source": [
        "4.\tWrite a Python Program to Split the array and add the first part to the end?"
      ],
      "metadata": {
        "id": "se3yKziEhMln"
      }
    },
    {
      "cell_type": "code",
      "source": [
        "array = [1, 2, 3, 4, 5]\n",
        "# Split position\n",
        "split_pos = 2\n",
        "# Perform array splitting and addition\n",
        "first_part = array[:split_pos]\n",
        "second_part = array[split_pos:]\n",
        "rotated_array = second_part + first_part\n",
        "\n",
        "# Print the rotated array\n",
        "print(\"Rotated array:\", rotated_array)"
      ],
      "metadata": {
        "colab": {
          "base_uri": "https://localhost:8080/"
        },
        "id": "5IKlry11ktdk",
        "outputId": "3f8a99d7-2803-4762-eda8-9025e5415971"
      },
      "execution_count": 15,
      "outputs": [
        {
          "output_type": "stream",
          "name": "stdout",
          "text": [
            "Rotated array: [3, 4, 5, 1, 2]\n"
          ]
        }
      ]
    },
    {
      "cell_type": "markdown",
      "source": [
        "5.\tWrite a Python Program to check if given array is Monotonic?"
      ],
      "metadata": {
        "id": "dMFqnumPhOC5"
      }
    },
    {
      "cell_type": "code",
      "source": [
        "array = [1, 2, 3, 4, 5]\n",
        "# Determine if the array is monotonic\n",
        "is_monotonic = True\n",
        "# Check if the array is non-increasing\n",
        "if all(array[i] >= array[i + 1] for i in range(len(array) - 1)):\n",
        "    is_monotonic = True\n",
        "# Check if the array is non-decreasing\n",
        "elif all(array[i] <= array[i + 1] for i in range(len(array) - 1)):\n",
        "    is_monotonic = True\n",
        "else:\n",
        "    is_monotonic = False\n",
        "# Print the result\n",
        "if is_monotonic:\n",
        "    print(\"The array is monotonic.\")\n",
        "else:\n",
        "    print(\"The array is not monotonic.\")\n"
      ],
      "metadata": {
        "colab": {
          "base_uri": "https://localhost:8080/"
        },
        "id": "aWtxS1O5kt_y",
        "outputId": "94a028dc-a663-4da3-8c4e-40387185798b"
      },
      "execution_count": 14,
      "outputs": [
        {
          "output_type": "stream",
          "name": "stdout",
          "text": [
            "The array is monotonic.\n"
          ]
        }
      ]
    }
  ]
}