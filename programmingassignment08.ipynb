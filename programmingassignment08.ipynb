{
  "nbformat": 4,
  "nbformat_minor": 0,
  "metadata": {
    "colab": {
      "provenance": []
    },
    "kernelspec": {
      "name": "python3",
      "display_name": "Python 3"
    },
    "language_info": {
      "name": "python"
    }
  },
  "cells": [
    {
      "cell_type": "markdown",
      "source": [
        "1.\tWrite a Python Program to Add Two Matrices?"
      ],
      "metadata": {
        "id": "PeydoLGHijqr"
      }
    },
    {
      "cell_type": "code",
      "execution_count": 7,
      "metadata": {
        "id": "f5woNIcmifQ6",
        "colab": {
          "base_uri": "https://localhost:8080/"
        },
        "outputId": "485c6afb-6d36-4c61-f127-8d6854ed8f68"
      },
      "outputs": [
        {
          "output_type": "stream",
          "name": "stdout",
          "text": [
            "[10, 10, 10]\n",
            "[10, 10, 10]\n",
            "[10, 10, 10]\n"
          ]
        }
      ],
      "source": [
        "matrix1 = [[1, 2, 3],\n",
        "           [4, 5, 6],\n",
        "           [7, 8, 9]]\n",
        "\n",
        "matrix2 = [[9, 8, 7],\n",
        "           [6, 5, 4],\n",
        "           [3, 2, 1]]\n",
        "# Resultant matrix (initialized with zeros)\n",
        "result = [[0, 0, 0],\n",
        "          [0, 0, 0],\n",
        "          [0, 0, 0]]\n",
        "\n",
        "# Add the matrices element-wise\n",
        "for i in range(len(matrix1)):\n",
        "    for j in range(len(matrix1[0])):\n",
        "        result[i][j] = matrix1[i][j] + matrix2[i][j]\n",
        "# Print the results\n",
        "for row in result:\n",
        "    print(row)"
      ]
    },
    {
      "cell_type": "markdown",
      "source": [
        "2.\tWrite a Python Program to Multiply Two Matrices?"
      ],
      "metadata": {
        "id": "X6n-WJwQil5I"
      }
    },
    {
      "cell_type": "code",
      "source": [
        "matrix1 = [[1, 2, 3],\n",
        "           [4, 5, 6],\n",
        "           [7, 8, 9]]\n",
        "matrix2 = [[9, 8, 7],\n",
        "           [6, 5, 4],\n",
        "           [3, 2, 1]]\n",
        "# Resultant matrix (initialized with zeros)\n",
        "result = [[0, 0, 0],\n",
        "          [0, 0, 0],\n",
        "          [0, 0, 0]]\n",
        "# Perform matrix multiplication\n",
        "for i in range(len(matrix1)):\n",
        "    for j in range(len(matrix2[0])):\n",
        "        for k in range(len(matrix2)):\n",
        "            result[i][j] += matrix1[i][k] * matrix2[k][j]\n",
        "# Print the results\n",
        "for row in result:\n",
        "    print(row)"
      ],
      "metadata": {
        "id": "h9kbxmi7inVn",
        "colab": {
          "base_uri": "https://localhost:8080/"
        },
        "outputId": "cef34b7e-1011-4b3b-8f88-ea7aa6c7b776"
      },
      "execution_count": 8,
      "outputs": [
        {
          "output_type": "stream",
          "name": "stdout",
          "text": [
            "[30, 24, 18]\n",
            "[84, 69, 54]\n",
            "[138, 114, 90]\n"
          ]
        }
      ]
    },
    {
      "cell_type": "markdown",
      "source": [
        "3.\tWrite a Python Program to Transpose a Matrix?"
      ],
      "metadata": {
        "id": "5EE-yfnHioal"
      }
    },
    {
      "cell_type": "code",
      "source": [
        "matrix = [[1, 2, 3],\n",
        "          [4, 5, 6],\n",
        "          [7, 8, 9]]\n",
        "num_rows = len(matrix)\n",
        "num_cols = len(matrix[0])\n",
        "# Transposed matrix (initialized with zeros)\n",
        "transposed = [[0 for _ in range(num_rows)] for _ in range(num_cols)]\n",
        "# Perform matrix transposition\n",
        "for i in range(num_rows):\n",
        "    for j in range(num_cols):\n",
        "        transposed[j][i] = matrix[i][j]\n",
        "# Print the transposed matrix\n",
        "for row in transposed:\n",
        "    print(row)"
      ],
      "metadata": {
        "id": "c9o6HBIYiuvi",
        "colab": {
          "base_uri": "https://localhost:8080/"
        },
        "outputId": "88ec83c3-a512-437b-f237-b8ae83dc1fe2"
      },
      "execution_count": 9,
      "outputs": [
        {
          "output_type": "stream",
          "name": "stdout",
          "text": [
            "[1, 4, 7]\n",
            "[2, 5, 8]\n",
            "[3, 6, 9]\n"
          ]
        }
      ]
    },
    {
      "cell_type": "markdown",
      "source": [
        "4.\tWrite a Python Program to Sort Words in Alphabetic Order?"
      ],
      "metadata": {
        "id": "yEpzq2Wqip7f"
      }
    },
    {
      "cell_type": "code",
      "source": [
        "words = [\"banana\", \"apple\", \"cherry\", \"date\", \"fig\"]\n",
        "n = len(words) #using bubble sort\n",
        "for i in range(n - 1):\n",
        "    for j in range(n - i - 1):\n",
        "        # Compare adjacent words and swap if necessary\n",
        "        if words[j] > words[j + 1]:\n",
        "            words[j], words[j + 1] = words[j + 1], words[j]\n",
        "# Print the sorted words\n",
        "for word in words:\n",
        "    print(word)"
      ],
      "metadata": {
        "id": "fl1cc4cSivMg",
        "colab": {
          "base_uri": "https://localhost:8080/"
        },
        "outputId": "61829278-40fe-440f-b087-07cb4a94eb06"
      },
      "execution_count": 10,
      "outputs": [
        {
          "output_type": "stream",
          "name": "stdout",
          "text": [
            "apple\n",
            "banana\n",
            "cherry\n",
            "date\n",
            "fig\n"
          ]
        }
      ]
    },
    {
      "cell_type": "markdown",
      "source": [
        "5.\tWrite a Python Program to Remove Punctuation From a String?"
      ],
      "metadata": {
        "id": "8y6czbaoirkn"
      }
    },
    {
      "cell_type": "code",
      "source": [
        "string = \"Hello, world! How are you?\"\n",
        "punctuation = '''!()-[]{};:'\"\\,<>./?@#$%^&*_~'''     # Punctuation marks\n",
        "# Remove punctuation from the string\n",
        "no_punctuation = \"\"\n",
        "for char in string:\n",
        "    if char not in punctuation:\n",
        "        no_punctuation += char\n",
        "# Print the string without punctuation\n",
        "print(no_punctuation)"
      ],
      "metadata": {
        "id": "pouUnIw5iweK",
        "colab": {
          "base_uri": "https://localhost:8080/"
        },
        "outputId": "1e8dc68e-30ed-4e50-82e0-eb54a9dd0354"
      },
      "execution_count": 11,
      "outputs": [
        {
          "output_type": "stream",
          "name": "stdout",
          "text": [
            "Hello world How are you\n"
          ]
        }
      ]
    }
  ]
}